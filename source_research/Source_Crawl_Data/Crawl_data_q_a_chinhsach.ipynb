{
 "cells": [
  {
   "cell_type": "markdown",
   "metadata": {},
   "source": [
    "### 1. Import Library"
   ]
  },
  {
   "cell_type": "code",
   "execution_count": 1,
   "metadata": {},
   "outputs": [],
   "source": [
    "import requests\n",
    "from bs4 import BeautifulSoup\n",
    "from fpdf import FPDF\n",
    "import pandas as pd"
   ]
  },
  {
   "cell_type": "markdown",
   "metadata": {},
   "source": [
    "### 2.Crawl_data_q_a"
   ]
  },
  {
   "cell_type": "markdown",
   "metadata": {},
   "source": [
    "#### 2.1.Find Elements"
   ]
  },
  {
   "cell_type": "code",
   "execution_count": 2,
   "metadata": {},
   "outputs": [],
   "source": [
    "# Hàm để cào dữ liệu từ một trang\n",
    "def crawl_page(url):\n",
    "    response = requests.get(url)\n",
    "    soup = BeautifulSoup(response.content, 'html.parser')\n",
    "    articles = soup.find_all('div', class_='box-item-content')\n",
    "    articles_data = []\n",
    "    \n",
    "    for _, article in enumerate(articles, start=1):\n",
    "        # Lấy thông tin tác giả và thời gian\n",
    "        author_info = article.find('div', class_='box-item-top')\n",
    "        name = author_info.find('span', class_='author').get_text(strip=True)\n",
    "        time = author_info.find('span', class_='time').get_text(strip=True)\n",
    "\n",
    "        # Lấy tiêu đề câu hỏi\n",
    "        question_element = article.find('a', class_='question-title')\n",
    "        question = question_element.get_text(strip=True)\n",
    "        \n",
    "        # Lấy tình huống\n",
    "        summary = article.find('div', class_='question-sapo').get_text(strip=True)\n",
    "        \n",
    "        # Lấy liên kết chi tiết\n",
    "        detail_link = article.find('a', class_='box-viewmore')['href']\n",
    "        detail_url = f\"https://chinhsachonline.chinhphu.vn{detail_link}\"\n",
    "        \n",
    "        # Gửi yêu cầu HTTP để lấy nội dung trang chi tiết\n",
    "        detail_response = requests.get(detail_url)\n",
    "        detail_soup = BeautifulSoup(detail_response.content, 'html.parser')\n",
    "        \n",
    "        # Lấy câu trả lời từ trang chi tiết\n",
    "        answer_div = detail_soup.find('div', class_='detail__rcontent')\n",
    "        answer = answer_div.get_text(strip=True) if answer_div else 'No answer available'\n",
    "        \n",
    "        # Thêm thông tin bài viết vào danh sách\n",
    "        articles_data.append({\n",
    "            'Name': name,\n",
    "            'Time': time,\n",
    "            'Question': question,\n",
    "            'Situation': summary,\n",
    "            'Answer': answer\n",
    "        })\n",
    "    \n",
    "    return articles_data\n"
   ]
  },
  {
   "cell_type": "markdown",
   "metadata": {},
   "source": [
    "#### 2.2.Execute Function"
   ]
  },
  {
   "cell_type": "code",
   "execution_count": 3,
   "metadata": {},
   "outputs": [],
   "source": [
    "articles_data = []\n",
    "for page_num in range(1, 350):  # Thay đổi phạm vi để bao gồm số trang bạn cần\n",
    "    \n",
    "    page_url = f\"https://chinhsachonline.chinhphu.vn/chinh-sach-voi-nguoi-co-cong/t1/2/trang-{page_num}.htm\"\n",
    "    articles_data.extend(crawl_page(page_url))"
   ]
  },
  {
   "cell_type": "markdown",
   "metadata": {},
   "source": [
    "#### 2.3 Export csv"
   ]
  },
  {
   "cell_type": "code",
   "execution_count": 4,
   "metadata": {},
   "outputs": [
    {
     "data": {
      "text/html": [
       "<div>\n",
       "<style scoped>\n",
       "    .dataframe tbody tr th:only-of-type {\n",
       "        vertical-align: middle;\n",
       "    }\n",
       "\n",
       "    .dataframe tbody tr th {\n",
       "        vertical-align: top;\n",
       "    }\n",
       "\n",
       "    .dataframe thead th {\n",
       "        text-align: right;\n",
       "    }\n",
       "</style>\n",
       "<table border=\"1\" class=\"dataframe\">\n",
       "  <thead>\n",
       "    <tr style=\"text-align: right;\">\n",
       "      <th></th>\n",
       "      <th>Name</th>\n",
       "      <th>Time</th>\n",
       "      <th>Question</th>\n",
       "      <th>Situation</th>\n",
       "      <th>Answer</th>\n",
       "    </tr>\n",
       "  </thead>\n",
       "  <tbody>\n",
       "    <tr>\n",
       "      <th>0</th>\n",
       "      <td>Nguyễn Văn Dũng</td>\n",
       "      <td>08:10 08/08/2024</td>\n",
       "      <td>Vợ liệt sĩ tái giá có được chế độ mai táng phí?</td>\n",
       "      <td>Tôi xin hỏi, vợ liệt sĩ tái giá, hưởng trợ cấp...</td>\n",
       "      <td>Bộ Lao động – Thương binh và Xã hội trả lời vấ...</td>\n",
       "    </tr>\n",
       "    <tr>\n",
       "      <th>1</th>\n",
       "      <td>Ngọc Huyền</td>\n",
       "      <td>15:32 02/07/2024</td>\n",
       "      <td>Người làm nghĩa vụ quốc tế có được giảm tiền s...</td>\n",
       "      <td>Bố tôi là cựu chiến binh, thực hiện nghĩa vụ q...</td>\n",
       "      <td>Bộ Lao động – Thương binh và Xã hội trả lời vấ...</td>\n",
       "    </tr>\n",
       "    <tr>\n",
       "      <th>2</th>\n",
       "      <td>Trần Anh Túc</td>\n",
       "      <td>16:53 28/06/2024</td>\n",
       "      <td>Căn cứ xác định người có công giúp đỡ cách mạng</td>\n",
       "      <td>Theo quy định tại Điều 38 Pháp lệnh Ưu đãi ngư...</td>\n",
       "      <td>Bộ Lao động – Thương binh và Xã hội trả lời vấ...</td>\n",
       "    </tr>\n",
       "    <tr>\n",
       "      <th>3</th>\n",
       "      <td>Nguyễn Đức Lộc</td>\n",
       "      <td>07:05 09/06/2024</td>\n",
       "      <td>Trường hợp nào được giảm 80% tiền sử dụng đất?</td>\n",
       "      <td>Tôi là người hoạt động kháng chiến bị nhiễm ch...</td>\n",
       "      <td>Bộ Lao động – Thương binh và Xã hội trả lời vấ...</td>\n",
       "    </tr>\n",
       "    <tr>\n",
       "      <th>4</th>\n",
       "      <td>Nguyễn Thị Tân</td>\n",
       "      <td>09:55 07/06/2024</td>\n",
       "      <td>Điều kiện thân nhân thương binh được trợ cấp t...</td>\n",
       "      <td>Chồng tôi tham gia cách mạng, là thương binh l...</td>\n",
       "      <td>Bộ Lao động – Thương binh và Xã hội trả lời vấ...</td>\n",
       "    </tr>\n",
       "  </tbody>\n",
       "</table>\n",
       "</div>"
      ],
      "text/plain": [
       "              Name              Time  \\\n",
       "0  Nguyễn Văn Dũng  08:10 08/08/2024   \n",
       "1       Ngọc Huyền  15:32 02/07/2024   \n",
       "2     Trần Anh Túc  16:53 28/06/2024   \n",
       "3   Nguyễn Đức Lộc  07:05 09/06/2024   \n",
       "4   Nguyễn Thị Tân  09:55 07/06/2024   \n",
       "\n",
       "                                            Question  \\\n",
       "0    Vợ liệt sĩ tái giá có được chế độ mai táng phí?   \n",
       "1  Người làm nghĩa vụ quốc tế có được giảm tiền s...   \n",
       "2    Căn cứ xác định người có công giúp đỡ cách mạng   \n",
       "3     Trường hợp nào được giảm 80% tiền sử dụng đất?   \n",
       "4  Điều kiện thân nhân thương binh được trợ cấp t...   \n",
       "\n",
       "                                           Situation  \\\n",
       "0  Tôi xin hỏi, vợ liệt sĩ tái giá, hưởng trợ cấp...   \n",
       "1  Bố tôi là cựu chiến binh, thực hiện nghĩa vụ q...   \n",
       "2  Theo quy định tại Điều 38 Pháp lệnh Ưu đãi ngư...   \n",
       "3  Tôi là người hoạt động kháng chiến bị nhiễm ch...   \n",
       "4  Chồng tôi tham gia cách mạng, là thương binh l...   \n",
       "\n",
       "                                              Answer  \n",
       "0  Bộ Lao động – Thương binh và Xã hội trả lời vấ...  \n",
       "1  Bộ Lao động – Thương binh và Xã hội trả lời vấ...  \n",
       "2  Bộ Lao động – Thương binh và Xã hội trả lời vấ...  \n",
       "3  Bộ Lao động – Thương binh và Xã hội trả lời vấ...  \n",
       "4  Bộ Lao động – Thương binh và Xã hội trả lời vấ...  "
      ]
     },
     "execution_count": 4,
     "metadata": {},
     "output_type": "execute_result"
    }
   ],
   "source": [
    "# Tạo DataFrame từ danh sách dữ liệu\n",
    "df_chinhsach = pd.DataFrame(articles_data)\n",
    "df_chinhsach.head(5)"
   ]
  },
  {
   "cell_type": "code",
   "execution_count": 5,
   "metadata": {},
   "outputs": [
    {
     "name": "stdout",
     "output_type": "stream",
     "text": [
      "Successfully saved data to ../data/data_tinhhuong/chinhsach_nguoicocong.csv\n"
     ]
    }
   ],
   "source": [
    "\n",
    "# Lưu DataFrame vào file CSV\n",
    "csv_file = '../data/data_tinhhuong/chinhsach_nguoicocong_data.csv'\n",
    "df_chinhsach.to_csv(csv_file, encoding='utf-8',index_label='Index')\n",
    "\n",
    "print(f\"Successfully saved data to {csv_file}\")"
   ]
  },
  {
   "cell_type": "code",
   "execution_count": 6,
   "metadata": {},
   "outputs": [],
   "source": [
    "df_chinhsach=pd.read_csv(\"../data/data_tinhhuong/chinhsach_nguoicocong_data.csv\",encoding='utf-8')"
   ]
  },
  {
   "cell_type": "code",
   "execution_count": 7,
   "metadata": {},
   "outputs": [
    {
     "data": {
      "text/html": [
       "<div>\n",
       "<style scoped>\n",
       "    .dataframe tbody tr th:only-of-type {\n",
       "        vertical-align: middle;\n",
       "    }\n",
       "\n",
       "    .dataframe tbody tr th {\n",
       "        vertical-align: top;\n",
       "    }\n",
       "\n",
       "    .dataframe thead th {\n",
       "        text-align: right;\n",
       "    }\n",
       "</style>\n",
       "<table border=\"1\" class=\"dataframe\">\n",
       "  <thead>\n",
       "    <tr style=\"text-align: right;\">\n",
       "      <th></th>\n",
       "      <th>Index</th>\n",
       "      <th>Name</th>\n",
       "      <th>Time</th>\n",
       "      <th>Question</th>\n",
       "      <th>Situation</th>\n",
       "      <th>Answer</th>\n",
       "    </tr>\n",
       "  </thead>\n",
       "  <tbody>\n",
       "    <tr>\n",
       "      <th>0</th>\n",
       "      <td>0</td>\n",
       "      <td>Nguyễn Văn Dũng</td>\n",
       "      <td>08:10 08/08/2024</td>\n",
       "      <td>Vợ liệt sĩ tái giá có được chế độ mai táng phí?</td>\n",
       "      <td>Tôi xin hỏi, vợ liệt sĩ tái giá, hưởng trợ cấp...</td>\n",
       "      <td>Bộ Lao động – Thương binh và Xã hội trả lời vấ...</td>\n",
       "    </tr>\n",
       "    <tr>\n",
       "      <th>1</th>\n",
       "      <td>1</td>\n",
       "      <td>Ngọc Huyền</td>\n",
       "      <td>15:32 02/07/2024</td>\n",
       "      <td>Người làm nghĩa vụ quốc tế có được giảm tiền s...</td>\n",
       "      <td>Bố tôi là cựu chiến binh, thực hiện nghĩa vụ q...</td>\n",
       "      <td>Bộ Lao động – Thương binh và Xã hội trả lời vấ...</td>\n",
       "    </tr>\n",
       "    <tr>\n",
       "      <th>2</th>\n",
       "      <td>2</td>\n",
       "      <td>Trần Anh Túc</td>\n",
       "      <td>16:53 28/06/2024</td>\n",
       "      <td>Căn cứ xác định người có công giúp đỡ cách mạng</td>\n",
       "      <td>Theo quy định tại Điều 38 Pháp lệnh Ưu đãi ngư...</td>\n",
       "      <td>Bộ Lao động – Thương binh và Xã hội trả lời vấ...</td>\n",
       "    </tr>\n",
       "    <tr>\n",
       "      <th>3</th>\n",
       "      <td>3</td>\n",
       "      <td>Nguyễn Đức Lộc</td>\n",
       "      <td>07:05 09/06/2024</td>\n",
       "      <td>Trường hợp nào được giảm 80% tiền sử dụng đất?</td>\n",
       "      <td>Tôi là người hoạt động kháng chiến bị nhiễm ch...</td>\n",
       "      <td>Bộ Lao động – Thương binh và Xã hội trả lời vấ...</td>\n",
       "    </tr>\n",
       "    <tr>\n",
       "      <th>4</th>\n",
       "      <td>4</td>\n",
       "      <td>Nguyễn Thị Tân</td>\n",
       "      <td>09:55 07/06/2024</td>\n",
       "      <td>Điều kiện thân nhân thương binh được trợ cấp t...</td>\n",
       "      <td>Chồng tôi tham gia cách mạng, là thương binh l...</td>\n",
       "      <td>Bộ Lao động – Thương binh và Xã hội trả lời vấ...</td>\n",
       "    </tr>\n",
       "  </tbody>\n",
       "</table>\n",
       "</div>"
      ],
      "text/plain": [
       "   Index             Name              Time  \\\n",
       "0      0  Nguyễn Văn Dũng  08:10 08/08/2024   \n",
       "1      1       Ngọc Huyền  15:32 02/07/2024   \n",
       "2      2     Trần Anh Túc  16:53 28/06/2024   \n",
       "3      3   Nguyễn Đức Lộc  07:05 09/06/2024   \n",
       "4      4   Nguyễn Thị Tân  09:55 07/06/2024   \n",
       "\n",
       "                                            Question  \\\n",
       "0    Vợ liệt sĩ tái giá có được chế độ mai táng phí?   \n",
       "1  Người làm nghĩa vụ quốc tế có được giảm tiền s...   \n",
       "2    Căn cứ xác định người có công giúp đỡ cách mạng   \n",
       "3     Trường hợp nào được giảm 80% tiền sử dụng đất?   \n",
       "4  Điều kiện thân nhân thương binh được trợ cấp t...   \n",
       "\n",
       "                                           Situation  \\\n",
       "0  Tôi xin hỏi, vợ liệt sĩ tái giá, hưởng trợ cấp...   \n",
       "1  Bố tôi là cựu chiến binh, thực hiện nghĩa vụ q...   \n",
       "2  Theo quy định tại Điều 38 Pháp lệnh Ưu đãi ngư...   \n",
       "3  Tôi là người hoạt động kháng chiến bị nhiễm ch...   \n",
       "4  Chồng tôi tham gia cách mạng, là thương binh l...   \n",
       "\n",
       "                                              Answer  \n",
       "0  Bộ Lao động – Thương binh và Xã hội trả lời vấ...  \n",
       "1  Bộ Lao động – Thương binh và Xã hội trả lời vấ...  \n",
       "2  Bộ Lao động – Thương binh và Xã hội trả lời vấ...  \n",
       "3  Bộ Lao động – Thương binh và Xã hội trả lời vấ...  \n",
       "4  Bộ Lao động – Thương binh và Xã hội trả lời vấ...  "
      ]
     },
     "execution_count": 7,
     "metadata": {},
     "output_type": "execute_result"
    }
   ],
   "source": [
    "df_chinhsach.head(5)"
   ]
  }
 ],
 "metadata": {
  "kernelspec": {
   "display_name": "machinelearning-lTTH8rYd",
   "language": "python",
   "name": "python3"
  },
  "language_info": {
   "codemirror_mode": {
    "name": "ipython",
    "version": 3
   },
   "file_extension": ".py",
   "mimetype": "text/x-python",
   "name": "python",
   "nbconvert_exporter": "python",
   "pygments_lexer": "ipython3",
   "version": "3.11.5"
  }
 },
 "nbformat": 4,
 "nbformat_minor": 2
}
