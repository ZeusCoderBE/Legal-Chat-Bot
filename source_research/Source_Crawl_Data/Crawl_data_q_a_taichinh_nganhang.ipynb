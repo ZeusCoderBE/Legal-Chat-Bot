{
 "cells": [
  {
   "cell_type": "markdown",
   "metadata": {},
   "source": [
    "### 1. Import Library"
   ]
  },
  {
   "cell_type": "code",
   "execution_count": 14,
   "metadata": {},
   "outputs": [],
   "source": [
    "import requests\n",
    "from bs4 import BeautifulSoup\n",
    "from fpdf import FPDF\n",
    "import pandas as pd"
   ]
  },
  {
   "cell_type": "markdown",
   "metadata": {},
   "source": [
    "### 2.Crawl_data_q_a"
   ]
  },
  {
   "cell_type": "markdown",
   "metadata": {},
   "source": [
    "#### 2.1.Find Elements"
   ]
  },
  {
   "cell_type": "code",
   "execution_count": 15,
   "metadata": {},
   "outputs": [],
   "source": [
    "# Hàm để cào dữ liệu từ một trang\n",
    "def crawl_page(url):\n",
    "    response = requests.get(url)\n",
    "    soup = BeautifulSoup(response.content, 'html.parser')\n",
    "    articles = soup.find_all('div', class_='box-item-content')\n",
    "    articles_data = []\n",
    "    \n",
    "    for _, article in enumerate(articles, start=1):\n",
    "        # Lấy thông tin tác giả và thời gian\n",
    "        author_info = article.find('div', class_='box-item-top')\n",
    "        name = author_info.find('span', class_='author').get_text(strip=True)\n",
    "        time = author_info.find('span', class_='time').get_text(strip=True)\n",
    "\n",
    "        # Lấy tiêu đề câu hỏi\n",
    "        question_element = article.find('a', class_='question-title')\n",
    "        question = question_element.get_text(strip=True)\n",
    "        \n",
    "        # Lấy tình huống\n",
    "        summary = article.find('div', class_='question-sapo').get_text(strip=True)\n",
    "        \n",
    "        # Lấy liên kết chi tiết\n",
    "        detail_link = article.find('a', class_='box-viewmore')['href']\n",
    "        detail_url = f\"https://chinhsachonline.chinhphu.vn{detail_link}\"\n",
    "        \n",
    "        # Gửi yêu cầu HTTP để lấy nội dung trang chi tiết\n",
    "        detail_response = requests.get(detail_url)\n",
    "        detail_soup = BeautifulSoup(detail_response.content, 'html.parser')\n",
    "        \n",
    "        # Lấy câu trả lời từ trang chi tiết\n",
    "        answer_div = detail_soup.find('div', class_='detail__rcontent')\n",
    "        answer = answer_div.get_text(strip=True) if answer_div else 'No answer available'\n",
    "        \n",
    "        # Thêm thông tin bài viết vào danh sách\n",
    "        articles_data.append({\n",
    "            'Name': name,\n",
    "            'Time': time,\n",
    "            'Question': question,\n",
    "            'Situation': summary,\n",
    "            'Answer': answer\n",
    "        })\n",
    "    \n",
    "    return articles_data\n"
   ]
  },
  {
   "cell_type": "markdown",
   "metadata": {},
   "source": [
    "#### 2.2.Execute Function"
   ]
  },
  {
   "cell_type": "code",
   "execution_count": 16,
   "metadata": {},
   "outputs": [],
   "source": [
    "articles_data = []\n",
    "for page_num in range(1, 350):  # Thay đổi phạm vi để bao gồm số trang bạn cần\n",
    "    \n",
    "    page_url = f\"https://chinhsachonline.chinhphu.vn/tai-chinh-ngan-hang-dau-tu-cong-thuong/t1/14/trang-{page_num}.htm\"\n",
    "    articles_data.extend(crawl_page(page_url))\n",
    "    "
   ]
  },
  {
   "cell_type": "markdown",
   "metadata": {},
   "source": [
    "#### 2.3 Export csv"
   ]
  },
  {
   "cell_type": "code",
   "execution_count": 17,
   "metadata": {},
   "outputs": [
    {
     "data": {
      "text/html": [
       "<div>\n",
       "<style scoped>\n",
       "    .dataframe tbody tr th:only-of-type {\n",
       "        vertical-align: middle;\n",
       "    }\n",
       "\n",
       "    .dataframe tbody tr th {\n",
       "        vertical-align: top;\n",
       "    }\n",
       "\n",
       "    .dataframe thead th {\n",
       "        text-align: right;\n",
       "    }\n",
       "</style>\n",
       "<table border=\"1\" class=\"dataframe\">\n",
       "  <thead>\n",
       "    <tr style=\"text-align: right;\">\n",
       "      <th></th>\n",
       "      <th>Name</th>\n",
       "      <th>Time</th>\n",
       "      <th>Question</th>\n",
       "      <th>Situation</th>\n",
       "      <th>Answer</th>\n",
       "    </tr>\n",
       "  </thead>\n",
       "  <tbody>\n",
       "    <tr>\n",
       "      <th>0</th>\n",
       "      <td>Nguyễn Minh Phương</td>\n",
       "      <td>09:22 14/08/2024</td>\n",
       "      <td>Phần chênh lệch thu chi được trích quỹ hay chu...</td>\n",
       "      <td>Tôi công tác tại đơn vị sự nghiệp công lập tự ...</td>\n",
       "      <td>Bộ Tài chính trả lời vấn đề này như sau:Theo q...</td>\n",
       "    </tr>\n",
       "    <tr>\n",
       "      <th>1</th>\n",
       "      <td>Trịnh Xuân Quang</td>\n",
       "      <td>08:02 13/08/2024</td>\n",
       "      <td>Các trường hợp không được vay từ quỹ tín dụng ...</td>\n",
       "      <td>Khoản 3 Điều 126 Luật Các tổ chức tín dụng áp ...</td>\n",
       "      <td>Ngân hàng Nhà nước Việt Nam trả lời vấn đề này...</td>\n",
       "    </tr>\n",
       "    <tr>\n",
       "      <th>2</th>\n",
       "      <td>Trần Văn Hùng</td>\n",
       "      <td>07:58 13/08/2024</td>\n",
       "      <td>Ghi nợ tiền sử dụng đất, thủ tục thế nào?</td>\n",
       "      <td>Tôi xin hỏi, theo quy định mới thì trường hợp ...</td>\n",
       "      <td>Tại Điều 22 Nghị định số103/2024/NĐ-CPngày 30/...</td>\n",
       "    </tr>\n",
       "    <tr>\n",
       "      <th>3</th>\n",
       "      <td>Nguyễn Thị Thu Minh</td>\n",
       "      <td>16:13 12/08/2024</td>\n",
       "      <td>Điều kiện hưởng chính sách miễn, giảm tiền sử ...</td>\n",
       "      <td>Tôi xin hỏi, Luật Đất đai 2024 đã có hiệu lực ...</td>\n",
       "      <td>Theo Điều 18, 19 Nghị định số103/2024/NĐ-CPngà...</td>\n",
       "    </tr>\n",
       "    <tr>\n",
       "      <th>4</th>\n",
       "      <td>Nguyễn Nam Hà</td>\n",
       "      <td>14:16 08/08/2024</td>\n",
       "      <td>Xe sang tên chủ mới, bảo hiểm có còn hiệu lực?</td>\n",
       "      <td>Tôi tham gia bảo hiểm bắt buộc trách nhiệm dân...</td>\n",
       "      <td>Cục Quản lý, giám sát bảo hiểm, Bộ Tài chính t...</td>\n",
       "    </tr>\n",
       "  </tbody>\n",
       "</table>\n",
       "</div>"
      ],
      "text/plain": [
       "                  Name              Time  \\\n",
       "0   Nguyễn Minh Phương  09:22 14/08/2024   \n",
       "1     Trịnh Xuân Quang  08:02 13/08/2024   \n",
       "2        Trần Văn Hùng  07:58 13/08/2024   \n",
       "3  Nguyễn Thị Thu Minh  16:13 12/08/2024   \n",
       "4        Nguyễn Nam Hà  14:16 08/08/2024   \n",
       "\n",
       "                                            Question  \\\n",
       "0  Phần chênh lệch thu chi được trích quỹ hay chu...   \n",
       "1  Các trường hợp không được vay từ quỹ tín dụng ...   \n",
       "2          Ghi nợ tiền sử dụng đất, thủ tục thế nào?   \n",
       "3  Điều kiện hưởng chính sách miễn, giảm tiền sử ...   \n",
       "4     Xe sang tên chủ mới, bảo hiểm có còn hiệu lực?   \n",
       "\n",
       "                                           Situation  \\\n",
       "0  Tôi công tác tại đơn vị sự nghiệp công lập tự ...   \n",
       "1  Khoản 3 Điều 126 Luật Các tổ chức tín dụng áp ...   \n",
       "2  Tôi xin hỏi, theo quy định mới thì trường hợp ...   \n",
       "3  Tôi xin hỏi, Luật Đất đai 2024 đã có hiệu lực ...   \n",
       "4  Tôi tham gia bảo hiểm bắt buộc trách nhiệm dân...   \n",
       "\n",
       "                                              Answer  \n",
       "0  Bộ Tài chính trả lời vấn đề này như sau:Theo q...  \n",
       "1  Ngân hàng Nhà nước Việt Nam trả lời vấn đề này...  \n",
       "2  Tại Điều 22 Nghị định số103/2024/NĐ-CPngày 30/...  \n",
       "3  Theo Điều 18, 19 Nghị định số103/2024/NĐ-CPngà...  \n",
       "4  Cục Quản lý, giám sát bảo hiểm, Bộ Tài chính t...  "
      ]
     },
     "execution_count": 17,
     "metadata": {},
     "output_type": "execute_result"
    }
   ],
   "source": [
    "# Tạo DataFrame từ danh sách dữ liệu\n",
    "df_taichinh_nganhang = pd.DataFrame(articles_data)\n",
    "df_taichinh_nganhang.head(5)"
   ]
  },
  {
   "cell_type": "code",
   "execution_count": 18,
   "metadata": {},
   "outputs": [
    {
     "name": "stdout",
     "output_type": "stream",
     "text": [
      "Successfully saved data to ../data/data_tinhhuong/taichinh_nganhang_dautu_congthuong_data.csv\n"
     ]
    }
   ],
   "source": [
    "\n",
    "# Lưu DataFrame vào file CSV\n",
    "csv_file = '../data/data_tinhhuong/taichinh_nganhang_dautu_congthuong_data.csv'\n",
    "df_taichinh_nganhang.to_csv(csv_file, encoding='utf-8',index_label='Index')\n",
    "\n",
    "print(f\"Successfully saved data to {csv_file}\")"
   ]
  },
  {
   "cell_type": "code",
   "execution_count": 19,
   "metadata": {},
   "outputs": [],
   "source": [
    "df_taichinh_nganhang=pd.read_csv(\"../data/data_tinhhuong/taichinh_nganhang_dautu_congthuong_data.csv\",encoding='utf-8')"
   ]
  },
  {
   "cell_type": "code",
   "execution_count": 20,
   "metadata": {},
   "outputs": [
    {
     "data": {
      "text/html": [
       "<div>\n",
       "<style scoped>\n",
       "    .dataframe tbody tr th:only-of-type {\n",
       "        vertical-align: middle;\n",
       "    }\n",
       "\n",
       "    .dataframe tbody tr th {\n",
       "        vertical-align: top;\n",
       "    }\n",
       "\n",
       "    .dataframe thead th {\n",
       "        text-align: right;\n",
       "    }\n",
       "</style>\n",
       "<table border=\"1\" class=\"dataframe\">\n",
       "  <thead>\n",
       "    <tr style=\"text-align: right;\">\n",
       "      <th></th>\n",
       "      <th>Index</th>\n",
       "      <th>Name</th>\n",
       "      <th>Time</th>\n",
       "      <th>Question</th>\n",
       "      <th>Situation</th>\n",
       "      <th>Answer</th>\n",
       "    </tr>\n",
       "  </thead>\n",
       "  <tbody>\n",
       "    <tr>\n",
       "      <th>0</th>\n",
       "      <td>0</td>\n",
       "      <td>Nguyễn Minh Phương</td>\n",
       "      <td>09:22 14/08/2024</td>\n",
       "      <td>Phần chênh lệch thu chi được trích quỹ hay chu...</td>\n",
       "      <td>Tôi công tác tại đơn vị sự nghiệp công lập tự ...</td>\n",
       "      <td>Bộ Tài chính trả lời vấn đề này như sau:Theo q...</td>\n",
       "    </tr>\n",
       "    <tr>\n",
       "      <th>1</th>\n",
       "      <td>1</td>\n",
       "      <td>Trịnh Xuân Quang</td>\n",
       "      <td>08:02 13/08/2024</td>\n",
       "      <td>Các trường hợp không được vay từ quỹ tín dụng ...</td>\n",
       "      <td>Khoản 3 Điều 126 Luật Các tổ chức tín dụng áp ...</td>\n",
       "      <td>Ngân hàng Nhà nước Việt Nam trả lời vấn đề này...</td>\n",
       "    </tr>\n",
       "    <tr>\n",
       "      <th>2</th>\n",
       "      <td>2</td>\n",
       "      <td>Trần Văn Hùng</td>\n",
       "      <td>07:58 13/08/2024</td>\n",
       "      <td>Ghi nợ tiền sử dụng đất, thủ tục thế nào?</td>\n",
       "      <td>Tôi xin hỏi, theo quy định mới thì trường hợp ...</td>\n",
       "      <td>Tại Điều 22 Nghị định số103/2024/NĐ-CPngày 30/...</td>\n",
       "    </tr>\n",
       "    <tr>\n",
       "      <th>3</th>\n",
       "      <td>3</td>\n",
       "      <td>Nguyễn Thị Thu Minh</td>\n",
       "      <td>16:13 12/08/2024</td>\n",
       "      <td>Điều kiện hưởng chính sách miễn, giảm tiền sử ...</td>\n",
       "      <td>Tôi xin hỏi, Luật Đất đai 2024 đã có hiệu lực ...</td>\n",
       "      <td>Theo Điều 18, 19 Nghị định số103/2024/NĐ-CPngà...</td>\n",
       "    </tr>\n",
       "    <tr>\n",
       "      <th>4</th>\n",
       "      <td>4</td>\n",
       "      <td>Nguyễn Nam Hà</td>\n",
       "      <td>14:16 08/08/2024</td>\n",
       "      <td>Xe sang tên chủ mới, bảo hiểm có còn hiệu lực?</td>\n",
       "      <td>Tôi tham gia bảo hiểm bắt buộc trách nhiệm dân...</td>\n",
       "      <td>Cục Quản lý, giám sát bảo hiểm, Bộ Tài chính t...</td>\n",
       "    </tr>\n",
       "  </tbody>\n",
       "</table>\n",
       "</div>"
      ],
      "text/plain": [
       "   Index                 Name              Time  \\\n",
       "0      0   Nguyễn Minh Phương  09:22 14/08/2024   \n",
       "1      1     Trịnh Xuân Quang  08:02 13/08/2024   \n",
       "2      2        Trần Văn Hùng  07:58 13/08/2024   \n",
       "3      3  Nguyễn Thị Thu Minh  16:13 12/08/2024   \n",
       "4      4        Nguyễn Nam Hà  14:16 08/08/2024   \n",
       "\n",
       "                                            Question  \\\n",
       "0  Phần chênh lệch thu chi được trích quỹ hay chu...   \n",
       "1  Các trường hợp không được vay từ quỹ tín dụng ...   \n",
       "2          Ghi nợ tiền sử dụng đất, thủ tục thế nào?   \n",
       "3  Điều kiện hưởng chính sách miễn, giảm tiền sử ...   \n",
       "4     Xe sang tên chủ mới, bảo hiểm có còn hiệu lực?   \n",
       "\n",
       "                                           Situation  \\\n",
       "0  Tôi công tác tại đơn vị sự nghiệp công lập tự ...   \n",
       "1  Khoản 3 Điều 126 Luật Các tổ chức tín dụng áp ...   \n",
       "2  Tôi xin hỏi, theo quy định mới thì trường hợp ...   \n",
       "3  Tôi xin hỏi, Luật Đất đai 2024 đã có hiệu lực ...   \n",
       "4  Tôi tham gia bảo hiểm bắt buộc trách nhiệm dân...   \n",
       "\n",
       "                                              Answer  \n",
       "0  Bộ Tài chính trả lời vấn đề này như sau:Theo q...  \n",
       "1  Ngân hàng Nhà nước Việt Nam trả lời vấn đề này...  \n",
       "2  Tại Điều 22 Nghị định số103/2024/NĐ-CPngày 30/...  \n",
       "3  Theo Điều 18, 19 Nghị định số103/2024/NĐ-CPngà...  \n",
       "4  Cục Quản lý, giám sát bảo hiểm, Bộ Tài chính t...  "
      ]
     },
     "execution_count": 20,
     "metadata": {},
     "output_type": "execute_result"
    }
   ],
   "source": [
    "df_taichinh_nganhang.head(5)"
   ]
  }
 ],
 "metadata": {
  "kernelspec": {
   "display_name": "machinelearning-lTTH8rYd",
   "language": "python",
   "name": "python3"
  },
  "language_info": {
   "codemirror_mode": {
    "name": "ipython",
    "version": 3
   },
   "file_extension": ".py",
   "mimetype": "text/x-python",
   "name": "python",
   "nbconvert_exporter": "python",
   "pygments_lexer": "ipython3",
   "version": "3.11.5"
  }
 },
 "nbformat": 4,
 "nbformat_minor": 2
}
