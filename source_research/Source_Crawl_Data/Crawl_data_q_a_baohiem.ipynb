{
 "cells": [
  {
   "cell_type": "markdown",
   "metadata": {},
   "source": [
    "### 1. Import Library"
   ]
  },
  {
   "cell_type": "code",
   "execution_count": 1,
   "metadata": {},
   "outputs": [],
   "source": [
    "import requests\n",
    "from bs4 import BeautifulSoup\n",
    "from fpdf import FPDF\n",
    "import pandas as pd"
   ]
  },
  {
   "cell_type": "markdown",
   "metadata": {},
   "source": [
    "### 2.Crawl_data_q_a"
   ]
  },
  {
   "cell_type": "markdown",
   "metadata": {},
   "source": [
    "#### 2.1.Find Elements"
   ]
  },
  {
   "cell_type": "code",
   "execution_count": 2,
   "metadata": {},
   "outputs": [],
   "source": [
    "# Hàm để cào dữ liệu từ một trang\n",
    "def crawl_page(url):\n",
    "    response = requests.get(url)\n",
    "    soup = BeautifulSoup(response.content, 'html.parser')\n",
    "    articles = soup.find_all('div', class_='box-item-content')\n",
    "    articles_data = []\n",
    "    \n",
    "    for _, article in enumerate(articles, start=1):\n",
    "        # Lấy thông tin tác giả và thời gian\n",
    "        author_info = article.find('div', class_='box-item-top')\n",
    "        name = author_info.find('span', class_='author').get_text(strip=True)\n",
    "        time = author_info.find('span', class_='time').get_text(strip=True)\n",
    "\n",
    "        # Lấy tiêu đề câu hỏi\n",
    "        question_element = article.find('a', class_='question-title')\n",
    "        question = question_element.get_text(strip=True)\n",
    "        \n",
    "        # Lấy tình huống\n",
    "        summary = article.find('div', class_='question-sapo').get_text(strip=True)\n",
    "        \n",
    "        # Lấy liên kết chi tiết\n",
    "        detail_link = article.find('a', class_='box-viewmore')['href']\n",
    "        detail_url = f\"https://chinhsachonline.chinhphu.vn{detail_link}\"\n",
    "        \n",
    "        # Gửi yêu cầu HTTP để lấy nội dung trang chi tiết\n",
    "        detail_response = requests.get(detail_url)\n",
    "        detail_soup = BeautifulSoup(detail_response.content, 'html.parser')\n",
    "        \n",
    "        # Lấy câu trả lời từ trang chi tiết\n",
    "        answer_div = detail_soup.find('div', class_='detail__rcontent')\n",
    "        answer = answer_div.get_text(strip=True) if answer_div else 'No answer available'\n",
    "        \n",
    "        # Thêm thông tin bài viết vào danh sách\n",
    "        articles_data.append({\n",
    "            'Name': name,\n",
    "            'Time': time,\n",
    "            'Question': question,\n",
    "            'Situation': summary,\n",
    "            'Answer': answer\n",
    "        })\n",
    "    \n",
    "    return articles_data\n"
   ]
  },
  {
   "cell_type": "markdown",
   "metadata": {},
   "source": [
    "#### 2.2.Execute Function"
   ]
  },
  {
   "cell_type": "code",
   "execution_count": 3,
   "metadata": {},
   "outputs": [],
   "source": [
    "articles_data = []\n",
    "for page_num in range(1, 350):  # Thay đổi phạm vi để bao gồm số trang bạn cần\n",
    "    page_url = f\"https://chinhsachonline.chinhphu.vn/bao-hiem-xa-hoi-bao-hiem-y-te-bao-hiem-that-nghiep/t1/1/trang-{page_num}.htm\"\n",
    "    articles_data.extend(crawl_page(page_url))"
   ]
  },
  {
   "cell_type": "markdown",
   "metadata": {},
   "source": [
    "#### 2.3 Export csv"
   ]
  },
  {
   "cell_type": "code",
   "execution_count": 4,
   "metadata": {},
   "outputs": [
    {
     "data": {
      "text/html": [
       "<div>\n",
       "<style scoped>\n",
       "    .dataframe tbody tr th:only-of-type {\n",
       "        vertical-align: middle;\n",
       "    }\n",
       "\n",
       "    .dataframe tbody tr th {\n",
       "        vertical-align: top;\n",
       "    }\n",
       "\n",
       "    .dataframe thead th {\n",
       "        text-align: right;\n",
       "    }\n",
       "</style>\n",
       "<table border=\"1\" class=\"dataframe\">\n",
       "  <thead>\n",
       "    <tr style=\"text-align: right;\">\n",
       "      <th></th>\n",
       "      <th>Name</th>\n",
       "      <th>Time</th>\n",
       "      <th>Question</th>\n",
       "      <th>Situation</th>\n",
       "      <th>Answer</th>\n",
       "    </tr>\n",
       "  </thead>\n",
       "  <tbody>\n",
       "    <tr>\n",
       "      <th>0</th>\n",
       "      <td>Danh Ril</td>\n",
       "      <td>08:05 12/08/2024</td>\n",
       "      <td>Người dân tộc thiểu số xã nông thôn mới có đượ...</td>\n",
       "      <td>Tôi xin hỏi, một xã giai đoạn 2016-2020 là xã ...</td>\n",
       "      <td>Bộ Y tế trả lời vấn đề này như sau:Ngày 19/10/...</td>\n",
       "    </tr>\n",
       "    <tr>\n",
       "      <th>1</th>\n",
       "      <td>Ngô Đảm</td>\n",
       "      <td>09:05 02/08/2024</td>\n",
       "      <td>Có được truy lĩnh chế độ thai sản?</td>\n",
       "      <td>Tôi đóng BHXH từ tháng 6/2011 đến tháng 12/201...</td>\n",
       "      <td>Bảo hiểm xã hội Việt Nam trả lời vấn đề này nh...</td>\n",
       "    </tr>\n",
       "    <tr>\n",
       "      <th>2</th>\n",
       "      <td>Nguyễn Thảo</td>\n",
       "      <td>07:05 02/08/2024</td>\n",
       "      <td>Khi nào cần xin thêm Giấy chứng nhận nghỉ việc...</td>\n",
       "      <td>Tôi xin hỏi, trên giấy ra viện có ghi chú ngườ...</td>\n",
       "      <td>Bảo hiểm xã hội Việt Nam trả lời vấn đề này nh...</td>\n",
       "    </tr>\n",
       "    <tr>\n",
       "      <th>3</th>\n",
       "      <td>Trần Thị Hạnh</td>\n",
       "      <td>08:45 29/07/2024</td>\n",
       "      <td>Đóng BHXH tự nguyện bao lâu thì được lương hưu?</td>\n",
       "      <td>Tôi năm nay 53 tuổi, đóng BHXH tự nguyện được ...</td>\n",
       "      <td>Bảo hiểm xã hội Việt Nam trả lời vấn đề này nh...</td>\n",
       "    </tr>\n",
       "    <tr>\n",
       "      <th>4</th>\n",
       "      <td>Nguyễn Hòa Điều</td>\n",
       "      <td>13:33 18/07/2024</td>\n",
       "      <td>Đóng BHXH bao lâu trước khi sinh thì được hưởn...</td>\n",
       "      <td>Tôi đóng BHXH từ tháng 1/2020 đến tháng 12/202...</td>\n",
       "      <td>Bảo hiểm xã hội Việt Nam trả lời vấn đề này nh...</td>\n",
       "    </tr>\n",
       "  </tbody>\n",
       "</table>\n",
       "</div>"
      ],
      "text/plain": [
       "              Name              Time  \\\n",
       "0         Danh Ril  08:05 12/08/2024   \n",
       "1          Ngô Đảm  09:05 02/08/2024   \n",
       "2      Nguyễn Thảo  07:05 02/08/2024   \n",
       "3    Trần Thị Hạnh  08:45 29/07/2024   \n",
       "4  Nguyễn Hòa Điều  13:33 18/07/2024   \n",
       "\n",
       "                                            Question  \\\n",
       "0  Người dân tộc thiểu số xã nông thôn mới có đượ...   \n",
       "1                 Có được truy lĩnh chế độ thai sản?   \n",
       "2  Khi nào cần xin thêm Giấy chứng nhận nghỉ việc...   \n",
       "3    Đóng BHXH tự nguyện bao lâu thì được lương hưu?   \n",
       "4  Đóng BHXH bao lâu trước khi sinh thì được hưởn...   \n",
       "\n",
       "                                           Situation  \\\n",
       "0  Tôi xin hỏi, một xã giai đoạn 2016-2020 là xã ...   \n",
       "1  Tôi đóng BHXH từ tháng 6/2011 đến tháng 12/201...   \n",
       "2  Tôi xin hỏi, trên giấy ra viện có ghi chú ngườ...   \n",
       "3  Tôi năm nay 53 tuổi, đóng BHXH tự nguyện được ...   \n",
       "4  Tôi đóng BHXH từ tháng 1/2020 đến tháng 12/202...   \n",
       "\n",
       "                                              Answer  \n",
       "0  Bộ Y tế trả lời vấn đề này như sau:Ngày 19/10/...  \n",
       "1  Bảo hiểm xã hội Việt Nam trả lời vấn đề này nh...  \n",
       "2  Bảo hiểm xã hội Việt Nam trả lời vấn đề này nh...  \n",
       "3  Bảo hiểm xã hội Việt Nam trả lời vấn đề này nh...  \n",
       "4  Bảo hiểm xã hội Việt Nam trả lời vấn đề này nh...  "
      ]
     },
     "execution_count": 4,
     "metadata": {},
     "output_type": "execute_result"
    }
   ],
   "source": [
    "# Tạo DataFrame từ danh sách dữ liệu\n",
    "df_bh = pd.DataFrame(articles_data)\n",
    "df_bh.head(5)"
   ]
  },
  {
   "cell_type": "code",
   "execution_count": 5,
   "metadata": {},
   "outputs": [
    {
     "name": "stdout",
     "output_type": "stream",
     "text": [
      "Successfully saved data to ../data/data_tinhhuong/bhxh_bhyt_bhtn_data.csv\n"
     ]
    }
   ],
   "source": [
    "\n",
    "# Lưu DataFrame vào file CSV\n",
    "csv_file = '../data/data_tinhhuong/bhxh_bhyt_bhtn_data.csv'\n",
    "df_bh.to_csv(csv_file, encoding='utf-8',index_label='Index')\n",
    "\n",
    "print(f\"Successfully saved data to {csv_file}\")"
   ]
  },
  {
   "cell_type": "code",
   "execution_count": 6,
   "metadata": {},
   "outputs": [],
   "source": [
    "df_bh=pd.read_csv(\"../data/data_tinhhuong/bhxh_bhyt_bhtn_data.csv\",encoding='utf-8')"
   ]
  },
  {
   "cell_type": "code",
   "execution_count": 7,
   "metadata": {},
   "outputs": [
    {
     "data": {
      "text/html": [
       "<div>\n",
       "<style scoped>\n",
       "    .dataframe tbody tr th:only-of-type {\n",
       "        vertical-align: middle;\n",
       "    }\n",
       "\n",
       "    .dataframe tbody tr th {\n",
       "        vertical-align: top;\n",
       "    }\n",
       "\n",
       "    .dataframe thead th {\n",
       "        text-align: right;\n",
       "    }\n",
       "</style>\n",
       "<table border=\"1\" class=\"dataframe\">\n",
       "  <thead>\n",
       "    <tr style=\"text-align: right;\">\n",
       "      <th></th>\n",
       "      <th>Index</th>\n",
       "      <th>Name</th>\n",
       "      <th>Time</th>\n",
       "      <th>Question</th>\n",
       "      <th>Situation</th>\n",
       "      <th>Answer</th>\n",
       "    </tr>\n",
       "  </thead>\n",
       "  <tbody>\n",
       "    <tr>\n",
       "      <th>0</th>\n",
       "      <td>0</td>\n",
       "      <td>Danh Ril</td>\n",
       "      <td>08:05 12/08/2024</td>\n",
       "      <td>Người dân tộc thiểu số xã nông thôn mới có đượ...</td>\n",
       "      <td>Tôi xin hỏi, một xã giai đoạn 2016-2020 là xã ...</td>\n",
       "      <td>Bộ Y tế trả lời vấn đề này như sau:Ngày 19/10/...</td>\n",
       "    </tr>\n",
       "    <tr>\n",
       "      <th>1</th>\n",
       "      <td>1</td>\n",
       "      <td>Ngô Đảm</td>\n",
       "      <td>09:05 02/08/2024</td>\n",
       "      <td>Có được truy lĩnh chế độ thai sản?</td>\n",
       "      <td>Tôi đóng BHXH từ tháng 6/2011 đến tháng 12/201...</td>\n",
       "      <td>Bảo hiểm xã hội Việt Nam trả lời vấn đề này nh...</td>\n",
       "    </tr>\n",
       "    <tr>\n",
       "      <th>2</th>\n",
       "      <td>2</td>\n",
       "      <td>Nguyễn Thảo</td>\n",
       "      <td>07:05 02/08/2024</td>\n",
       "      <td>Khi nào cần xin thêm Giấy chứng nhận nghỉ việc...</td>\n",
       "      <td>Tôi xin hỏi, trên giấy ra viện có ghi chú ngườ...</td>\n",
       "      <td>Bảo hiểm xã hội Việt Nam trả lời vấn đề này nh...</td>\n",
       "    </tr>\n",
       "    <tr>\n",
       "      <th>3</th>\n",
       "      <td>3</td>\n",
       "      <td>Trần Thị Hạnh</td>\n",
       "      <td>08:45 29/07/2024</td>\n",
       "      <td>Đóng BHXH tự nguyện bao lâu thì được lương hưu?</td>\n",
       "      <td>Tôi năm nay 53 tuổi, đóng BHXH tự nguyện được ...</td>\n",
       "      <td>Bảo hiểm xã hội Việt Nam trả lời vấn đề này nh...</td>\n",
       "    </tr>\n",
       "    <tr>\n",
       "      <th>4</th>\n",
       "      <td>4</td>\n",
       "      <td>Nguyễn Hòa Điều</td>\n",
       "      <td>13:33 18/07/2024</td>\n",
       "      <td>Đóng BHXH bao lâu trước khi sinh thì được hưởn...</td>\n",
       "      <td>Tôi đóng BHXH từ tháng 1/2020 đến tháng 12/202...</td>\n",
       "      <td>Bảo hiểm xã hội Việt Nam trả lời vấn đề này nh...</td>\n",
       "    </tr>\n",
       "  </tbody>\n",
       "</table>\n",
       "</div>"
      ],
      "text/plain": [
       "   Index             Name              Time  \\\n",
       "0      0         Danh Ril  08:05 12/08/2024   \n",
       "1      1          Ngô Đảm  09:05 02/08/2024   \n",
       "2      2      Nguyễn Thảo  07:05 02/08/2024   \n",
       "3      3    Trần Thị Hạnh  08:45 29/07/2024   \n",
       "4      4  Nguyễn Hòa Điều  13:33 18/07/2024   \n",
       "\n",
       "                                            Question  \\\n",
       "0  Người dân tộc thiểu số xã nông thôn mới có đượ...   \n",
       "1                 Có được truy lĩnh chế độ thai sản?   \n",
       "2  Khi nào cần xin thêm Giấy chứng nhận nghỉ việc...   \n",
       "3    Đóng BHXH tự nguyện bao lâu thì được lương hưu?   \n",
       "4  Đóng BHXH bao lâu trước khi sinh thì được hưởn...   \n",
       "\n",
       "                                           Situation  \\\n",
       "0  Tôi xin hỏi, một xã giai đoạn 2016-2020 là xã ...   \n",
       "1  Tôi đóng BHXH từ tháng 6/2011 đến tháng 12/201...   \n",
       "2  Tôi xin hỏi, trên giấy ra viện có ghi chú ngườ...   \n",
       "3  Tôi năm nay 53 tuổi, đóng BHXH tự nguyện được ...   \n",
       "4  Tôi đóng BHXH từ tháng 1/2020 đến tháng 12/202...   \n",
       "\n",
       "                                              Answer  \n",
       "0  Bộ Y tế trả lời vấn đề này như sau:Ngày 19/10/...  \n",
       "1  Bảo hiểm xã hội Việt Nam trả lời vấn đề này nh...  \n",
       "2  Bảo hiểm xã hội Việt Nam trả lời vấn đề này nh...  \n",
       "3  Bảo hiểm xã hội Việt Nam trả lời vấn đề này nh...  \n",
       "4  Bảo hiểm xã hội Việt Nam trả lời vấn đề này nh...  "
      ]
     },
     "execution_count": 7,
     "metadata": {},
     "output_type": "execute_result"
    }
   ],
   "source": [
    "df_bh.head(5)"
   ]
  }
 ],
 "metadata": {
  "kernelspec": {
   "display_name": "machinelearning-lTTH8rYd",
   "language": "python",
   "name": "python3"
  },
  "language_info": {
   "codemirror_mode": {
    "name": "ipython",
    "version": 3
   },
   "file_extension": ".py",
   "mimetype": "text/x-python",
   "name": "python",
   "nbconvert_exporter": "python",
   "pygments_lexer": "ipython3",
   "version": "3.11.5"
  }
 },
 "nbformat": 4,
 "nbformat_minor": 2
}
