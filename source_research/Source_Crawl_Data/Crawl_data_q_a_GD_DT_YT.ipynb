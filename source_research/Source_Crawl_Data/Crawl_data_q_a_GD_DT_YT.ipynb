{
 "cells": [
  {
   "cell_type": "markdown",
   "metadata": {},
   "source": [
    "### 1. Import library"
   ]
  },
  {
   "cell_type": "code",
   "execution_count": 2,
   "metadata": {},
   "outputs": [],
   "source": [
    "import requests\n",
    "from bs4 import BeautifulSoup\n",
    "from fpdf import FPDF\n",
    "import pandas as pd"
   ]
  },
  {
   "cell_type": "markdown",
   "metadata": {},
   "source": [
    "### 2. Crawl data q_a"
   ]
  },
  {
   "cell_type": "markdown",
   "metadata": {},
   "source": [
    "##### 2.1. Find elements"
   ]
  },
  {
   "cell_type": "code",
   "execution_count": 3,
   "metadata": {},
   "outputs": [],
   "source": [
    "# Hàm để cào dữ liệu từ một trang\n",
    "def crawl_page(url):\n",
    "    response = requests.get(url)\n",
    "    soup = BeautifulSoup(response.content, 'html.parser')\n",
    "    articles = soup.find_all('div', class_='box-item-content')\n",
    "    articles_data = []\n",
    "    \n",
    "    for _, article in enumerate(articles, start=1):\n",
    "        # Lấy thông tin tác giả và thời gian\n",
    "        author_info = article.find('div', class_='box-item-top')\n",
    "        name = author_info.find('span', class_='author').get_text(strip=True)\n",
    "        time = author_info.find('span', class_='time').get_text(strip=True)\n",
    "\n",
    "        # Lấy tiêu đề câu hỏi\n",
    "        question_element = article.find('a', class_='question-title')\n",
    "        question = question_element.get_text(strip=True)\n",
    "        \n",
    "        # Lấy tình huống\n",
    "        summary = article.find('div', class_='question-sapo').get_text(strip=True)\n",
    "        \n",
    "        # Lấy liên kết chi tiết\n",
    "        detail_link = article.find('a', class_='box-viewmore')['href']\n",
    "        detail_url = f\"https://chinhsachonline.chinhphu.vn{detail_link}\"\n",
    "        \n",
    "        # Gửi yêu cầu HTTP để lấy nội dung trang chi tiết\n",
    "        detail_response = requests.get(detail_url)\n",
    "        detail_soup = BeautifulSoup(detail_response.content, 'html.parser')\n",
    "        \n",
    "        # Lấy câu trả lời từ trang chi tiết\n",
    "        answer_div = detail_soup.find('div', class_='detail__rcontent')\n",
    "        answer = answer_div.get_text(strip=True) if answer_div else 'No answer available'\n",
    "        \n",
    "        # Thêm thông tin bài viết vào danh sách\n",
    "        articles_data.append({\n",
    "            'Name': name,\n",
    "            'Time': time,\n",
    "            'Question': question,\n",
    "            'Situation': summary,\n",
    "            'Answer': answer\n",
    "        })\n",
    "\n",
    "    return articles_data"
   ]
  },
  {
   "cell_type": "code",
   "execution_count": 4,
   "metadata": {},
   "outputs": [],
   "source": [
    "articles_data = []\n",
    "\n",
    "for page_num in range(1, 301):  # Thay đổi phạm vi để bao gồm số trang bạn cần\n",
    "    page_url = f\"https://chinhsachonline.chinhphu.vn/giao-duc-dao-tao-y-te/t1/15/trang-{page_num}.htm\"\n",
    "    articles_data.extend(crawl_page(page_url))"
   ]
  },
  {
   "cell_type": "markdown",
   "metadata": {},
   "source": [
    "##### 2.3 Export CSV"
   ]
  },
  {
   "cell_type": "code",
   "execution_count": 5,
   "metadata": {},
   "outputs": [
    {
     "data": {
      "text/html": [
       "<div>\n",
       "<style scoped>\n",
       "    .dataframe tbody tr th:only-of-type {\n",
       "        vertical-align: middle;\n",
       "    }\n",
       "\n",
       "    .dataframe tbody tr th {\n",
       "        vertical-align: top;\n",
       "    }\n",
       "\n",
       "    .dataframe thead th {\n",
       "        text-align: right;\n",
       "    }\n",
       "</style>\n",
       "<table border=\"1\" class=\"dataframe\">\n",
       "  <thead>\n",
       "    <tr style=\"text-align: right;\">\n",
       "      <th></th>\n",
       "      <th>Name</th>\n",
       "      <th>Time</th>\n",
       "      <th>Question</th>\n",
       "      <th>Situation</th>\n",
       "      <th>Answer</th>\n",
       "    </tr>\n",
       "  </thead>\n",
       "  <tbody>\n",
       "    <tr>\n",
       "      <th>0</th>\n",
       "      <td>Nguyễn Thị Hài</td>\n",
       "      <td>08:12 08/08/2024</td>\n",
       "      <td>Trường hợp nào được tạm hoãn gọi nhập ngũ?</td>\n",
       "      <td>Tôi xin hỏi, học sinh vừa tốt nghiệp THPT khi ...</td>\n",
       "      <td>Bộ Quốc phòng trả lời vấn đề này như sau:Theo ...</td>\n",
       "    </tr>\n",
       "    <tr>\n",
       "      <th>1</th>\n",
       "      <td>Trần Việt Hưng</td>\n",
       "      <td>08:14 06/08/2024</td>\n",
       "      <td>Tra cứu thông tin cá nhân đủ điều kiện tư vấn ...</td>\n",
       "      <td>Hiện nay khi tra cứu trên Hệ thống thông tin g...</td>\n",
       "      <td>Bộ Y tế trả lời vấn đề này như sau:Thực hiện t...</td>\n",
       "    </tr>\n",
       "    <tr>\n",
       "      <th>2</th>\n",
       "      <td>Trần Thị Hoài</td>\n",
       "      <td>09:05 01/08/2024</td>\n",
       "      <td>Có được sử dụng đồng thời chứng chỉ hành nghề ...</td>\n",
       "      <td>Tôi tốt nghiệp cao đẳng dược, đã có chứng chỉ ...</td>\n",
       "      <td>Bộ Y tế trả lời vấn đề này như sau:TạiLuật Dượ...</td>\n",
       "    </tr>\n",
       "    <tr>\n",
       "      <th>3</th>\n",
       "      <td>Nguyễn Minh Hiếu</td>\n",
       "      <td>08:09 01/08/2024</td>\n",
       "      <td>Chưa chuyển mã ngạch có được hưởng phụ cấp nghề?</td>\n",
       "      <td>Tôi là kỹ sư an toàn thực phẩm, làm việc tại K...</td>\n",
       "      <td>Bộ Y tế trả lời vấn đề này như sau:Hiện nay, c...</td>\n",
       "    </tr>\n",
       "    <tr>\n",
       "      <th>4</th>\n",
       "      <td>Nguyễn Thị Hiếu</td>\n",
       "      <td>10:05 31/07/2024</td>\n",
       "      <td>Viên chức khoa học và công nghệ có được phụ cấ...</td>\n",
       "      <td>Tôi là kỹ sư công nghệ thực phẩm, mã ngạch 13....</td>\n",
       "      <td>Bộ Y tế trả lời vấn đề này như sau:Hiện nay, c...</td>\n",
       "    </tr>\n",
       "  </tbody>\n",
       "</table>\n",
       "</div>"
      ],
      "text/plain": [
       "               Name              Time  \\\n",
       "0    Nguyễn Thị Hài  08:12 08/08/2024   \n",
       "1    Trần Việt Hưng  08:14 06/08/2024   \n",
       "2     Trần Thị Hoài  09:05 01/08/2024   \n",
       "3  Nguyễn Minh Hiếu  08:09 01/08/2024   \n",
       "4   Nguyễn Thị Hiếu  10:05 31/07/2024   \n",
       "\n",
       "                                            Question  \\\n",
       "0         Trường hợp nào được tạm hoãn gọi nhập ngũ?   \n",
       "1  Tra cứu thông tin cá nhân đủ điều kiện tư vấn ...   \n",
       "2  Có được sử dụng đồng thời chứng chỉ hành nghề ...   \n",
       "3   Chưa chuyển mã ngạch có được hưởng phụ cấp nghề?   \n",
       "4  Viên chức khoa học và công nghệ có được phụ cấ...   \n",
       "\n",
       "                                           Situation  \\\n",
       "0  Tôi xin hỏi, học sinh vừa tốt nghiệp THPT khi ...   \n",
       "1  Hiện nay khi tra cứu trên Hệ thống thông tin g...   \n",
       "2  Tôi tốt nghiệp cao đẳng dược, đã có chứng chỉ ...   \n",
       "3  Tôi là kỹ sư an toàn thực phẩm, làm việc tại K...   \n",
       "4  Tôi là kỹ sư công nghệ thực phẩm, mã ngạch 13....   \n",
       "\n",
       "                                              Answer  \n",
       "0  Bộ Quốc phòng trả lời vấn đề này như sau:Theo ...  \n",
       "1  Bộ Y tế trả lời vấn đề này như sau:Thực hiện t...  \n",
       "2  Bộ Y tế trả lời vấn đề này như sau:TạiLuật Dượ...  \n",
       "3  Bộ Y tế trả lời vấn đề này như sau:Hiện nay, c...  \n",
       "4  Bộ Y tế trả lời vấn đề này như sau:Hiện nay, c...  "
      ]
     },
     "execution_count": 5,
     "metadata": {},
     "output_type": "execute_result"
    }
   ],
   "source": [
    "# Tạo DataFrame từ danh sách dữ liệu\n",
    "df_giaoduc_daotao_yte = pd.DataFrame(articles_data)\n",
    "df_giaoduc_daotao_yte.head(5)"
   ]
  },
  {
   "cell_type": "code",
   "execution_count": 6,
   "metadata": {},
   "outputs": [
    {
     "name": "stdout",
     "output_type": "stream",
     "text": [
      "Successfully saved data to ../data/giaoduc_daotao_yte_data.csv\n"
     ]
    }
   ],
   "source": [
    "# Lưu DataFrame vào file CSV\n",
    "csv_file = '../data/data_tinhhuong/giaoduc_daotao_yte_data.csv'\n",
    "df_giaoduc_daotao_yte.to_csv(csv_file, encoding='utf-8',index_label='Index')\n",
    "\n",
    "print(f\"Successfully saved data to {csv_file}\")"
   ]
  },
  {
   "cell_type": "code",
   "execution_count": 3,
   "metadata": {},
   "outputs": [],
   "source": [
    "df_giaoduc_daotao_yte=pd.read_csv(\"../data/data_tinhhuong/giaoduc_daotao_yte_data.csv\",encoding='utf-8')"
   ]
  },
  {
   "cell_type": "code",
   "execution_count": 4,
   "metadata": {},
   "outputs": [
    {
     "data": {
      "text/html": [
       "<div>\n",
       "<style scoped>\n",
       "    .dataframe tbody tr th:only-of-type {\n",
       "        vertical-align: middle;\n",
       "    }\n",
       "\n",
       "    .dataframe tbody tr th {\n",
       "        vertical-align: top;\n",
       "    }\n",
       "\n",
       "    .dataframe thead th {\n",
       "        text-align: right;\n",
       "    }\n",
       "</style>\n",
       "<table border=\"1\" class=\"dataframe\">\n",
       "  <thead>\n",
       "    <tr style=\"text-align: right;\">\n",
       "      <th></th>\n",
       "      <th>Index</th>\n",
       "      <th>Name</th>\n",
       "      <th>Time</th>\n",
       "      <th>Question</th>\n",
       "      <th>Situation</th>\n",
       "      <th>Answer</th>\n",
       "    </tr>\n",
       "  </thead>\n",
       "  <tbody>\n",
       "    <tr>\n",
       "      <th>0</th>\n",
       "      <td>0</td>\n",
       "      <td>Nguyễn Thị Hài</td>\n",
       "      <td>08:12 08/08/2024</td>\n",
       "      <td>Trường hợp nào được tạm hoãn gọi nhập ngũ?</td>\n",
       "      <td>Tôi xin hỏi, học sinh vừa tốt nghiệp THPT khi ...</td>\n",
       "      <td>Bộ Quốc phòng trả lời vấn đề này như sau:Theo ...</td>\n",
       "    </tr>\n",
       "    <tr>\n",
       "      <th>1</th>\n",
       "      <td>1</td>\n",
       "      <td>Trần Việt Hưng</td>\n",
       "      <td>08:14 06/08/2024</td>\n",
       "      <td>Tra cứu thông tin cá nhân đủ điều kiện tư vấn ...</td>\n",
       "      <td>Hiện nay khi tra cứu trên Hệ thống thông tin g...</td>\n",
       "      <td>Bộ Y tế trả lời vấn đề này như sau:Thực hiện t...</td>\n",
       "    </tr>\n",
       "    <tr>\n",
       "      <th>2</th>\n",
       "      <td>2</td>\n",
       "      <td>Trần Thị Hoài</td>\n",
       "      <td>09:05 01/08/2024</td>\n",
       "      <td>Có được sử dụng đồng thời chứng chỉ hành nghề ...</td>\n",
       "      <td>Tôi tốt nghiệp cao đẳng dược, đã có chứng chỉ ...</td>\n",
       "      <td>Bộ Y tế trả lời vấn đề này như sau:TạiLuật Dượ...</td>\n",
       "    </tr>\n",
       "    <tr>\n",
       "      <th>3</th>\n",
       "      <td>3</td>\n",
       "      <td>Nguyễn Minh Hiếu</td>\n",
       "      <td>08:09 01/08/2024</td>\n",
       "      <td>Chưa chuyển mã ngạch có được hưởng phụ cấp nghề?</td>\n",
       "      <td>Tôi là kỹ sư an toàn thực phẩm, làm việc tại K...</td>\n",
       "      <td>Bộ Y tế trả lời vấn đề này như sau:Hiện nay, c...</td>\n",
       "    </tr>\n",
       "    <tr>\n",
       "      <th>4</th>\n",
       "      <td>4</td>\n",
       "      <td>Nguyễn Thị Hiếu</td>\n",
       "      <td>10:05 31/07/2024</td>\n",
       "      <td>Viên chức khoa học và công nghệ có được phụ cấ...</td>\n",
       "      <td>Tôi là kỹ sư công nghệ thực phẩm, mã ngạch 13....</td>\n",
       "      <td>Bộ Y tế trả lời vấn đề này như sau:Hiện nay, c...</td>\n",
       "    </tr>\n",
       "  </tbody>\n",
       "</table>\n",
       "</div>"
      ],
      "text/plain": [
       "   Index              Name              Time  \\\n",
       "0      0    Nguyễn Thị Hài  08:12 08/08/2024   \n",
       "1      1    Trần Việt Hưng  08:14 06/08/2024   \n",
       "2      2     Trần Thị Hoài  09:05 01/08/2024   \n",
       "3      3  Nguyễn Minh Hiếu  08:09 01/08/2024   \n",
       "4      4   Nguyễn Thị Hiếu  10:05 31/07/2024   \n",
       "\n",
       "                                            Question  \\\n",
       "0         Trường hợp nào được tạm hoãn gọi nhập ngũ?   \n",
       "1  Tra cứu thông tin cá nhân đủ điều kiện tư vấn ...   \n",
       "2  Có được sử dụng đồng thời chứng chỉ hành nghề ...   \n",
       "3   Chưa chuyển mã ngạch có được hưởng phụ cấp nghề?   \n",
       "4  Viên chức khoa học và công nghệ có được phụ cấ...   \n",
       "\n",
       "                                           Situation  \\\n",
       "0  Tôi xin hỏi, học sinh vừa tốt nghiệp THPT khi ...   \n",
       "1  Hiện nay khi tra cứu trên Hệ thống thông tin g...   \n",
       "2  Tôi tốt nghiệp cao đẳng dược, đã có chứng chỉ ...   \n",
       "3  Tôi là kỹ sư an toàn thực phẩm, làm việc tại K...   \n",
       "4  Tôi là kỹ sư công nghệ thực phẩm, mã ngạch 13....   \n",
       "\n",
       "                                              Answer  \n",
       "0  Bộ Quốc phòng trả lời vấn đề này như sau:Theo ...  \n",
       "1  Bộ Y tế trả lời vấn đề này như sau:Thực hiện t...  \n",
       "2  Bộ Y tế trả lời vấn đề này như sau:TạiLuật Dượ...  \n",
       "3  Bộ Y tế trả lời vấn đề này như sau:Hiện nay, c...  \n",
       "4  Bộ Y tế trả lời vấn đề này như sau:Hiện nay, c...  "
      ]
     },
     "execution_count": 4,
     "metadata": {},
     "output_type": "execute_result"
    }
   ],
   "source": [
    "df_giaoduc_daotao_yte.head(5)"
   ]
  }
 ],
 "metadata": {
  "kernelspec": {
   "display_name": "Python 3",
   "language": "python",
   "name": "python3"
  },
  "language_info": {
   "codemirror_mode": {
    "name": "ipython",
    "version": 3
   },
   "file_extension": ".py",
   "mimetype": "text/x-python",
   "name": "python",
   "nbconvert_exporter": "python",
   "pygments_lexer": "ipython3",
   "version": "3.11.9"
  }
 },
 "nbformat": 4,
 "nbformat_minor": 2
}
