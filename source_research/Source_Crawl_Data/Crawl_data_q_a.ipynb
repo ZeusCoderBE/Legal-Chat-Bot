{
 "cells": [
  {
   "cell_type": "markdown",
   "metadata": {},
   "source": [
    "### 1. Import Library"
   ]
  },
  {
   "cell_type": "code",
   "execution_count": 7,
   "metadata": {},
   "outputs": [],
   "source": [
    "import requests\n",
    "from bs4 import BeautifulSoup\n",
    "from fpdf import FPDF\n",
    "import pandas as pd"
   ]
  },
  {
   "cell_type": "markdown",
   "metadata": {},
   "source": [
    "### 2.Crawl_data_q_a"
   ]
  },
  {
   "cell_type": "markdown",
   "metadata": {},
   "source": [
    "#### 2.1.Find Elements"
   ]
  },
  {
   "cell_type": "code",
   "execution_count": 8,
   "metadata": {},
   "outputs": [],
   "source": [
    "# Hàm để cào dữ liệu từ một trang\n",
    "def crawl_page(url):\n",
    "    response = requests.get(url)\n",
    "    soup = BeautifulSoup(response.content, 'html.parser')\n",
    "    articles = soup.find_all('div', class_='box-item-content')\n",
    "    articles_data = []\n",
    "    \n",
    "    for _, article in enumerate(articles, start=1):\n",
    "        # Lấy thông tin tác giả và thời gian\n",
    "        author_info = article.find('div', class_='box-item-top')\n",
    "        name = author_info.find('span', class_='author').get_text(strip=True)\n",
    "        time = author_info.find('span', class_='time').get_text(strip=True)\n",
    "\n",
    "        # Lấy tiêu đề câu hỏi\n",
    "        question_element = article.find('a', class_='question-title')\n",
    "        question = question_element.get_text(strip=True)\n",
    "        \n",
    "        # Lấy tình huống\n",
    "        summary = article.find('div', class_='question-sapo').get_text(strip=True)\n",
    "        \n",
    "        # Lấy liên kết chi tiết\n",
    "        detail_link = article.find('a', class_='box-viewmore')['href']\n",
    "        detail_url = f\"https://chinhsachonline.chinhphu.vn{detail_link}\"\n",
    "        \n",
    "        # Gửi yêu cầu HTTP để lấy nội dung trang chi tiết\n",
    "        detail_response = requests.get(detail_url)\n",
    "        detail_soup = BeautifulSoup(detail_response.content, 'html.parser')\n",
    "        \n",
    "        # Lấy câu trả lời từ trang chi tiết\n",
    "        answer_div = detail_soup.find('div', class_='detail__rcontent')\n",
    "        answer = answer_div.get_text(strip=True) if answer_div else 'No answer available'\n",
    "        \n",
    "        # Thêm thông tin bài viết vào danh sách\n",
    "        articles_data.append({\n",
    "            'Name': name,\n",
    "            'Time': time,\n",
    "            'Question': question,\n",
    "            'Situation': summary,\n",
    "            'Answer': answer\n",
    "        })\n",
    "    \n",
    "    return articles_data\n"
   ]
  },
  {
   "cell_type": "markdown",
   "metadata": {},
   "source": [
    "#### 2.2.Execute Function"
   ]
  },
  {
   "cell_type": "code",
   "execution_count": 9,
   "metadata": {},
   "outputs": [],
   "source": [
    "articles_data = []\n",
    "\n",
    "for page_num in range(1, 350):  # Thay đổi phạm vi để bao gồm số trang bạn cần\n",
    "    page_url = f\"https://chinhsachonline.chinhphu.vn/lao-dong-tien-luong/t1/11/trang-{page_num}.htm\"\n",
    "    articles_data.extend(crawl_page(page_url))\n",
    "    "
   ]
  },
  {
   "cell_type": "markdown",
   "metadata": {},
   "source": [
    "#### 2.3 Export csv"
   ]
  },
  {
   "cell_type": "code",
   "execution_count": 10,
   "metadata": {},
   "outputs": [
    {
     "data": {
      "text/html": [
       "<div>\n",
       "<style scoped>\n",
       "    .dataframe tbody tr th:only-of-type {\n",
       "        vertical-align: middle;\n",
       "    }\n",
       "\n",
       "    .dataframe tbody tr th {\n",
       "        vertical-align: top;\n",
       "    }\n",
       "\n",
       "    .dataframe thead th {\n",
       "        text-align: right;\n",
       "    }\n",
       "</style>\n",
       "<table border=\"1\" class=\"dataframe\">\n",
       "  <thead>\n",
       "    <tr style=\"text-align: right;\">\n",
       "      <th></th>\n",
       "      <th>Name</th>\n",
       "      <th>Time</th>\n",
       "      <th>Question</th>\n",
       "      <th>Situation</th>\n",
       "      <th>Answer</th>\n",
       "    </tr>\n",
       "  </thead>\n",
       "  <tbody>\n",
       "    <tr>\n",
       "      <th>0</th>\n",
       "      <td>Hoàng Trung Hiếu</td>\n",
       "      <td>11:56 12/08/2024</td>\n",
       "      <td>Đã ban hành Chương trình bồi dưỡng chức danh v...</td>\n",
       "      <td>Tôi công tác trong ngành văn hóa gần 20 năm na...</td>\n",
       "      <td>Bộ Văn hóa, Thể thao và Du lịch trả lời vấn đề...</td>\n",
       "    </tr>\n",
       "    <tr>\n",
       "      <th>1</th>\n",
       "      <td>Trịnh Minh Tâm</td>\n",
       "      <td>09:36 07/08/2024</td>\n",
       "      <td>Từng bị kỷ luật có được đề nghị xét tặng Huân ...</td>\n",
       "      <td>Ông A là Phó Giám đốc Sở, nhận thông báo nghỉ ...</td>\n",
       "      <td>Bộ Nội vụ trả lời vấn đề này như sau:Điểm b Kh...</td>\n",
       "    </tr>\n",
       "    <tr>\n",
       "      <th>2</th>\n",
       "      <td>Võ Thị Thu Lan</td>\n",
       "      <td>07:53 07/08/2024</td>\n",
       "      <td>Các chi nhánh có phải ban hành nội quy lao độn...</td>\n",
       "      <td>Tôi xin hỏi, tổng công ty TNHH MTV do Nhà nước...</td>\n",
       "      <td>Bộ Lao động – Thương binh và Xã hội trả lời vấ...</td>\n",
       "    </tr>\n",
       "    <tr>\n",
       "      <th>3</th>\n",
       "      <td>Cao Linh</td>\n",
       "      <td>08:34 06/08/2024</td>\n",
       "      <td>Trường hợp nào được trợ cấp chuyển vùng?</td>\n",
       "      <td>Ông Nguyễn Văn A là viên chức, công tác tại vù...</td>\n",
       "      <td>Bộ Nội vụ trả lời vấn đề này như sau:Nghị định...</td>\n",
       "    </tr>\n",
       "    <tr>\n",
       "      <th>4</th>\n",
       "      <td>Công ty CP S</td>\n",
       "      <td>08:25 06/08/2024</td>\n",
       "      <td>Điều kiện gửi văn bản ký số thay văn bản giấy</td>\n",
       "      <td>Công ty chúng tôi thường gửi văn bản cho cơ qu...</td>\n",
       "      <td>Bộ Nội vụ trả lời vấn đề này như sau:Để đảm bả...</td>\n",
       "    </tr>\n",
       "  </tbody>\n",
       "</table>\n",
       "</div>"
      ],
      "text/plain": [
       "               Name              Time  \\\n",
       "0  Hoàng Trung Hiếu  11:56 12/08/2024   \n",
       "1    Trịnh Minh Tâm  09:36 07/08/2024   \n",
       "2    Võ Thị Thu Lan  07:53 07/08/2024   \n",
       "3          Cao Linh  08:34 06/08/2024   \n",
       "4      Công ty CP S  08:25 06/08/2024   \n",
       "\n",
       "                                            Question  \\\n",
       "0  Đã ban hành Chương trình bồi dưỡng chức danh v...   \n",
       "1  Từng bị kỷ luật có được đề nghị xét tặng Huân ...   \n",
       "2  Các chi nhánh có phải ban hành nội quy lao độn...   \n",
       "3           Trường hợp nào được trợ cấp chuyển vùng?   \n",
       "4      Điều kiện gửi văn bản ký số thay văn bản giấy   \n",
       "\n",
       "                                           Situation  \\\n",
       "0  Tôi công tác trong ngành văn hóa gần 20 năm na...   \n",
       "1  Ông A là Phó Giám đốc Sở, nhận thông báo nghỉ ...   \n",
       "2  Tôi xin hỏi, tổng công ty TNHH MTV do Nhà nước...   \n",
       "3  Ông Nguyễn Văn A là viên chức, công tác tại vù...   \n",
       "4  Công ty chúng tôi thường gửi văn bản cho cơ qu...   \n",
       "\n",
       "                                              Answer  \n",
       "0  Bộ Văn hóa, Thể thao và Du lịch trả lời vấn đề...  \n",
       "1  Bộ Nội vụ trả lời vấn đề này như sau:Điểm b Kh...  \n",
       "2  Bộ Lao động – Thương binh và Xã hội trả lời vấ...  \n",
       "3  Bộ Nội vụ trả lời vấn đề này như sau:Nghị định...  \n",
       "4  Bộ Nội vụ trả lời vấn đề này như sau:Để đảm bả...  "
      ]
     },
     "execution_count": 10,
     "metadata": {},
     "output_type": "execute_result"
    }
   ],
   "source": [
    "# Tạo DataFrame từ danh sách dữ liệu\n",
    "df_laodong_tienthuong = pd.DataFrame(articles_data)\n",
    "df_laodong_tienthuong.head(5)"
   ]
  },
  {
   "cell_type": "code",
   "execution_count": 11,
   "metadata": {},
   "outputs": [
    {
     "name": "stdout",
     "output_type": "stream",
     "text": [
      "Successfully saved data to ../data/laodong_tienthuong_data.csv\n"
     ]
    }
   ],
   "source": [
    "\n",
    "# Lưu DataFrame vào file CSV\n",
    "csv_file = '../data/laodong_tienthuong_data.csv'\n",
    "df_laodong_tienthuong.to_csv(csv_file, encoding='utf-8',index_label='Index')\n",
    "\n",
    "print(f\"Successfully saved data to {csv_file}\")"
   ]
  },
  {
   "cell_type": "code",
   "execution_count": 12,
   "metadata": {},
   "outputs": [],
   "source": [
    "df_laodong_tienthuong=pd.read_csv(\"../data/data_tinhhuong/laodong_tienthuong_data.csv\",encoding='utf-8')"
   ]
  },
  {
   "cell_type": "code",
   "execution_count": 13,
   "metadata": {},
   "outputs": [
    {
     "data": {
      "text/html": [
       "<div>\n",
       "<style scoped>\n",
       "    .dataframe tbody tr th:only-of-type {\n",
       "        vertical-align: middle;\n",
       "    }\n",
       "\n",
       "    .dataframe tbody tr th {\n",
       "        vertical-align: top;\n",
       "    }\n",
       "\n",
       "    .dataframe thead th {\n",
       "        text-align: right;\n",
       "    }\n",
       "</style>\n",
       "<table border=\"1\" class=\"dataframe\">\n",
       "  <thead>\n",
       "    <tr style=\"text-align: right;\">\n",
       "      <th></th>\n",
       "      <th>Index</th>\n",
       "      <th>Name</th>\n",
       "      <th>Time</th>\n",
       "      <th>Question</th>\n",
       "      <th>Situation</th>\n",
       "      <th>Answer</th>\n",
       "    </tr>\n",
       "  </thead>\n",
       "  <tbody>\n",
       "    <tr>\n",
       "      <th>0</th>\n",
       "      <td>0</td>\n",
       "      <td>Trịnh Minh Tâm</td>\n",
       "      <td>09:36 07/08/2024</td>\n",
       "      <td>Từng bị kỷ luật có được đề nghị xét tặng Huân ...</td>\n",
       "      <td>Ông A là Phó Giám đốc Sở, nhận thông báo nghỉ ...</td>\n",
       "      <td>Bộ Nội vụ trả lời vấn đề này như sau:Điểm b Kh...</td>\n",
       "    </tr>\n",
       "    <tr>\n",
       "      <th>1</th>\n",
       "      <td>1</td>\n",
       "      <td>Võ Thị Thu Lan</td>\n",
       "      <td>07:53 07/08/2024</td>\n",
       "      <td>Các chi nhánh có phải ban hành nội quy lao độn...</td>\n",
       "      <td>Tôi xin hỏi, tổng công ty TNHH MTV do Nhà nước...</td>\n",
       "      <td>Bộ Lao động – Thương binh và Xã hội trả lời vấ...</td>\n",
       "    </tr>\n",
       "    <tr>\n",
       "      <th>2</th>\n",
       "      <td>2</td>\n",
       "      <td>Cao Linh</td>\n",
       "      <td>08:34 06/08/2024</td>\n",
       "      <td>Trường hợp nào được trợ cấp chuyển vùng?</td>\n",
       "      <td>Ông Nguyễn Văn A là viên chức, công tác tại vù...</td>\n",
       "      <td>Bộ Nội vụ trả lời vấn đề này như sau:Nghị định...</td>\n",
       "    </tr>\n",
       "    <tr>\n",
       "      <th>3</th>\n",
       "      <td>3</td>\n",
       "      <td>Công ty CP S</td>\n",
       "      <td>08:25 06/08/2024</td>\n",
       "      <td>Điều kiện gửi văn bản ký số thay văn bản giấy</td>\n",
       "      <td>Công ty chúng tôi thường gửi văn bản cho cơ qu...</td>\n",
       "      <td>Bộ Nội vụ trả lời vấn đề này như sau:Để đảm bả...</td>\n",
       "    </tr>\n",
       "    <tr>\n",
       "      <th>4</th>\n",
       "      <td>4</td>\n",
       "      <td>Thái Thị Hoài</td>\n",
       "      <td>09:05 05/08/2024</td>\n",
       "      <td>Căn cứ xét tặng Bằng khen của Thủ tướng</td>\n",
       "      <td>Tôi là giáo viên THPT. Từ năm 2019 đến năm 202...</td>\n",
       "      <td>Bộ Nội vụ trả lời vấn đề này như sau:Điểm b Kh...</td>\n",
       "    </tr>\n",
       "  </tbody>\n",
       "</table>\n",
       "</div>"
      ],
      "text/plain": [
       "   Index            Name              Time  \\\n",
       "0      0  Trịnh Minh Tâm  09:36 07/08/2024   \n",
       "1      1  Võ Thị Thu Lan  07:53 07/08/2024   \n",
       "2      2        Cao Linh  08:34 06/08/2024   \n",
       "3      3    Công ty CP S  08:25 06/08/2024   \n",
       "4      4   Thái Thị Hoài  09:05 05/08/2024   \n",
       "\n",
       "                                            Question  \\\n",
       "0  Từng bị kỷ luật có được đề nghị xét tặng Huân ...   \n",
       "1  Các chi nhánh có phải ban hành nội quy lao độn...   \n",
       "2           Trường hợp nào được trợ cấp chuyển vùng?   \n",
       "3      Điều kiện gửi văn bản ký số thay văn bản giấy   \n",
       "4            Căn cứ xét tặng Bằng khen của Thủ tướng   \n",
       "\n",
       "                                           Situation  \\\n",
       "0  Ông A là Phó Giám đốc Sở, nhận thông báo nghỉ ...   \n",
       "1  Tôi xin hỏi, tổng công ty TNHH MTV do Nhà nước...   \n",
       "2  Ông Nguyễn Văn A là viên chức, công tác tại vù...   \n",
       "3  Công ty chúng tôi thường gửi văn bản cho cơ qu...   \n",
       "4  Tôi là giáo viên THPT. Từ năm 2019 đến năm 202...   \n",
       "\n",
       "                                              Answer  \n",
       "0  Bộ Nội vụ trả lời vấn đề này như sau:Điểm b Kh...  \n",
       "1  Bộ Lao động – Thương binh và Xã hội trả lời vấ...  \n",
       "2  Bộ Nội vụ trả lời vấn đề này như sau:Nghị định...  \n",
       "3  Bộ Nội vụ trả lời vấn đề này như sau:Để đảm bả...  \n",
       "4  Bộ Nội vụ trả lời vấn đề này như sau:Điểm b Kh...  "
      ]
     },
     "execution_count": 13,
     "metadata": {},
     "output_type": "execute_result"
    }
   ],
   "source": [
    "df_laodong_tienthuong.head(5)"
   ]
  }
 ],
 "metadata": {
  "kernelspec": {
   "display_name": "machinelearning-lTTH8rYd",
   "language": "python",
   "name": "python3"
  },
  "language_info": {
   "codemirror_mode": {
    "name": "ipython",
    "version": 3
   },
   "file_extension": ".py",
   "mimetype": "text/x-python",
   "name": "python",
   "nbconvert_exporter": "python",
   "pygments_lexer": "ipython3",
   "version": "3.11.5"
  }
 },
 "nbformat": 4,
 "nbformat_minor": 2
}
