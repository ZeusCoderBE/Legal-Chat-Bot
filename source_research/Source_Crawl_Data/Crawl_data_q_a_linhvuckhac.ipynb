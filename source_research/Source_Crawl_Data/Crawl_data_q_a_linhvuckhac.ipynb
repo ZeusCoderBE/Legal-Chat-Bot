{
 "cells": [
  {
   "cell_type": "markdown",
   "metadata": {},
   "source": [
    "### 1. Import Library"
   ]
  },
  {
   "cell_type": "code",
   "execution_count": 1,
   "metadata": {},
   "outputs": [],
   "source": [
    "import requests\n",
    "from bs4 import BeautifulSoup\n",
    "from fpdf import FPDF\n",
    "import pandas as pd"
   ]
  },
  {
   "cell_type": "markdown",
   "metadata": {},
   "source": [
    "### 2.Crawl_data_q_a"
   ]
  },
  {
   "cell_type": "markdown",
   "metadata": {},
   "source": [
    "#### 2.1.Find Elements"
   ]
  },
  {
   "cell_type": "code",
   "execution_count": 2,
   "metadata": {},
   "outputs": [],
   "source": [
    "# Hàm để cào dữ liệu từ một trang\n",
    "def crawl_page(url):\n",
    "    response = requests.get(url)\n",
    "    soup = BeautifulSoup(response.content, 'html.parser')\n",
    "    articles = soup.find_all('div', class_='box-item-content')\n",
    "    articles_data = []\n",
    "    \n",
    "    for _, article in enumerate(articles, start=1):\n",
    "        # Lấy thông tin tác giả và thời gian\n",
    "        author_info = article.find('div', class_='box-item-top')\n",
    "        name = author_info.find('span', class_='author').get_text(strip=True)\n",
    "        time = author_info.find('span', class_='time').get_text(strip=True)\n",
    "\n",
    "        # Lấy tiêu đề câu hỏi\n",
    "        question_element = article.find('a', class_='question-title')\n",
    "        question = question_element.get_text(strip=True)\n",
    "        \n",
    "        # Lấy tình huống\n",
    "        summary = article.find('div', class_='question-sapo').get_text(strip=True)\n",
    "        \n",
    "        # Lấy liên kết chi tiết\n",
    "        detail_link = article.find('a', class_='box-viewmore')['href']\n",
    "        detail_url = f\"https://chinhsachonline.chinhphu.vn{detail_link}\"\n",
    "        \n",
    "        # Gửi yêu cầu HTTP để lấy nội dung trang chi tiết\n",
    "        detail_response = requests.get(detail_url)\n",
    "        detail_soup = BeautifulSoup(detail_response.content, 'html.parser')\n",
    "        \n",
    "        # Lấy câu trả lời từ trang chi tiết\n",
    "        answer_div = detail_soup.find('div', class_='detail__rcontent')\n",
    "        answer = answer_div.get_text(strip=True) if answer_div else 'No answer available'\n",
    "        \n",
    "        # Thêm thông tin bài viết vào danh sách\n",
    "        articles_data.append({\n",
    "            'Name': name,\n",
    "            'Time': time,\n",
    "            'Question': question,\n",
    "            'Situation': summary,\n",
    "            'Answer': answer\n",
    "        })\n",
    "    \n",
    "    return articles_data\n"
   ]
  },
  {
   "cell_type": "markdown",
   "metadata": {},
   "source": [
    "#### 2.2.Execute Function"
   ]
  },
  {
   "cell_type": "code",
   "execution_count": 3,
   "metadata": {},
   "outputs": [],
   "source": [
    "articles_data = []\n",
    "for page_num in range(1, 350):  # Thay đổi phạm vi để bao gồm số trang bạn cần\n",
    "    page_url = f\"https://chinhsachonline.chinhphu.vn/linh-vuc-khac/t1/16/trang-{page_num}.htm\"\n",
    "    articles_data.extend(crawl_page(page_url))\n",
    " "
   ]
  },
  {
   "cell_type": "markdown",
   "metadata": {},
   "source": [
    "#### 2.3 Export csv"
   ]
  },
  {
   "cell_type": "code",
   "execution_count": 4,
   "metadata": {},
   "outputs": [
    {
     "data": {
      "text/html": [
       "<div>\n",
       "<style scoped>\n",
       "    .dataframe tbody tr th:only-of-type {\n",
       "        vertical-align: middle;\n",
       "    }\n",
       "\n",
       "    .dataframe tbody tr th {\n",
       "        vertical-align: top;\n",
       "    }\n",
       "\n",
       "    .dataframe thead th {\n",
       "        text-align: right;\n",
       "    }\n",
       "</style>\n",
       "<table border=\"1\" class=\"dataframe\">\n",
       "  <thead>\n",
       "    <tr style=\"text-align: right;\">\n",
       "      <th></th>\n",
       "      <th>Name</th>\n",
       "      <th>Time</th>\n",
       "      <th>Question</th>\n",
       "      <th>Situation</th>\n",
       "      <th>Answer</th>\n",
       "    </tr>\n",
       "  </thead>\n",
       "  <tbody>\n",
       "    <tr>\n",
       "      <th>0</th>\n",
       "      <td>Đào Long Sơn</td>\n",
       "      <td>14:49 28/08/2023</td>\n",
       "      <td>Thi tìm hiểu pháp luật có phải hoạt động văn h...</td>\n",
       "      <td>Tôi xin hỏi, các địa phương tổ chức các cuộc t...</td>\n",
       "      <td>Bộ Văn hóa, Thể thao và Du lịch trả lời vấn đề...</td>\n",
       "    </tr>\n",
       "    <tr>\n",
       "      <th>1</th>\n",
       "      <td>Nguyên Hạnh</td>\n",
       "      <td>23:37 28/06/2023</td>\n",
       "      <td>Tổ chức cuộc thi về ẩm thực có cần xin giấy phép?</td>\n",
       "      <td>Đơn vị tôi muốn tổ chức một cuộc thi về ẩm thự...</td>\n",
       "      <td>Cục Văn hóa cơ sở, Bộ Văn hóa, Thể thao và Du ...</td>\n",
       "    </tr>\n",
       "    <tr>\n",
       "      <th>2</th>\n",
       "      <td>Nguyễn Văn Tú</td>\n",
       "      <td>20:58 24/05/2023</td>\n",
       "      <td>Có quy định xét công nhận danh hiệu 'Tộc họ vă...</td>\n",
       "      <td>Tôi muốn đăng ký xây dựng \"Tộc họ văn hoá\" của...</td>\n",
       "      <td>Cục Văn hóa cơ sở, Bộ Văn hóa, Thể thao và Du ...</td>\n",
       "    </tr>\n",
       "    <tr>\n",
       "      <th>3</th>\n",
       "      <td>Đỗ Quốc Hưng</td>\n",
       "      <td>07:05 18/03/2023</td>\n",
       "      <td>Có cần phần \"Kính gửi\" trong báo cáo không?</td>\n",
       "      <td>Nghị định số 30/2020/NĐ-CP quy định, ngoài tờ ...</td>\n",
       "      <td>Bộ Nội vụ trả lời vấn đề này như sau:Báo cáo l...</td>\n",
       "    </tr>\n",
       "    <tr>\n",
       "      <th>4</th>\n",
       "      <td>Lý Hoàng Long</td>\n",
       "      <td>09:34 17/03/2023</td>\n",
       "      <td>Tổ chức biểu diễn trên mạng có cần xin cấp phép?</td>\n",
       "      <td>Tôi dự định mở một cuộc biểu diễn trên nền tản...</td>\n",
       "      <td>Cục Nghệ thuật biểu diễn, Bộ Văn hóa, Thể thao...</td>\n",
       "    </tr>\n",
       "  </tbody>\n",
       "</table>\n",
       "</div>"
      ],
      "text/plain": [
       "            Name              Time  \\\n",
       "0   Đào Long Sơn  14:49 28/08/2023   \n",
       "1    Nguyên Hạnh  23:37 28/06/2023   \n",
       "2  Nguyễn Văn Tú  20:58 24/05/2023   \n",
       "3   Đỗ Quốc Hưng  07:05 18/03/2023   \n",
       "4  Lý Hoàng Long  09:34 17/03/2023   \n",
       "\n",
       "                                            Question  \\\n",
       "0  Thi tìm hiểu pháp luật có phải hoạt động văn h...   \n",
       "1  Tổ chức cuộc thi về ẩm thực có cần xin giấy phép?   \n",
       "2  Có quy định xét công nhận danh hiệu 'Tộc họ vă...   \n",
       "3        Có cần phần \"Kính gửi\" trong báo cáo không?   \n",
       "4   Tổ chức biểu diễn trên mạng có cần xin cấp phép?   \n",
       "\n",
       "                                           Situation  \\\n",
       "0  Tôi xin hỏi, các địa phương tổ chức các cuộc t...   \n",
       "1  Đơn vị tôi muốn tổ chức một cuộc thi về ẩm thự...   \n",
       "2  Tôi muốn đăng ký xây dựng \"Tộc họ văn hoá\" của...   \n",
       "3  Nghị định số 30/2020/NĐ-CP quy định, ngoài tờ ...   \n",
       "4  Tôi dự định mở một cuộc biểu diễn trên nền tản...   \n",
       "\n",
       "                                              Answer  \n",
       "0  Bộ Văn hóa, Thể thao và Du lịch trả lời vấn đề...  \n",
       "1  Cục Văn hóa cơ sở, Bộ Văn hóa, Thể thao và Du ...  \n",
       "2  Cục Văn hóa cơ sở, Bộ Văn hóa, Thể thao và Du ...  \n",
       "3  Bộ Nội vụ trả lời vấn đề này như sau:Báo cáo l...  \n",
       "4  Cục Nghệ thuật biểu diễn, Bộ Văn hóa, Thể thao...  "
      ]
     },
     "execution_count": 4,
     "metadata": {},
     "output_type": "execute_result"
    }
   ],
   "source": [
    "# Tạo DataFrame từ danh sách dữ liệu\n",
    "df_linhvuckhac = pd.DataFrame(articles_data)\n",
    "df_linhvuckhac.head(5)"
   ]
  },
  {
   "cell_type": "code",
   "execution_count": 5,
   "metadata": {},
   "outputs": [
    {
     "name": "stdout",
     "output_type": "stream",
     "text": [
      "Successfully saved data to ../data/data_tinhhuong/linhvuckhac.csv\n"
     ]
    }
   ],
   "source": [
    "\n",
    "# Lưu DataFrame vào file CSV\n",
    "csv_file = '../data/data_tinhhuong/linhvuckhac_data.csv'\n",
    "df_linhvuckhac.to_csv(csv_file, encoding='utf-8',index_label='Index')\n",
    "print(f\"Successfully saved data to {csv_file}\")"
   ]
  },
  {
   "cell_type": "code",
   "execution_count": 6,
   "metadata": {},
   "outputs": [],
   "source": [
    "df_linhvuckhac=pd.read_csv(\"../data/data_tinhhuong/linhvuckhac_data.csv\",encoding='utf-8')"
   ]
  },
  {
   "cell_type": "code",
   "execution_count": 7,
   "metadata": {},
   "outputs": [
    {
     "data": {
      "text/html": [
       "<div>\n",
       "<style scoped>\n",
       "    .dataframe tbody tr th:only-of-type {\n",
       "        vertical-align: middle;\n",
       "    }\n",
       "\n",
       "    .dataframe tbody tr th {\n",
       "        vertical-align: top;\n",
       "    }\n",
       "\n",
       "    .dataframe thead th {\n",
       "        text-align: right;\n",
       "    }\n",
       "</style>\n",
       "<table border=\"1\" class=\"dataframe\">\n",
       "  <thead>\n",
       "    <tr style=\"text-align: right;\">\n",
       "      <th></th>\n",
       "      <th>Index</th>\n",
       "      <th>Name</th>\n",
       "      <th>Time</th>\n",
       "      <th>Question</th>\n",
       "      <th>Situation</th>\n",
       "      <th>Answer</th>\n",
       "    </tr>\n",
       "  </thead>\n",
       "  <tbody>\n",
       "    <tr>\n",
       "      <th>0</th>\n",
       "      <td>0</td>\n",
       "      <td>Đào Long Sơn</td>\n",
       "      <td>14:49 28/08/2023</td>\n",
       "      <td>Thi tìm hiểu pháp luật có phải hoạt động văn h...</td>\n",
       "      <td>Tôi xin hỏi, các địa phương tổ chức các cuộc t...</td>\n",
       "      <td>Bộ Văn hóa, Thể thao và Du lịch trả lời vấn đề...</td>\n",
       "    </tr>\n",
       "    <tr>\n",
       "      <th>1</th>\n",
       "      <td>1</td>\n",
       "      <td>Nguyên Hạnh</td>\n",
       "      <td>23:37 28/06/2023</td>\n",
       "      <td>Tổ chức cuộc thi về ẩm thực có cần xin giấy phép?</td>\n",
       "      <td>Đơn vị tôi muốn tổ chức một cuộc thi về ẩm thự...</td>\n",
       "      <td>Cục Văn hóa cơ sở, Bộ Văn hóa, Thể thao và Du ...</td>\n",
       "    </tr>\n",
       "    <tr>\n",
       "      <th>2</th>\n",
       "      <td>2</td>\n",
       "      <td>Nguyễn Văn Tú</td>\n",
       "      <td>20:58 24/05/2023</td>\n",
       "      <td>Có quy định xét công nhận danh hiệu 'Tộc họ vă...</td>\n",
       "      <td>Tôi muốn đăng ký xây dựng \"Tộc họ văn hoá\" của...</td>\n",
       "      <td>Cục Văn hóa cơ sở, Bộ Văn hóa, Thể thao và Du ...</td>\n",
       "    </tr>\n",
       "    <tr>\n",
       "      <th>3</th>\n",
       "      <td>3</td>\n",
       "      <td>Đỗ Quốc Hưng</td>\n",
       "      <td>07:05 18/03/2023</td>\n",
       "      <td>Có cần phần \"Kính gửi\" trong báo cáo không?</td>\n",
       "      <td>Nghị định số 30/2020/NĐ-CP quy định, ngoài tờ ...</td>\n",
       "      <td>Bộ Nội vụ trả lời vấn đề này như sau:Báo cáo l...</td>\n",
       "    </tr>\n",
       "    <tr>\n",
       "      <th>4</th>\n",
       "      <td>4</td>\n",
       "      <td>Lý Hoàng Long</td>\n",
       "      <td>09:34 17/03/2023</td>\n",
       "      <td>Tổ chức biểu diễn trên mạng có cần xin cấp phép?</td>\n",
       "      <td>Tôi dự định mở một cuộc biểu diễn trên nền tản...</td>\n",
       "      <td>Cục Nghệ thuật biểu diễn, Bộ Văn hóa, Thể thao...</td>\n",
       "    </tr>\n",
       "  </tbody>\n",
       "</table>\n",
       "</div>"
      ],
      "text/plain": [
       "   Index           Name              Time  \\\n",
       "0      0   Đào Long Sơn  14:49 28/08/2023   \n",
       "1      1    Nguyên Hạnh  23:37 28/06/2023   \n",
       "2      2  Nguyễn Văn Tú  20:58 24/05/2023   \n",
       "3      3   Đỗ Quốc Hưng  07:05 18/03/2023   \n",
       "4      4  Lý Hoàng Long  09:34 17/03/2023   \n",
       "\n",
       "                                            Question  \\\n",
       "0  Thi tìm hiểu pháp luật có phải hoạt động văn h...   \n",
       "1  Tổ chức cuộc thi về ẩm thực có cần xin giấy phép?   \n",
       "2  Có quy định xét công nhận danh hiệu 'Tộc họ vă...   \n",
       "3        Có cần phần \"Kính gửi\" trong báo cáo không?   \n",
       "4   Tổ chức biểu diễn trên mạng có cần xin cấp phép?   \n",
       "\n",
       "                                           Situation  \\\n",
       "0  Tôi xin hỏi, các địa phương tổ chức các cuộc t...   \n",
       "1  Đơn vị tôi muốn tổ chức một cuộc thi về ẩm thự...   \n",
       "2  Tôi muốn đăng ký xây dựng \"Tộc họ văn hoá\" của...   \n",
       "3  Nghị định số 30/2020/NĐ-CP quy định, ngoài tờ ...   \n",
       "4  Tôi dự định mở một cuộc biểu diễn trên nền tản...   \n",
       "\n",
       "                                              Answer  \n",
       "0  Bộ Văn hóa, Thể thao và Du lịch trả lời vấn đề...  \n",
       "1  Cục Văn hóa cơ sở, Bộ Văn hóa, Thể thao và Du ...  \n",
       "2  Cục Văn hóa cơ sở, Bộ Văn hóa, Thể thao và Du ...  \n",
       "3  Bộ Nội vụ trả lời vấn đề này như sau:Báo cáo l...  \n",
       "4  Cục Nghệ thuật biểu diễn, Bộ Văn hóa, Thể thao...  "
      ]
     },
     "execution_count": 7,
     "metadata": {},
     "output_type": "execute_result"
    }
   ],
   "source": [
    "df_linhvuckhac.head(5)"
   ]
  }
 ],
 "metadata": {
  "kernelspec": {
   "display_name": "machinelearning-lTTH8rYd",
   "language": "python",
   "name": "python3"
  },
  "language_info": {
   "codemirror_mode": {
    "name": "ipython",
    "version": 3
   },
   "file_extension": ".py",
   "mimetype": "text/x-python",
   "name": "python",
   "nbconvert_exporter": "python",
   "pygments_lexer": "ipython3",
   "version": "3.11.5"
  }
 },
 "nbformat": 4,
 "nbformat_minor": 2
}
