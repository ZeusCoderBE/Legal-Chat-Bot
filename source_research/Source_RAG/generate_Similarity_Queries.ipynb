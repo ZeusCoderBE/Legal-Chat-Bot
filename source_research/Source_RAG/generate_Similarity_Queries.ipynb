{
 "cells": [
  {
   "cell_type": "code",
   "execution_count": 1,
   "metadata": {},
   "outputs": [],
   "source": [
    "from dotenv import load_dotenv\n",
    "import os\n",
    "from apikeys_GEMINI import APIKeyManager\n",
    "\n",
    "from langchain_core.prompts import ChatPromptTemplate\n",
    "from langchain_google_genai import ChatGoogleGenerativeAI\n",
    "from langchain_core.output_parsers import StrOutputParser"
   ]
  },
  {
   "cell_type": "code",
   "execution_count": 10,
   "metadata": {},
   "outputs": [],
   "source": [
    "load_dotenv(dotenv_path=r'.env')\n",
    "\n",
    "MODEL_GEMINI = os.getenv(\"MODEL_GEMIMI\")\n",
    "# MODEL_GEMINI = \"models/gemini-1.5-pro\"\n",
    "if MODEL_GEMINI is None:\n",
    "    raise ValueError(\"Environment variable MODEL_GEMINI is not set\")\n",
    "elif not MODEL_GEMINI.startswith(\"models/\"):\n",
    "    MODEL_GEMINI = f\"models/{MODEL_GEMINI}\"\n",
    "\n",
    "\n",
    "URL_QDRANT = os.getenv(\"URL_QDRANT\")\n",
    "API_QDRANT = os.getenv(\"API_QDRANT\")\n",
    "CONTENT_PAYLOAD_KEY = os.getenv(\"CONTENT_PAYLOAD_KEY\")\n",
    "METADATA_PAYLOAD_KEY = os.getenv(\"METADATA_PAYLOAD_KEY\")\n",
    "\n",
    "API_GEMINI_LIST = os.getenv('APIS_GEMINI').split(',')\n",
    "key_manager = APIKeyManager(API_GEMINI_LIST)\n",
    "\n",
    "TOP_K = 5\n",
    "MAX_DOCS_FOR_CONTEXT = 8"
   ]
  },
  {
   "cell_type": "markdown",
   "metadata": {},
   "source": [
    "# Hàm sinh câu hỏi tương tự (3 câu)"
   ]
  },
  {
   "cell_type": "code",
   "execution_count": 14,
   "metadata": {},
   "outputs": [],
   "source": [
    "def query_generator(original_query: str) -> list[str]:\n",
    "    \"\"\"Generate queries from original query\"\"\"\n",
    "    # Câu truy vấn gốc\n",
    "    query = original_query\n",
    "    \n",
    "    # Cập nhật prompt để yêu cầu rõ ràng chỉ trả về 3 câu truy vấn và câu gốc\n",
    "    prompt = ChatPromptTemplate.from_messages(\n",
    "        [\n",
    "            (\"system\", \"You are a helpful assistant that generates multiple search queries based on a single query.\"),\n",
    "            (\"human\", \"Generate 3 search queries related to: {original_query}. Provide each query on a new line, and ensure that only the queries are returned, with no additional explanations or text.\"),\n",
    "        ]\n",
    "    )\n",
    "    \n",
    "    model = ChatGoogleGenerativeAI(\n",
    "        # key api google gemini, nếu test mà bị báo lỗi api core thì lấy api khác trong .env để test\n",
    "        google_api_key=key_manager.get_next_key(),\n",
    "        model=MODEL_GEMINI,\n",
    "        temperature=0\n",
    "    )\n",
    "    \n",
    "    query_generator_chain = (\n",
    "        prompt | model | StrOutputParser()\n",
    "    )\n",
    "    \n",
    "    # Kết quả sẽ là một chuỗi các câu truy vấn cách nhau bằng dấu xuống dòng\n",
    "    result = query_generator_chain.invoke({\"original_query\": query})\n",
    "    \n",
    "    # Tách kết quả thành danh sách các câu truy vấn\n",
    "    generated_queries = result.strip().split('\\n')\n",
    "    \n",
    "    # Đảm bảo chỉ lấy 3 câu nếu có nhiều hơn 3 câu truy vấn sinh ra\n",
    "    if len(generated_queries) > 3:\n",
    "        generated_queries = generated_queries[:3]\n",
    "    \n",
    "    # Kết hợp câu gốc với các câu truy vấn sinh ra\n",
    "    queries = [query] + generated_queries\n",
    "    \n",
    "    return queries\n"
   ]
  },
  {
   "cell_type": "markdown",
   "metadata": {},
   "source": [
    "# Test"
   ]
  },
  {
   "cell_type": "code",
   "execution_count": 15,
   "metadata": {},
   "outputs": [
    {
     "name": "stdout",
     "output_type": "stream",
     "text": [
      "1: Tôi tốt nghiệp cao đẳng dược, đã có chứng chỉ hành nghề y và làm việc tại 1 bệnh viện thuộc TP. Hải Phòng. Xin hỏi, tôi muốn làm thêm chứng chỉ hành nghề dược có được không? Có phải bỏ chứng chỉ y để làm chứng chỉ dược không? Có thể sử dụng song song 2 chứng chỉ này được không?\n",
      "2: Điều kiện làm thêm chứng chỉ hành nghề dược khi đã có chứng chỉ hành nghề y\n",
      "3: Có thể sử dụng đồng thời chứng chỉ hành nghề y và chứng chỉ hành nghề dược\n",
      "4: Bỏ chứng chỉ hành nghề y để làm chứng chỉ hành nghề dược\n"
     ]
    }
   ],
   "source": [
    "# Dictionary để test hàm query_generator\n",
    "test_input = \"Tôi tốt nghiệp cao đẳng dược, đã có chứng chỉ hành nghề y và làm việc tại 1 bệnh viện thuộc TP. Hải Phòng. Xin hỏi, tôi muốn làm thêm chứng chỉ hành nghề dược có được không? Có phải bỏ chứng chỉ y để làm chứng chỉ dược không? Có thể sử dụng song song 2 chứng chỉ này được không?\"\n",
    "\n",
    "# Gọi hàm query_generator với test_input\n",
    "generated_queries = query_generator(test_input)\n",
    "\n",
    "# In ra các truy vấn được sinh ra\n",
    "for i, query in enumerate(generated_queries, 1):\n",
    "    print(f\"{i}: {query}\")\n"
   ]
  },
  {
   "cell_type": "code",
   "execution_count": 16,
   "metadata": {},
   "outputs": [
    {
     "data": {
      "text/plain": [
       "'Điều kiện làm thêm chứng chỉ hành nghề dược khi đã có chứng chỉ hành nghề y'"
      ]
     },
     "execution_count": 16,
     "metadata": {},
     "output_type": "execute_result"
    }
   ],
   "source": [
    "generated_queries[1]"
   ]
  },
  {
   "cell_type": "code",
   "execution_count": 17,
   "metadata": {},
   "outputs": [
    {
     "data": {
      "text/plain": [
       "str"
      ]
     },
     "execution_count": 17,
     "metadata": {},
     "output_type": "execute_result"
    }
   ],
   "source": [
    "type(generated_queries[1])"
   ]
  },
  {
   "cell_type": "code",
   "execution_count": null,
   "metadata": {},
   "outputs": [],
   "source": []
  }
 ],
 "metadata": {
  "kernelspec": {
   "display_name": "Python 3",
   "language": "python",
   "name": "python3"
  },
  "language_info": {
   "codemirror_mode": {
    "name": "ipython",
    "version": 3
   },
   "file_extension": ".py",
   "mimetype": "text/x-python",
   "name": "python",
   "nbconvert_exporter": "python",
   "pygments_lexer": "ipython3",
   "version": "3.9.8"
  }
 },
 "nbformat": 4,
 "nbformat_minor": 2
}
