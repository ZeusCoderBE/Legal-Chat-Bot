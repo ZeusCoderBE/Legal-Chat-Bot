{
 "cells": [
  {
   "cell_type": "markdown",
   "metadata": {},
   "source": [
    "# 1. Thư viện"
   ]
  },
  {
   "cell_type": "code",
   "execution_count": 1,
   "metadata": {},
   "outputs": [],
   "source": [
    "import os\n",
    "import json"
   ]
  },
  {
   "cell_type": "markdown",
   "metadata": {},
   "source": [
    "# 2. Thực thi"
   ]
  },
  {
   "cell_type": "code",
   "execution_count": 2,
   "metadata": {},
   "outputs": [],
   "source": [
    "# Đường dẫn tới thư mục chứa các file .docx\n",
    "folder_path = r\"data\\trich_dan_luat\\docx\\Luat\""
   ]
  },
  {
   "cell_type": "markdown",
   "metadata": {},
   "source": [
    "## 2.1. Hàm xử lý tách fileName"
   ]
  },
  {
   "cell_type": "code",
   "execution_count": 3,
   "metadata": {},
   "outputs": [],
   "source": [
    "def process_file_name(file_name):\n",
    "    parts = file_name.split(\"_\")\n",
    "    result = {\n",
    "        \"stt\": parts[0],\n",
    "        \"loai_van_ban\": parts[1],\n",
    "        \"noi_ban_hanh\": parts[2],\n",
    "        \"so_hieu\": parts[3],\n",
    "        \"linhvuc_nganh\": parts[4],\n",
    "        \"ngay_ban_hanh\": parts[5],\n",
    "        \"ngay_hieu_luc\": parts[6],\n",
    "        \"chu_de\": parts[7] if len(parts) > 7 else \"\"\n",
    "    }\n",
    "    \n",
    "    # Kiểm tra và thay đổi các ký tự '-' thành '/' cho các key cần thiết\n",
    "    for key in [\"so_hieu\", \"ngay_ban_hanh\", \"ngay_hieu_luc\"]:\n",
    "        if '-' in result[key]:\n",
    "            result[key] = [result[key], result[key].replace(\"-\", \"/\")]\n",
    "        else:\n",
    "            result[key] = result[key]  # Giữ nguyên nếu không có '-'\n",
    "    \n",
    "    return result"
   ]
  },
  {
   "cell_type": "markdown",
   "metadata": {},
   "source": [
    "## 2.2. Lưu kết quả"
   ]
  },
  {
   "cell_type": "code",
   "execution_count": 4,
   "metadata": {},
   "outputs": [
    {
     "name": "stdout",
     "output_type": "stream",
     "text": [
      "Xử lý và lưu file thành công!\n"
     ]
    }
   ],
   "source": [
    "# Tạo danh sách các kết quả\n",
    "results = []\n",
    "\n",
    "# Duyệt qua các file .docx trong thư mục\n",
    "for file_name in os.listdir(folder_path):\n",
    "    if file_name.endswith(\".docx\"):\n",
    "        # Loại bỏ đuôi .docx trước khi tách\n",
    "        base_name = os.path.splitext(file_name)[0]\n",
    "        processed_data = process_file_name(base_name)\n",
    "        results.append(processed_data)\n",
    "\n",
    "# Ghi kết quả ra file JSON\n",
    "with open(r\"data\\trich_dan_luat\\json\\extract_Data_FileName.json\", \"w\", encoding=\"utf-8\") as json_file:\n",
    "    json.dump(results, json_file, ensure_ascii=False, indent=4)\n",
    "\n",
    "print(\"Xử lý và lưu file thành công!\")"
   ]
  }
 ],
 "metadata": {
  "kernelspec": {
   "display_name": "Python 3",
   "language": "python",
   "name": "python3"
  },
  "language_info": {
   "codemirror_mode": {
    "name": "ipython",
    "version": 3
   },
   "file_extension": ".py",
   "mimetype": "text/x-python",
   "name": "python",
   "nbconvert_exporter": "python",
   "pygments_lexer": "ipython3",
   "version": "3.9.8"
  }
 },
 "nbformat": 4,
 "nbformat_minor": 2
}
