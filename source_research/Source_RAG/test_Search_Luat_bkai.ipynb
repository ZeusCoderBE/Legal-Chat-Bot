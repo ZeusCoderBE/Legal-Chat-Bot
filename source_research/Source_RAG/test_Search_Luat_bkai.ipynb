{
 "cells": [
  {
   "cell_type": "markdown",
   "metadata": {},
   "source": [
    "# 1. Thư viện"
   ]
  },
  {
   "cell_type": "code",
   "execution_count": 1,
   "metadata": {},
   "outputs": [
    {
     "name": "stderr",
     "output_type": "stream",
     "text": [
      "d:\\Download_Python\\lib\\importlib\\__init__.py:127: LangChainDeprecationWarning: As of langchain-core 0.3.0, LangChain uses pydantic v2 internally. The langchain_core.pydantic_v1 module was a compatibility shim for pydantic v1, and should no longer be used. Please update the code to import from Pydantic directly.\n",
      "\n",
      "For example, replace imports like: `from langchain_core.pydantic_v1 import BaseModel`\n",
      "with: `from pydantic import BaseModel`\n",
      "or the v1 compatibility namespace if you are working in a code base that has not been fully upgraded to pydantic 2 yet. \tfrom pydantic.v1 import BaseModel\n",
      "\n",
      "  return _bootstrap._gcd_import(name[level:], package, level)\n"
     ]
    }
   ],
   "source": [
    "import os\n",
    "import json\n",
    "import re\n",
    "\n",
    "from dotenv import load_dotenv\n",
    "from langchain_qdrant import Qdrant, RetrievalMode\n",
    "from qdrant_client.models import Filter, FieldCondition, MatchValue\n",
    "from langchain_community.embeddings import HuggingFaceBgeEmbeddings"
   ]
  },
  {
   "cell_type": "markdown",
   "metadata": {},
   "source": [
    "# 2. Thực thi"
   ]
  },
  {
   "cell_type": "markdown",
   "metadata": {},
   "source": [
    "## 2.1. Mô hình embedding"
   ]
  },
  {
   "cell_type": "markdown",
   "metadata": {},
   "source": [
    "### 2.1. Mô hình bkai"
   ]
  },
  {
   "cell_type": "code",
   "execution_count": 2,
   "metadata": {},
   "outputs": [
    {
     "name": "stdout",
     "output_type": "stream",
     "text": [
      "WARNING:tensorflow:From d:\\Download_Python\\lib\\site-packages\\tf_keras\\src\\losses.py:2976: The name tf.losses.sparse_softmax_cross_entropy is deprecated. Please use tf.compat.v1.losses.sparse_softmax_cross_entropy instead.\n",
      "\n"
     ]
    }
   ],
   "source": [
    "EMBEDDINGS_MODEL_bkai = \"bkai-foundation-models/vietnamese-bi-encoder\"\n",
    "model_kwargs = {\"device\": \"cpu\"}\n",
    "encode_kwargs = {\"normalize_embeddings\": True}\n",
    "\n",
    "embeddings_bkai = HuggingFaceBgeEmbeddings(\n",
    "    model_name=EMBEDDINGS_MODEL_bkai,\n",
    "    model_kwargs=model_kwargs,\n",
    "    encode_kwargs=encode_kwargs\n",
    ")"
   ]
  },
  {
   "cell_type": "markdown",
   "metadata": {},
   "source": [
    "### 2.2. Mô hình google-bert/bert-base-multilingual-cased"
   ]
  },
  {
   "cell_type": "code",
   "execution_count": 3,
   "metadata": {},
   "outputs": [
    {
     "name": "stderr",
     "output_type": "stream",
     "text": [
      "No sentence-transformers model found with name google-bert/bert-base-multilingual-cased. Creating a new one with mean pooling.\n",
      "d:\\Download_Python\\lib\\site-packages\\transformers\\tokenization_utils_base.py:1601: FutureWarning: `clean_up_tokenization_spaces` was not set. It will be set to `True` by default. This behavior will be depracted in transformers v4.45, and will be then set to `False` by default. For more details check this issue: https://github.com/huggingface/transformers/issues/31884\n",
      "  warnings.warn(\n"
     ]
    }
   ],
   "source": [
    "EMBEDDINGS_MODEL_google_bert = \"google-bert/bert-base-multilingual-cased\"\n",
    "model_kwargs = {\"device\": \"cpu\"}\n",
    "encode_kwargs = {\"normalize_embeddings\": True}\n",
    "\n",
    "embeddings_google_bert = HuggingFaceBgeEmbeddings(\n",
    "    model_name=EMBEDDINGS_MODEL_google_bert,\n",
    "    model_kwargs=model_kwargs,\n",
    "    encode_kwargs=encode_kwargs\n",
    ")"
   ]
  },
  {
   "cell_type": "markdown",
   "metadata": {},
   "source": [
    "## 2.2. Kết nối đến collection"
   ]
  },
  {
   "cell_type": "code",
   "execution_count": 4,
   "metadata": {},
   "outputs": [],
   "source": [
    "URL_QDRANT_2 = os.getenv(\"URL_QDRANT_2\")\n",
    "API_QDRANT_2 = os.getenv(\"API_QDRANT_2\")"
   ]
  },
  {
   "cell_type": "markdown",
   "metadata": {},
   "source": [
    "### 2.2.1. Collection \"semantic_Luat_bkai\""
   ]
  },
  {
   "cell_type": "code",
   "execution_count": 5,
   "metadata": {},
   "outputs": [],
   "source": [
    "exist_Qdrant_noKeys = Qdrant.from_existing_collection(\n",
    "    embedding = embeddings_bkai,\n",
    "    url = URL_QDRANT_2,\n",
    "    api_key = API_QDRANT_2,\n",
    "    prefer_grpc=True,\n",
    "    collection_name = \"semantic_Luat_bkai\",\n",
    "\tmetadata_payload_key=\"metadata\"\n",
    ")"
   ]
  },
  {
   "cell_type": "markdown",
   "metadata": {},
   "source": [
    "### 2.2.2. Collection \"semantic_Luat_bkai_More_Keywords\""
   ]
  },
  {
   "cell_type": "code",
   "execution_count": 6,
   "metadata": {},
   "outputs": [],
   "source": [
    "exist_Qdrant_Keys = Qdrant.from_existing_collection(\n",
    "    embedding = embeddings_bkai,\n",
    "    url = URL_QDRANT_2,\n",
    "    api_key = API_QDRANT_2,\n",
    "    prefer_grpc=True,\n",
    "    collection_name = \"semantic_Luat_bkai_More_Keywords\",\n",
    "\tmetadata_payload_key=\"metadata\"\n",
    ")"
   ]
  },
  {
   "cell_type": "markdown",
   "metadata": {},
   "source": [
    "## 2.3. Generate similarity queries"
   ]
  },
  {
   "cell_type": "code",
   "execution_count": 7,
   "metadata": {},
   "outputs": [],
   "source": [
    "from apikeys_GEMINI import APIKeyManager\n",
    "\n",
    "from langchain.load import dumps, loads\n",
    "from langchain_core.prompts import ChatPromptTemplate\n",
    "from langchain_google_genai import ChatGoogleGenerativeAI\n",
    "from langchain_core.output_parsers import StrOutputParser"
   ]
  },
  {
   "cell_type": "code",
   "execution_count": 8,
   "metadata": {},
   "outputs": [],
   "source": [
    "load_dotenv()\n",
    "\n",
    "MODEL_GEMINI = os.getenv(\"MODEL_GEMIMI\")\n",
    "# MODEL_GEMINI = \"models/gemini-1.5-pro\"\n",
    "if MODEL_GEMINI is None:\n",
    "    raise ValueError(\"Environment variable MODEL_GEMINI is not set\")\n",
    "elif not MODEL_GEMINI.startswith(\"models/\"):\n",
    "    MODEL_GEMINI = f\"models/{MODEL_GEMINI}\"\n",
    "\n",
    "APIS_GEMINI_LIST = os.getenv('APIS_GEMINI_LIST').split(',')\n",
    "key_manager = APIKeyManager(APIS_GEMINI_LIST)\n",
    "\n",
    "TOP_K = 5\n",
    "MAX_DOCS_FOR_CONTENT = 5"
   ]
  },
  {
   "cell_type": "code",
   "execution_count": 9,
   "metadata": {},
   "outputs": [],
   "source": [
    "def query_generator(original_query: str, key_manager) -> list[str]:\n",
    "    \"\"\"Generate queries from original query\"\"\"\n",
    "    # Câu truy vấn gốc\n",
    "    query = original_query\n",
    "    \n",
    "    # Cập nhật prompt để yêu cầu rõ ràng chỉ trả về 3 câu truy vấn và câu gốc\n",
    "    prompt = ChatPromptTemplate.from_messages(\n",
    "        [\n",
    "            (\"system\", \"Bạn là một trợ lý hữu ích, có nhiệm vụ tạo ra nhiều truy vấn tìm kiếm dựa trên một truy vấn gốc.\"),\n",
    "            (\"human\", \"Tạo 3 truy vấn tìm kiếm liên quan đến: {original_query}. Mỗi truy vấn trên một dòng mới, và đảm bảo chỉ trả về các truy vấn, không có thêm bất kỳ giải thích hay văn bản nào khác.\"),\n",
    "        ]\n",
    "    )\n",
    "    \n",
    "    model = ChatGoogleGenerativeAI(\n",
    "        # key api google gemini, nếu test mà bị báo lỗi api core thì lấy api khác trong .env để test\n",
    "        google_api_key=key_manager.get_next_key(),\n",
    "        model=MODEL_GEMINI,\n",
    "        temperature=0.1\n",
    "    )\n",
    "    \n",
    "    query_generator_chain = (\n",
    "        prompt | model | StrOutputParser()\n",
    "    )\n",
    "    \n",
    "    # Kết quả sẽ là một chuỗi các câu truy vấn cách nhau bằng dấu xuống dòng\n",
    "    result = query_generator_chain.invoke({\"original_query\": query})\n",
    "    \n",
    "    # Tách kết quả thành danh sách các câu truy vấn\n",
    "    generated_queries = result.strip().split('\\n')\n",
    "    \n",
    "    # Đảm bảo chỉ lấy 3 câu nếu có nhiều hơn 3 câu truy vấn sinh ra\n",
    "    if len(generated_queries) > 3:\n",
    "        generated_queries = generated_queries[:3]\n",
    "    \n",
    "    # Kết hợp câu gốc với các câu truy vấn sinh ra\n",
    "    queries = [query] + generated_queries\n",
    "    \n",
    "    return queries"
   ]
  },
  {
   "cell_type": "markdown",
   "metadata": {},
   "source": [
    "## 2.4. Re-ranker"
   ]
  },
  {
   "cell_type": "markdown",
   "metadata": {},
   "source": [
    "### 2.4.1. Reciprocal rank fusion (RRF)"
   ]
  },
  {
   "cell_type": "code",
   "execution_count": 10,
   "metadata": {},
   "outputs": [],
   "source": [
    "def reciprocal_rank_fusion(results: list[list], k=60):\n",
    "    \"\"\"Rerank docs (reciprocal rank fusion)\"\"\"\n",
    "    fused_scores = {}\n",
    "    for docs in results:\n",
    "        for rank, doc in enumerate(docs):\n",
    "            doc_str = dumps(doc)\n",
    "            if doc_str not in fused_scores:\n",
    "                fused_scores[doc_str] = 0\n",
    "            fused_scores[doc_str] += 1 / (rank + k)\n",
    "\n",
    "    reranked_results = [\n",
    "        (loads(doc), score)\n",
    "        for doc, score in sorted(fused_scores.items(), key=lambda x: x[1], reverse=True)\n",
    "    ]\n",
    "\n",
    "    return [x[0] for x in reranked_results[:MAX_DOCS_FOR_CONTENT]]"
   ]
  },
  {
   "cell_type": "markdown",
   "metadata": {},
   "source": [
    "### 2.4.2. Tính lại score theo trọng số"
   ]
  },
  {
   "cell_type": "code",
   "execution_count": 11,
   "metadata": {},
   "outputs": [],
   "source": [
    "### continue ..."
   ]
  },
  {
   "cell_type": "markdown",
   "metadata": {},
   "source": [
    "## 2.5. Tách keywords"
   ]
  },
  {
   "cell_type": "markdown",
   "metadata": {},
   "source": [
    "### 2.5.1. Tách keywords"
   ]
  },
  {
   "cell_type": "code",
   "execution_count": 12,
   "metadata": {},
   "outputs": [],
   "source": [
    "# Hàm trích xuất từ khóa từ văn bản, loại bỏ dấu câu ngoại trừ \"/\" và \"-\"\n",
    "def extract_keywords(text):\n",
    "    text = re.sub(r'[^\\w\\s/-]', '', text)  # Loại bỏ các dấu câu không mong muốn\n",
    "    words = text.split()                   # Tách các từ theo khoảng trắng\n",
    "    unique_words = list(dict.fromkeys(words))  # Loại bỏ từ trùng lặp\n",
    "    return unique_words"
   ]
  },
  {
   "cell_type": "markdown",
   "metadata": {},
   "source": [
    "### 2.5.2. Chuyển keywords thành lower case"
   ]
  },
  {
   "cell_type": "code",
   "execution_count": 13,
   "metadata": {},
   "outputs": [],
   "source": [
    "# Hàm xử lý các từ khóa: chuyển về chữ thường, giữ nguyên số La Mã và từ khóa có \"/\" hoặc \"-\"\n",
    "def process_keywords(keywords):\n",
    "    result = []\n",
    "    roman_numeral_pattern = re.compile(r\"^(?=[MDCLXVI])M{0,4}(CM|CD|D?C{0,3})(XC|XL|L?X{0,3})(IX|IV|V?I{0,3})$\")\n",
    "    \n",
    "    for word in keywords:\n",
    "        if roman_numeral_pattern.match(word) or any(c in word for c in \"/-\"):\n",
    "            result.append(word)\n",
    "        else:\n",
    "            result.append(word.lower())  # Chuyển các từ còn lại thành chữ thường\n",
    "    return result"
   ]
  },
  {
   "cell_type": "markdown",
   "metadata": {},
   "source": [
    "## 2.6. Truy vấn"
   ]
  },
  {
   "cell_type": "code",
   "execution_count": 14,
   "metadata": {},
   "outputs": [],
   "source": [
    "TOP_K = 5\n",
    "MAX_DOCS_FOR_CONTENT = 5\n",
    "\n",
    "# Câu truy vấn được lấy từ Khoản 2, Điều 8. Người đại diện của người bệnh\n",
    "# trong tài liệu \"Khám bệnh, chữa bệnh\", STT: 6"
   ]
  },
  {
   "cell_type": "markdown",
   "metadata": {},
   "source": [
    "### 2.6.1. Truy vấn cơ bản"
   ]
  },
  {
   "cell_type": "markdown",
   "metadata": {},
   "source": [
    "#### 2.6.1.1. Với bộ collection semantic chunker"
   ]
  },
  {
   "cell_type": "code",
   "execution_count": 15,
   "metadata": {},
   "outputs": [
    {
     "name": "stdout",
     "output_type": "stream",
     "text": [
      "Page_Content:\n",
      " Chính phủ quy định chi tiết Điều này; quy định điều kiện cấp giấy phép hành nghề quy định tại các khoản 6, 7 và 8 Điều này.\n",
      "Stt: 6\n",
      "Số hiệu: ['15-2023-QH15', '15/2023/QH15']\n",
      "Chủ đề: Khám bệnh, chữa bệnh\n",
      "Score: 0.30012422800064087 \n",
      " -----------------------\n",
      "Page_Content:\n",
      " 4. Mức trợ cấp hằng tháng quy định tại khoản 3 Điều này được áp dụng việc điều chỉnh theo quy định tại Điều 67 của Luật này. 5. Trường hợp người đang hưởng trợ cấp hằng tháng chết thì thân nhân được hưởng trợ cấp một lần cho những tháng chưa nhận và được hưởng một lần trợ cấp mai táng nếu đủ điều kiện quy định tại điểm a khoản 1 Điều 85 hoặc điểm a khoản 1 Điều 109 của Luật này.\n",
      "Stt: 29\n",
      "Số hiệu: ['41-2024-QH15', '41/2024/QH15']\n",
      "Chủ đề: Bảo hiểm xã hội\n",
      "Score: 0.2879490256309509 \n",
      " -----------------------\n",
      "Page_Content:\n",
      " Chương III\n",
      "\n",
      "CHỮ KÝ ĐIỆN TỬ VÀ DỊCH VỤ TIN CẬY\n",
      "\n",
      "Mục 1.\n",
      "Stt: 10\n",
      "Số hiệu: ['20-2023-QH15', '20/2023/QH15']\n",
      "Chủ đề: Giao dịch điện tử\n",
      "Score: 0.2847985029220581 \n",
      " -----------------------\n",
      "Page_Content:\n",
      " Quyền, nghĩa vụ của thành viên;\n",
      "\n",
      "6. Tổ chức quản trị; thẩm quyền của Đại hội thành viên; nhiệm vụ, quyền hạn của Hội đồng quản trị, Giám đốc (Tổng giám đốc), Ban kiểm soát đối với tổ chức quản trị đầy đủ hoặc nhiệm vụ, quyền hạn của Giám đốc, kiểm soát viên đối với tổ chức quản trị rút gọn;\n",
      "\n",
      "7. Số lượng, chức danh và quyền, nghĩa vụ của người đại diện theo pháp luật; phân chia quyền, nghĩa vụ của người đại diện theo pháp luật trong trường hợp hợp tác xã, liên hiệp hợp tác xã có nhiều hơn một người đại diện theo pháp luật;\n",
      "\n",
      "8. Vốn điều lệ; tăng, giảm vốn điều lệ; vốn góp tối thiểu, vốn góp tối đa, hình thức, thời hạn góp vốn; định giá tài sản góp vốn; trả lại một phần hoặc toàn bộ phần vốn góp của thành viên chính thức, thành viên liên kết góp vốn;\n",
      "\n",
      "9. Phí thành viên trong trường hợp có thành viên liên kết không góp vốn;\n",
      "\n",
      "10. Hình thức tổ chức Đại hội thành viên; cách thức biểu quyết tại Đại hội thành viên; cách thức bầu đại biểu tham dự và biểu quyết tại Đại hội thành viên trong trường hợp Đại hội thành viên tổ chức theo hình thức đại hội đại biểu;\n",
      "\n",
      "11. Tỷ lệ giá trị giao dịch nội bộ tối thiểu;\n",
      "\n",
      "12. Đầu tư, góp vốn, mua cổ phần, thành lập doanh nghiệp, liên danh, liên kết với tổ chức kinh tế;\n",
      "\n",
      "13. Lập quỹ; tỷ lệ trích lập quỹ; tỷ lệ, phương thức phân phối thu nhập;\n",
      "\n",
      "14. Quản lý tài chính, sử dụng và xử lý tài sản, vốn, quỹ và khoản lỗ;\n",
      "\n",
      "15. Nguyên tắc trả thù lao, tiền lương, tiền công, tiền thưởng và chế độ khác cho thành viên Hội đồng quản trị, Giám đốc (Tổng giám đốc), thành viên Ban kiểm soát hoặc kiểm soát viên, người lao động;\n",
      "\n",
      "16. Trình tự, thủ tục cấp, cấp lại, cấp đổi, thu hồi Giấy chứng nhận phần vốn góp;\n",
      "\n",
      "17. Trình tự, thủ tục sửa đổi, bổ sung Điều lệ;\n",
      "\n",
      "18. Biện pháp xử lý thành viên nợ quá hạn;\n",
      "\n",
      "19. Xử lý vi phạm Điều lệ và nguyên tắc giải quyết tranh chấp nội bộ.\n",
      "Stt: 8\n",
      "Số hiệu: ['17-2023-QH15', '17/2023/QH15']\n",
      "Chủ đề: Hợp tác xã\n",
      "Score: 0.27948328852653503 \n",
      " -----------------------\n",
      "Page_Content:\n",
      " 16. Nơi thường trú. 17. Nơi tạm trú. 18. Nơi ở hiện tại. 19. Tình trạng khai báo tạm vắng. 20. Số hồ sơ cư trú. 21. Tình trạng hôn nhân. 22. Mối quan hệ với chủ hộ. 23. Họ, chữ đệm và tên, số định danh cá nhân, số chứng minh nhân dân 09 số của chủ hộ và các thành viên hộ gia đình.\n",
      "Stt: 14\n",
      "Số hiệu: ['26-2023-QH15', '26/2023/QH15']\n",
      "Chủ đề: Căn cước\n",
      "Score: 0.27701032161712646 \n",
      " -----------------------\n"
     ]
    }
   ],
   "source": [
    "# Query của người dùng\n",
    "user_Query = \"Trường hợp nào thì tôi được chứng minh là thân nhân của người bệnh?\"\n",
    "\n",
    "results = exist_Qdrant_noKeys.similarity_search_with_score(\n",
    "    query = user_Query,\n",
    "    filter = None,\n",
    "    k = TOP_K\n",
    ")\n",
    "\n",
    "for doc,score in results:\n",
    "    print(\"Page_Content:\\n\",doc.page_content)\n",
    "    # print(\"Context:\\n\",doc.metadata['context'],\"\\n\")\n",
    "    print(\"Stt:\",doc.metadata['stt'])\n",
    "    print(\"Số hiệu:\",doc.metadata['so_hieu'])\n",
    "    print(\"Chủ đề:\",doc.metadata['chu_de'])\n",
    "    print(\"Score:\",score,\"\\n\",\"-----------------------\")"
   ]
  },
  {
   "cell_type": "markdown",
   "metadata": {},
   "source": [
    "#### 2.6.1.2. Với bộ collection keywords"
   ]
  },
  {
   "cell_type": "code",
   "execution_count": 16,
   "metadata": {},
   "outputs": [
    {
     "name": "stdout",
     "output_type": "stream",
     "text": [
      "Page_Content:\n",
      " Điều 110. Giá dịch vụ khám bệnh, chữa bệnh\n",
      "10. Chính phủ quy định chi tiết Điều này.\n",
      "Stt: 6\n",
      "Số hiệu: 15/2023/QH15\n",
      "Chủ đề: Khám bệnh, chữa bệnh\n",
      "Chương: Chương X: ĐIỀU KIỆN BẢO ĐẢM HOẠT ĐỘNG KHÁM BỆNH, CHỮA BỆNH\n",
      "Mục: Mục 2. ĐIỀU KIỆN BẢO ĐẢM VỀ TÀI CHÍNH\n",
      "Tiểu mục: None\n",
      "Điều: Điều 110. Giá dịch vụ khám bệnh, chữa bệnh\n",
      "Khoản: Khoản 10\n",
      "Score: 0.39879313111305237 \n",
      " -----------------------\n",
      "Page_Content:\n",
      " Điều 110. Giá dịch vụ khám bệnh, chữa bệnh\n",
      "9. Cơ sở khám bệnh, chữa bệnh được đầu tư theo phương thức đối tác công tư quyết định giá dịch vụ khám bệnh, chữa bệnh theo pháp luật về đầu tư theo phương thức đối tác công tư.\n",
      "Stt: 6\n",
      "Số hiệu: 15/2023/QH15\n",
      "Chủ đề: Khám bệnh, chữa bệnh\n",
      "Chương: Chương X: ĐIỀU KIỆN BẢO ĐẢM HOẠT ĐỘNG KHÁM BỆNH, CHỮA BỆNH\n",
      "Mục: Mục 2. ĐIỀU KIỆN BẢO ĐẢM VỀ TÀI CHÍNH\n",
      "Tiểu mục: None\n",
      "Điều: Điều 110. Giá dịch vụ khám bệnh, chữa bệnh\n",
      "Khoản: Khoản 9\n",
      "Score: 0.36634236574172974 \n",
      " -----------------------\n",
      "Page_Content:\n",
      " Điều 8. Nghĩa vụ tham gia Công an nhân dân\n",
      "2. Thủ tục tuyển chọn công dân thực hiện nghĩa vụ tham gia Công an nhân dân được áp dụng như tuyển chọn công dân thực hiện nghĩa vụ quân sự tại ngũ.\n",
      "Stt: 24\n",
      "Số hiệu: 37/2018/QH14\n",
      "Chủ đề: Công an nhân dân\n",
      "Chương: Chương I: QUY ĐỊNH CHUNG\n",
      "Mục: None\n",
      "Tiểu mục: None\n",
      "Điều: Điều 8. Nghĩa vụ tham gia Công an nhân dân\n",
      "Khoản: Khoản 2\n",
      "Score: 0.33060935139656067 \n",
      " -----------------------\n",
      "Page_Content:\n",
      " Điều 56. Giá dịch vụ viễn thông\n",
      "1. Giá dịch vụ viễn thông gồm giá dịch vụ viễn thông áp dụng đối với người sử dụng dịch vụ viễn thông và giá dịch vụ giữa các doanh nghiệp viễn thông.\n",
      "Stt: 13\n",
      "Số hiệu: 24/2023/QH15\n",
      "Chủ đề: Viễn thông\n",
      "Chương: Chương VII: QUẢN LÝ TIÊU CHUẨN, QUY CHUẨN KỸ THUẬT, CHẤT LƯỢNG VÀ GIÁ DỊCH VỤ VIỄN THÔNG\n",
      "Mục: None\n",
      "Tiểu mục: None\n",
      "Điều: Điều 56. Giá dịch vụ viễn thông\n",
      "Khoản: Khoản 1\n",
      "Score: 0.3231450021266937 \n",
      " -----------------------\n",
      "Page_Content:\n",
      " Điều 143. Trang phục, Giấy chứng minh Thẩm phán, Giấy chứng nhận chức danh tư pháp\n",
      "2. Mẫu Giấy chứng minh Thẩm phán, việc sử dụng, cấp, đổi, thu hồi Giấy chứng minh Thẩm phán do Chánh án Tòa án nhân dân tối cao quy định.\n",
      "Stt: 21\n",
      "Số hiệu: 34/2024/QH15\n",
      "Chủ đề: Tổ chức Tòa án nhân dân\n",
      "Chương: Chương VIII: BẢO ĐẢM HOẠT ĐỘNG CỦA TÒA ÁN NHÂN DÂN\n",
      "Mục: None\n",
      "Tiểu mục: None\n",
      "Điều: Điều 143. Trang phục, Giấy chứng minh Thẩm phán, Giấy chứng nhận chức danh tư pháp\n",
      "Khoản: Khoản 2\n",
      "Score: 0.3078535795211792 \n",
      " -----------------------\n"
     ]
    }
   ],
   "source": [
    "# Query của người dùng\n",
    "user_Query = \"Trường hợp nào thì tôi được chứng minh là thân nhân của người bệnh?\"\n",
    "\n",
    "results = exist_Qdrant_Keys.similarity_search_with_score(\n",
    "    query = user_Query,\n",
    "    filter = None,\n",
    "    k = TOP_K\n",
    ")\n",
    "\n",
    "def print_Results_MoreKeywords(results):\n",
    "    for doc,score in results:\n",
    "        print(\"Page_Content:\\n\",doc.page_content)\n",
    "        # print(\"Context:\\n\",doc.metadata['context'],\"\\n\")\n",
    "        print(\"Stt:\",doc.metadata['stt'])\n",
    "        print(\"Số hiệu:\",doc.metadata['so_hieu'])\n",
    "        print(\"Chủ đề:\",doc.metadata['chu_de'])\n",
    "        print(\"Chương:\",doc.metadata[\"Chapter\"])\n",
    "        print(\"Mục:\",doc.metadata[\"Section\"])\n",
    "        print(\"Tiểu mục:\",doc.metadata[\"Mini-Section\"])\n",
    "        print(\"Điều:\",doc.metadata[\"Article\"])\n",
    "        print(\"Khoản:\",doc.metadata[\"Article-Section\"])\n",
    "        print(\"Score:\",score,\"\\n\",\"-----------------------\")\n",
    "\n",
    "\n",
    "print_Results_MoreKeywords(results)\n"
   ]
  },
  {
   "cell_type": "markdown",
   "metadata": {},
   "source": [
    "#### **Nhận xét**\n",
    "- Đối với Collection được xử lý bằng Semantic Chunker (chia theo ngữ nghĩa):\n",
    "    + Độ chính xác vô cùng thấp.\n",
    "    + Có lẽ vì lúc thực hiện chunk đã thực hiện chia tách tài liệu không theo cấu trúc mà theo ngữ nghĩa nên độ lớn văn bản quá dài, dẫn đến việc tính toán độ đo Cosin không được tốt.\n",
    "- Đối với Collection được xử lý bằng Cấu trúc (theo mức Khoản của Điều):\n",
    "    + Độ chính xác vẫn còn thấp.\n",
    "    + Tuy đã có sự xuất hiện của file đích nhiều hơn nhưng nội dung vẫn còn sai lệch lớn."
   ]
  },
  {
   "cell_type": "markdown",
   "metadata": {},
   "source": [
    "### 2.6.2. Truy vấn có dùng filter (sử dụng keywords)\n",
    "- Việc sử dụng bộ lọc (**filter**) nhằm gia tăng thêm độ chính xác cho các kết quả tìm kiếm thông qua việc tạo keywords từ các metadata của documents. Vì thế ở phần test này không sử dụng **collection semantic chunker** (tại vì nội dung được phân tách quá lớn nên có lẽ sử dụng phương pháp keywords là không hợp lý)."
   ]
  },
  {
   "cell_type": "code",
   "execution_count": 17,
   "metadata": {},
   "outputs": [],
   "source": [
    "def create_should_filter(user_keywords, metadata_fields):\n",
    "    should_conditions = []\n",
    "\n",
    "    for keyword in user_keywords:\n",
    "        for field in metadata_fields:\n",
    "            should_conditions.append(FieldCondition(\n",
    "                key=field, \n",
    "                match=MatchValue(value=keyword)\n",
    "            ))\n",
    "\n",
    "    # Trả về bộ lọc với các điều kiện `should`\n",
    "    return Filter(\n",
    "        should=should_conditions\n",
    "    )"
   ]
  },
  {
   "cell_type": "code",
   "execution_count": 18,
   "metadata": {},
   "outputs": [],
   "source": [
    "def search_documents_with_should_filter(user_query, metadata_fields, top_k=5):\n",
    "    # Tách keywords từ query của user\n",
    "    user_keywords = process_keywords(extract_keywords(user_query))\n",
    "    \n",
    "    # Tạo bộ lọc `should`\n",
    "    filter_conditions = create_should_filter(user_keywords, metadata_fields)\n",
    "    \n",
    "    # Thực hiện tìm kiếm trên Qdrant với filter `should`\n",
    "    search_results = exist_Qdrant_Keys.similarity_search_with_score(\n",
    "        query=user_query,\n",
    "        filter=filter_conditions,\n",
    "        k=top_k\n",
    "    )\n",
    "    \n",
    "    return search_results"
   ]
  },
  {
   "cell_type": "code",
   "execution_count": 19,
   "metadata": {},
   "outputs": [],
   "source": [
    "# Các metadata fields cần lọc\n",
    "metadata_fields = [\n",
    "    \"metadata.loai_van_ban_Keywords\", \n",
    "    \"metadata.noi_ban_hanh_Keywords\", \n",
    "    \"metadata.so_hieu\", \n",
    "    \"metadata.linhvuc_nganh_Keywords\", \n",
    "    \"metadata.ngay_ban_hanh\", \n",
    "    \"metadata.ngay_hieu_luc\", \n",
    "    \"metadata.chu_de_Keywords\", \n",
    "    \"metadata.key_words\", \n",
    "    \"metadata.Chapter_Keywords\", \n",
    "    \"metadata.Section_Keywords\",  \n",
    "    \"metadata.Mini-Section_Keywords\", \n",
    "    \"metadata.Article_Keywords\", \n",
    "    \"metadata.Content_Keywords\", \n",
    "    \"metadata.Article-Section_Keywords\"\n",
    "]\n",
    "\n",
    "# Query từ người dùng\n",
    "user_query= \"Muốn trở thành người đại diện cho bệnh nhân thì người đó phải có năng lực hành vi dân sự đầy đủ. Vậy các năng lực hành vi dân sự đầy đủ là gì?\""
   ]
  },
  {
   "cell_type": "code",
   "execution_count": 20,
   "metadata": {},
   "outputs": [
    {
     "name": "stdout",
     "output_type": "stream",
     "text": [
      "Page_Content:\n",
      " Điều 8. Người đại diện của người bệnh\n",
      "2. Người đại diện của người bệnh phải là người có năng lực hành vi dân sự đầy đủ, bao gồm:\n",
      "a) Người do người bệnh là người thành niên tự lựa chọn;\n",
      "b) Người do thành viên gia đình của người bệnh lựa chọn trong trường hợp người bệnh là người thành niên không thể tự lựa chọn và không có ủy quyền trước khi rơi vào tình trạng không thể hoặc có khó khăn trong nhận thức, làm chủ hành vi;\n",
      "c) Người đại diện theo ủy quyền và người đại diện theo pháp luật của người bệnh theo quy định của Bộ luật Dân sự;\n",
      "d) Người đại diện theo pháp luật của pháp nhân theo quy định của Bộ luật Dân sự hoặc người được pháp nhân phân công mà pháp nhân đó chịu trách nhiệm quản lý, chăm sóc, nuôi dưỡng người bệnh theo quy định của Bộ luật Dân sự;\n",
      "đ) Người không thuộc đối tượng quy định tại các điểm a, b, c và d khoản này nhưng tự nguyện thực hiện nghĩa vụ của người bệnh theo quy định của Bộ luật Dân sự.\n",
      "Stt: 6\n",
      "Số hiệu: 15/2023/QH15\n",
      "Chủ đề: Khám bệnh, chữa bệnh\n",
      "Chương: Chương I: NHỮNG QUY ĐỊNH CHUNG\n",
      "Mục: None\n",
      "Tiểu mục: None\n",
      "Điều: Điều 8. Người đại diện của người bệnh\n",
      "Khoản: Khoản 2\n",
      "Score: 0.5523002743721008 \n",
      " -----------------------\n",
      "Page_Content:\n",
      " Điều 15. Việc thực hiện quyền của người bệnh bị mất năng lực hành vi dân sự, có khó khăn trong nhận thức, làm chủ hành vi, hạn chế năng lực hành vi dân sự, người bệnh là người chưa thành niên và người bệnh không có thân nhân\n",
      "1. Trường hợp người bệnh là người thành niên và rơi vào tình trạng mất năng lực hành vi dân sự, có khó khăn trong nhận thức, làm chủ hành vi, hạn chế năng lực hành vi dân sự nhưng trước đó đã có văn bản thể hiện nguyện vọng hợp pháp về khám bệnh, chữa bệnh của mình thì thực hiện theo nguyện vọng của người bệnh.\n",
      "Stt: 6\n",
      "Số hiệu: 15/2023/QH15\n",
      "Chủ đề: Khám bệnh, chữa bệnh\n",
      "Chương: Chương II: QUYỀN, NGHĨA VỤ CỦA NGƯỜI BỆNH\n",
      "Mục: Mục 1. QUYỀN CỦA NGƯỜI BỆNH\n",
      "Tiểu mục: None\n",
      "Điều: Điều 15. Việc thực hiện quyền của người bệnh bị mất năng lực hành vi dân sự, có khó khăn trong nhận thức, làm chủ hành vi, hạn chế năng lực hành vi dân sự, người bệnh là người chưa thành niên và người bệnh không có thân nhân\n",
      "Khoản: Khoản 1\n",
      "Score: 0.5284554958343506 \n",
      " -----------------------\n",
      "Page_Content:\n",
      " Điều 15. Việc thực hiện quyền của người bệnh bị mất năng lực hành vi dân sự, có khó khăn trong nhận thức, làm chủ hành vi, hạn chế năng lực hành vi dân sự, người bệnh là người chưa thành niên và người bệnh không có thân nhân\n",
      "2. Trường hợp người bệnh là người thành niên và rơi vào tình trạng mất năng lực hành vi dân sự, có khó khăn trong nhận thức, làm chủ hành vi, hạn chế năng lực hành vi dân sự nhưng trước đó không có văn bản thể hiện nguyện vọng hợp pháp về khám bệnh, chữa bệnh của mình thì thực hiện như sau:\n",
      "a) Nếu có người đại diện quy định tại các điểm a, b, c và d khoản 2 Điều 8 của Luật này thì thực hiện theo quyết định của người đại diện;\n",
      "b) Nếu không có người đại diện quy định tại các điểm a, b, c và d khoản 2 Điều 8 của Luật này thì thực hiện theo quyết định của người chịu trách nhiệm chuyên môn hoặc người trực lãnh đạo của cơ sở khám bệnh, chữa bệnh.\n",
      "Stt: 6\n",
      "Số hiệu: 15/2023/QH15\n",
      "Chủ đề: Khám bệnh, chữa bệnh\n",
      "Chương: Chương II: QUYỀN, NGHĨA VỤ CỦA NGƯỜI BỆNH\n",
      "Mục: Mục 1. QUYỀN CỦA NGƯỜI BỆNH\n",
      "Tiểu mục: None\n",
      "Điều: Điều 15. Việc thực hiện quyền của người bệnh bị mất năng lực hành vi dân sự, có khó khăn trong nhận thức, làm chủ hành vi, hạn chế năng lực hành vi dân sự, người bệnh là người chưa thành niên và người bệnh không có thân nhân\n",
      "Khoản: Khoản 2\n",
      "Score: 0.4837430417537689 \n",
      " -----------------------\n",
      "Page_Content:\n",
      " Điều 72. Tiếp nhận và xử lý đối với người bệnh không có thân nhân\n",
      "3. Trường hợp người bệnh đã được điều trị ổn định mà vẫn không thể xác định được thân nhân và thuộc trường hợp bị mất năng lực hành vi dân sự, có khó khăn trong nhận thức, làm chủ hành vi, hạn chế năng lực hành vi dân sự, cơ sở khám bệnh, chữa bệnh có trách nhiệm lập hồ sơ đề nghị tiếp nhận đối tượng bảo trợ xã hội có hoàn cảnh đặc biệt khó khăn vào cơ sở trợ giúp xã hội theo quy định của pháp luật về bảo trợ xã hội.\n",
      "Stt: 6\n",
      "Số hiệu: 15/2023/QH15\n",
      "Chủ đề: Khám bệnh, chữa bệnh\n",
      "Chương: Chương V: CHUYÊN MÔN KỸ THUẬT\n",
      "Mục: None\n",
      "Tiểu mục: None\n",
      "Điều: Điều 72. Tiếp nhận và xử lý đối với người bệnh không có thân nhân\n",
      "Khoản: Khoản 3\n",
      "Score: 0.474471777677536 \n",
      " -----------------------\n",
      "Page_Content:\n",
      " Điều 2. Giải thích từ ngữ\n",
      "12. Người đại diện của người bệnh là người thay thế cho người bệnh thực hiện quyền và nghĩa vụ của người bệnh theo quy định của Luật này trong phạm vi đại diện.\n",
      "Stt: 6\n",
      "Số hiệu: 15/2023/QH15\n",
      "Chủ đề: Khám bệnh, chữa bệnh\n",
      "Chương: Chương I: NHỮNG QUY ĐỊNH CHUNG\n",
      "Mục: None\n",
      "Tiểu mục: None\n",
      "Điều: Điều 2. Giải thích từ ngữ\n",
      "Khoản: Khoản 12\n",
      "Score: 0.46345382928848267 \n",
      " -----------------------\n"
     ]
    }
   ],
   "source": [
    "results = search_documents_with_should_filter(user_query, metadata_fields, 5)\n",
    "\n",
    "print_Results_MoreKeywords(results)"
   ]
  },
  {
   "cell_type": "markdown",
   "metadata": {},
   "source": [
    "#### **Nhận xét**\n",
    "- Mặc dù kết quả score khá thấp nhưng top1 chính là kết quả chính xác nhất muốn tìm\n",
    "- Tốc độ phản hồi (response) khá lâu, tại vì phải filter trên 1 số lượng lớn các documents để sắp xếp và lọc ra các lựa chọn phù hợp nhất.\n",
    "\n",
    "**Như vậy, có thể cho rằng dùng Filter sẽ tốt hơn khi chỉ truy vấn bình thường, bù lại tốc độ phản hồi sẽ hơi lâu một chút**"
   ]
  },
  {
   "cell_type": "markdown",
   "metadata": {},
   "source": [
    "### 2.6.3. Truy vấn dùng similarity queries (từ Gemini)\n",
    "- Sinh ra thêm 3 câu hỏi, kết hợp câu hỏi gốc ta được 4 câu\n",
    "- Dùng nó ta có được 20 kết quả trả về\n",
    "- Kết quả cuối cùng chỉ lấy ra top5 tài liệu có score cao nhất"
   ]
  },
  {
   "cell_type": "code",
   "execution_count": 21,
   "metadata": {},
   "outputs": [],
   "source": [
    "def combined_search_and_sort(user_query: str, key_manager, metadata_fields, top_k=5):    \n",
    "    # Gọi hàm query_generator để sinh ra 3 truy vấn từ query gốc\n",
    "    queries = query_generator(user_query, key_manager)\n",
    "\n",
    "    # Lưu trữ tất cả kết quả từ các truy vấn\n",
    "    all_results = []\n",
    "\n",
    "    # Thực hiện tìm kiếm cho mỗi query trong danh sách queries\n",
    "    for query in queries:\n",
    "        search_results = search_documents_with_should_filter(query, metadata_fields, top_k=top_k)\n",
    "        all_results.extend(search_results)  # Thêm kết quả vào danh sách\n",
    "\n",
    "    # Sắp xếp kết quả theo score giảm dần\n",
    "    sorted_results = sorted(all_results, key=lambda x: x[1], reverse=True)  # x[1] là score\n",
    "\n",
    "    # Lấy top 5 tài liệu có score cao nhất\n",
    "    top_results = sorted_results[:top_k]\n",
    "    \n",
    "    return top_results\n"
   ]
  },
  {
   "cell_type": "code",
   "execution_count": 22,
   "metadata": {},
   "outputs": [
    {
     "name": "stdout",
     "output_type": "stream",
     "text": [
      "Page_Content:\n",
      " Điều 8. Người đại diện của người bệnh\n",
      "2. Người đại diện của người bệnh phải là người có năng lực hành vi dân sự đầy đủ, bao gồm:\n",
      "a) Người do người bệnh là người thành niên tự lựa chọn;\n",
      "b) Người do thành viên gia đình của người bệnh lựa chọn trong trường hợp người bệnh là người thành niên không thể tự lựa chọn và không có ủy quyền trước khi rơi vào tình trạng không thể hoặc có khó khăn trong nhận thức, làm chủ hành vi;\n",
      "c) Người đại diện theo ủy quyền và người đại diện theo pháp luật của người bệnh theo quy định của Bộ luật Dân sự;\n",
      "d) Người đại diện theo pháp luật của pháp nhân theo quy định của Bộ luật Dân sự hoặc người được pháp nhân phân công mà pháp nhân đó chịu trách nhiệm quản lý, chăm sóc, nuôi dưỡng người bệnh theo quy định của Bộ luật Dân sự;\n",
      "đ) Người không thuộc đối tượng quy định tại các điểm a, b, c và d khoản này nhưng tự nguyện thực hiện nghĩa vụ của người bệnh theo quy định của Bộ luật Dân sự.\n",
      "Stt: 6\n",
      "Số hiệu: 15/2023/QH15\n",
      "Chủ đề: Khám bệnh, chữa bệnh\n",
      "Chương: Chương I: NHỮNG QUY ĐỊNH CHUNG\n",
      "Mục: None\n",
      "Tiểu mục: None\n",
      "Điều: Điều 8. Người đại diện của người bệnh\n",
      "Khoản: Khoản 2\n",
      "Score: 0.5523002743721008 \n",
      " -----------------------\n",
      "Page_Content:\n",
      " Điều 15. Việc thực hiện quyền của người bệnh bị mất năng lực hành vi dân sự, có khó khăn trong nhận thức, làm chủ hành vi, hạn chế năng lực hành vi dân sự, người bệnh là người chưa thành niên và người bệnh không có thân nhân\n",
      "1. Trường hợp người bệnh là người thành niên và rơi vào tình trạng mất năng lực hành vi dân sự, có khó khăn trong nhận thức, làm chủ hành vi, hạn chế năng lực hành vi dân sự nhưng trước đó đã có văn bản thể hiện nguyện vọng hợp pháp về khám bệnh, chữa bệnh của mình thì thực hiện theo nguyện vọng của người bệnh.\n",
      "Stt: 6\n",
      "Số hiệu: 15/2023/QH15\n",
      "Chủ đề: Khám bệnh, chữa bệnh\n",
      "Chương: Chương II: QUYỀN, NGHĨA VỤ CỦA NGƯỜI BỆNH\n",
      "Mục: Mục 1. QUYỀN CỦA NGƯỜI BỆNH\n",
      "Tiểu mục: None\n",
      "Điều: Điều 15. Việc thực hiện quyền của người bệnh bị mất năng lực hành vi dân sự, có khó khăn trong nhận thức, làm chủ hành vi, hạn chế năng lực hành vi dân sự, người bệnh là người chưa thành niên và người bệnh không có thân nhân\n",
      "Khoản: Khoản 1\n",
      "Score: 0.5284554958343506 \n",
      " -----------------------\n",
      "Page_Content:\n",
      " Điều 15. Việc thực hiện quyền của người bệnh bị mất năng lực hành vi dân sự, có khó khăn trong nhận thức, làm chủ hành vi, hạn chế năng lực hành vi dân sự, người bệnh là người chưa thành niên và người bệnh không có thân nhân\n",
      "2. Trường hợp người bệnh là người thành niên và rơi vào tình trạng mất năng lực hành vi dân sự, có khó khăn trong nhận thức, làm chủ hành vi, hạn chế năng lực hành vi dân sự nhưng trước đó không có văn bản thể hiện nguyện vọng hợp pháp về khám bệnh, chữa bệnh của mình thì thực hiện như sau:\n",
      "a) Nếu có người đại diện quy định tại các điểm a, b, c và d khoản 2 Điều 8 của Luật này thì thực hiện theo quyết định của người đại diện;\n",
      "b) Nếu không có người đại diện quy định tại các điểm a, b, c và d khoản 2 Điều 8 của Luật này thì thực hiện theo quyết định của người chịu trách nhiệm chuyên môn hoặc người trực lãnh đạo của cơ sở khám bệnh, chữa bệnh.\n",
      "Stt: 6\n",
      "Số hiệu: 15/2023/QH15\n",
      "Chủ đề: Khám bệnh, chữa bệnh\n",
      "Chương: Chương II: QUYỀN, NGHĨA VỤ CỦA NGƯỜI BỆNH\n",
      "Mục: Mục 1. QUYỀN CỦA NGƯỜI BỆNH\n",
      "Tiểu mục: None\n",
      "Điều: Điều 15. Việc thực hiện quyền của người bệnh bị mất năng lực hành vi dân sự, có khó khăn trong nhận thức, làm chủ hành vi, hạn chế năng lực hành vi dân sự, người bệnh là người chưa thành niên và người bệnh không có thân nhân\n",
      "Khoản: Khoản 2\n",
      "Score: 0.4837430417537689 \n",
      " -----------------------\n",
      "Page_Content:\n",
      " Điều 72. Tiếp nhận và xử lý đối với người bệnh không có thân nhân\n",
      "3. Trường hợp người bệnh đã được điều trị ổn định mà vẫn không thể xác định được thân nhân và thuộc trường hợp bị mất năng lực hành vi dân sự, có khó khăn trong nhận thức, làm chủ hành vi, hạn chế năng lực hành vi dân sự, cơ sở khám bệnh, chữa bệnh có trách nhiệm lập hồ sơ đề nghị tiếp nhận đối tượng bảo trợ xã hội có hoàn cảnh đặc biệt khó khăn vào cơ sở trợ giúp xã hội theo quy định của pháp luật về bảo trợ xã hội.\n",
      "Stt: 6\n",
      "Số hiệu: 15/2023/QH15\n",
      "Chủ đề: Khám bệnh, chữa bệnh\n",
      "Chương: Chương V: CHUYÊN MÔN KỸ THUẬT\n",
      "Mục: None\n",
      "Tiểu mục: None\n",
      "Điều: Điều 72. Tiếp nhận và xử lý đối với người bệnh không có thân nhân\n",
      "Khoản: Khoản 3\n",
      "Score: 0.474471777677536 \n",
      " -----------------------\n",
      "Page_Content:\n",
      " Điều 2. Giải thích từ ngữ\n",
      "12. Người đại diện của người bệnh là người thay thế cho người bệnh thực hiện quyền và nghĩa vụ của người bệnh theo quy định của Luật này trong phạm vi đại diện.\n",
      "Stt: 6\n",
      "Số hiệu: 15/2023/QH15\n",
      "Chủ đề: Khám bệnh, chữa bệnh\n",
      "Chương: Chương I: NHỮNG QUY ĐỊNH CHUNG\n",
      "Mục: None\n",
      "Tiểu mục: None\n",
      "Điều: Điều 2. Giải thích từ ngữ\n",
      "Khoản: Khoản 12\n",
      "Score: 0.46345382928848267 \n",
      " -----------------------\n"
     ]
    }
   ],
   "source": [
    "user_query= \"Muốn trở thành người đại diện cho bệnh nhân thì người đó phải có năng lực hành vi dân sự đầy đủ. Vậy các năng lực hành vi dân sự đầy đủ là gì?\"\n",
    "\n",
    "results = combined_search_and_sort(user_query, key_manager, metadata_fields, top_k=5)\n",
    "\n",
    "print_Results_MoreKeywords(results)"
   ]
  },
  {
   "cell_type": "code",
   "execution_count": 23,
   "metadata": {},
   "outputs": [
    {
     "name": "stdout",
     "output_type": "stream",
     "text": [
      "Page_Content:\n",
      " Điều 3. Giải thích từ ngữ\n",
      "3. Sinh trắc học là những thuộc tính vật lý, đặc điểm sinh học cá biệt và ổn định của một người để nhận diện, phân biệt người này với người khác.\n",
      "Stt: 14\n",
      "Số hiệu: 26/2023/QH15\n",
      "Chủ đề: Căn cước\n",
      "Chương: Chương I: NHỮNG QUY ĐỊNH CHUNG\n",
      "Mục: None\n",
      "Tiểu mục: None\n",
      "Điều: Điều 3. Giải thích từ ngữ\n",
      "Khoản: Khoản 3\n",
      "Score: 0.37720492482185364 \n",
      " -----------------------\n",
      "Page_Content:\n",
      " Điều 152. Quy định chuyển tiếp\n",
      "5. Các Tòa án tiếp tục thực hiện thẩm quyền xét xử sơ thẩm vụ án hành chính; xét xử sơ thẩm, giải quyết vụ việc về sở hữu trí tuệ; giải quyết vụ việc phá sản theo quy định của pháp luật về tố tụng, pháp luật về phá sản cho đến khi các Tòa án nhân dân sơ thẩm chuyên biệt được thành lập và hoạt động theo quy định của luật.\n",
      "Stt: 21\n",
      "Số hiệu: 34/2024/QH15\n",
      "Chủ đề: Tổ chức Tòa án nhân dân\n",
      "Chương: Chương IX: ĐIỀU KHOẢN THI HÀNH\n",
      "Mục: None\n",
      "Tiểu mục: None\n",
      "Điều: Điều 152. Quy định chuyển tiếp\n",
      "Khoản: Khoản 5\n",
      "Score: 0.3297330141067505 \n",
      " -----------------------\n",
      "Page_Content:\n",
      " Điều 30. Giấy chứng nhận căn cước và quản lý về căn cước đối với người gốc Việt Nam chưa xác định được quốc tịch được cấp giấy chứng nhận căn cước\n",
      "2. Nội dung quản lý về căn cước đối với người gốc Việt Nam chưa xác định được quốc tịch được cấp giấy chứng nhận căn cước bao gồm:\n",
      "a) Thu thập thông tin về căn cước của người gốc Việt Nam chưa xác định được quốc tịch;\n",
      "b) Cập nhật, điều chỉnh, khai thác, sử dụng thông tin về căn cước của người gốc Việt Nam chưa xác định được quốc tịch đã được thu thập vào Cơ sở dữ liệu quốc gia về dân cư, Cơ sở dữ liệu căn cước;\n",
      "c) Xác lập số định danh cá nhân cho người gốc Việt Nam chưa xác định được quốc tịch;\n",
      "d) Cấp, cấp đổi, cấp lại, thu hồi, giữ, trả lại giấy chứng nhận căn cước.\n",
      "Stt: 14\n",
      "Số hiệu: 26/2023/QH15\n",
      "Chủ đề: Căn cước\n",
      "Chương: Chương III: THẺ CĂN CƯỚC, GIẤY CHỨNG NHẬN CĂN CƯỚC\n",
      "Mục: None\n",
      "Tiểu mục: None\n",
      "Điều: Điều 30. Giấy chứng nhận căn cước và quản lý về căn cước đối với người gốc Việt Nam chưa xác định được quốc tịch được cấp giấy chứng nhận căn cước\n",
      "Khoản: Khoản 2\n",
      "Score: 0.328780859708786 \n",
      " -----------------------\n",
      "Page_Content:\n",
      " Điều 27. Giải quyết, xét xử vi phạm hành chính\n",
      "3. Xét xử vi phạm hành chính theo quy định của luật.\n",
      "Stt: 21\n",
      "Số hiệu: 34/2024/QH15\n",
      "Chủ đề: Tổ chức Tòa án nhân dân\n",
      "Chương: Chương II: NHIỆM VỤ, QUYỀN HẠN CỦA CÁC TÒA ÁN\n",
      "Mục: Mục 2. NHIỆM VỤ, QUYỀN HẠN CỦA TÒA ÁN NHÂN DÂN\n",
      "Tiểu mục: None\n",
      "Điều: Điều 27. Giải quyết, xét xử vi phạm hành chính\n",
      "Khoản: Khoản 3\n",
      "Score: 0.32552459836006165 \n",
      " -----------------------\n",
      "Page_Content:\n",
      " Điều 64. Chào bán và chuyển nhượng cổ phần\n",
      "3. Việc chuyển nhượng cổ phần niêm yết, đăng ký giao dịch của tổ chức tín dụng được thực hiện theo quy định của pháp luật về chứng khoán.\n",
      "Stt: 19\n",
      "Số hiệu: 32/2024/QH15\n",
      "Chủ đề: Các tổ chức tín dụng\n",
      "Chương: Chương IV: TỔ CHỨC, QUẢN TRỊ, ĐIỀU HÀNH CỦA TỔ CHỨC TÍN DỤNG, CHI NHÁNH NGÂN HÀNG NƯỚC NGOÀI\n",
      "Mục: Mục 3. TỔ CHỨC TÍN DỤNG LÀ CÔNG TY CỔ PHẦN\n",
      "Tiểu mục: None\n",
      "Điều: Điều 64. Chào bán và chuyển nhượng cổ phần\n",
      "Khoản: Khoản 3\n",
      "Score: 0.32285210490226746 \n",
      " -----------------------\n"
     ]
    }
   ],
   "source": [
    "\"\"\"\n",
    "    Câu truy vấn sau được lấy từ Khoản 3, Điều 2,\n",
    "    trong tài liệu \"Căn cước\", stt: 14\n",
    "\"\"\"\n",
    "\n",
    "user_query= \"Giải thích cho tôi hiểu thế nào là \\\"sinh trắc học\\\"?\"\n",
    "\n",
    "results = combined_search_and_sort(user_query, key_manager, metadata_fields, top_k=5)\n",
    "\n",
    "print_Results_MoreKeywords(results)"
   ]
  },
  {
   "cell_type": "markdown",
   "metadata": {},
   "source": [
    "#### **Nhận xét**\n",
    "- Kết quả top đầu chính xác là kết quả muốn có được\n",
    "- Nhưng thời gian càng tăng khi càng nhiều truy vấn được tạo ra và độ dài, chi tiết ngữ cảnh của truy vấn\n",
    "\n",
    "**Như vậy, có thể hiểu rằng độ chi tiết của câu hỏi truy vấn càng nhiều, kết quả có thể càng chính xác. Nhưng thay vào đó sẽ mất thời gian hơn trong việc xác định các kết quả trả về tốt nhất**"
   ]
  },
  {
   "cell_type": "markdown",
   "metadata": {},
   "source": [
    "### 2.6.4. Truy vấn dùng Re-rank ở bước cuối cùng để xếp hạng tài liệu"
   ]
  },
  {
   "cell_type": "markdown",
   "metadata": {},
   "source": [
    "#### a. Sử dụng hàm Reciprocal rank fusion (RRF)"
   ]
  },
  {
   "cell_type": "code",
   "execution_count": 24,
   "metadata": {},
   "outputs": [],
   "source": [
    "def combined_search_with_rerank(user_query: str, key_manager, metadata_fields, top_k=5):\n",
    "    # Gọi hàm query_generator để sinh ra 3 truy vấn từ query gốc\n",
    "    queries = query_generator(user_query, key_manager)\n",
    "\n",
    "    # Lưu trữ kết quả cho từng query\n",
    "    query_results = []\n",
    "\n",
    "    # Thực hiện tìm kiếm cho mỗi query trong danh sách queries\n",
    "    for query in queries:\n",
    "        search_results = search_documents_with_should_filter(query, metadata_fields, top_k=top_k)\n",
    "        query_results.append(search_results)  # Lưu kết quả riêng cho từng query\n",
    "\n",
    "    # Sử dụng hàm reciprocal_rank_fusion để re-rank kết quả từ nhiều query\n",
    "    reranked_results = reciprocal_rank_fusion(query_results)\n",
    "\n",
    "    # Lấy top 5 kết quả sau khi re-rank\n",
    "    top_results = reranked_results[:top_k]\n",
    "\n",
    "    return top_results"
   ]
  },
  {
   "cell_type": "code",
   "execution_count": 25,
   "metadata": {},
   "outputs": [
    {
     "name": "stdout",
     "output_type": "stream",
     "text": [
      "Page_Content:\n",
      " Điều 8. Người đại diện của người bệnh\n",
      "2. Người đại diện của người bệnh phải là người có năng lực hành vi dân sự đầy đủ, bao gồm:\n",
      "a) Người do người bệnh là người thành niên tự lựa chọn;\n",
      "b) Người do thành viên gia đình của người bệnh lựa chọn trong trường hợp người bệnh là người thành niên không thể tự lựa chọn và không có ủy quyền trước khi rơi vào tình trạng không thể hoặc có khó khăn trong nhận thức, làm chủ hành vi;\n",
      "c) Người đại diện theo ủy quyền và người đại diện theo pháp luật của người bệnh theo quy định của Bộ luật Dân sự;\n",
      "d) Người đại diện theo pháp luật của pháp nhân theo quy định của Bộ luật Dân sự hoặc người được pháp nhân phân công mà pháp nhân đó chịu trách nhiệm quản lý, chăm sóc, nuôi dưỡng người bệnh theo quy định của Bộ luật Dân sự;\n",
      "đ) Người không thuộc đối tượng quy định tại các điểm a, b, c và d khoản này nhưng tự nguyện thực hiện nghĩa vụ của người bệnh theo quy định của Bộ luật Dân sự.\n",
      "Stt: 6\n",
      "Số hiệu: 15/2023/QH15\n",
      "Chủ đề: Khám bệnh, chữa bệnh\n",
      "Chương: Chương I: NHỮNG QUY ĐỊNH CHUNG\n",
      "Mục: None\n",
      "Tiểu mục: None\n",
      "Điều: Điều 8. Người đại diện của người bệnh\n",
      "Khoản: Khoản 2\n",
      "Score: 0.5523002743721008 \n",
      " -----------------------\n",
      "Page_Content:\n",
      " Điều 8. Nghĩa vụ tham gia Công an nhân dân\n",
      "2. Thủ tục tuyển chọn công dân thực hiện nghĩa vụ tham gia Công an nhân dân được áp dụng như tuyển chọn công dân thực hiện nghĩa vụ quân sự tại ngũ.\n",
      "Stt: 24\n",
      "Số hiệu: 37/2018/QH14\n",
      "Chủ đề: Công an nhân dân\n",
      "Chương: Chương I: QUY ĐỊNH CHUNG\n",
      "Mục: None\n",
      "Tiểu mục: None\n",
      "Điều: Điều 8. Nghĩa vụ tham gia Công an nhân dân\n",
      "Khoản: Khoản 2\n",
      "Score: 0.33785873651504517 \n",
      " -----------------------\n",
      "Page_Content:\n",
      " Điều 64. Chào bán và chuyển nhượng cổ phần\n",
      "3. Việc chuyển nhượng cổ phần niêm yết, đăng ký giao dịch của tổ chức tín dụng được thực hiện theo quy định của pháp luật về chứng khoán.\n",
      "Stt: 19\n",
      "Số hiệu: 32/2024/QH15\n",
      "Chủ đề: Các tổ chức tín dụng\n",
      "Chương: Chương IV: TỔ CHỨC, QUẢN TRỊ, ĐIỀU HÀNH CỦA TỔ CHỨC TÍN DỤNG, CHI NHÁNH NGÂN HÀNG NƯỚC NGOÀI\n",
      "Mục: Mục 3. TỔ CHỨC TÍN DỤNG LÀ CÔNG TY CỔ PHẦN\n",
      "Tiểu mục: None\n",
      "Điều: Điều 64. Chào bán và chuyển nhượng cổ phần\n",
      "Khoản: Khoản 3\n",
      "Score: 0.37419942021369934 \n",
      " -----------------------\n",
      "Page_Content:\n",
      " Điều 13. Tiêu chuẩn, điều kiện tham gia lực lượng tham gia bảo vệ an ninh, trật tự ở cơ sở\n",
      "5. Có đủ sức khỏe theo giấy chứng nhận của cơ sở khám bệnh, chữa bệnh được thành lập, hoạt động theo quy định của pháp luật.\n",
      "Stt: 17\n",
      "Số hiệu: 30/2023/QH15\n",
      "Chủ đề: Lực lượng tham gia bảo vệ an ninh, trật tự ở cơ sở\n",
      "Chương: Chương III: XÂY DỰNG LỰC LƯỢNG, BẢO ĐẢM ĐIỀU KIỆN HOẠT ĐỘNG ĐỐI VỚI LỰC LƯỢNG THAM GIA BẢO VỆ AN NINH, TRẬT TỰ Ở CƠ SỞ\n",
      "Mục: Mục 1. XÂY DỰNG LỰC LƯỢNG\n",
      "Tiểu mục: None\n",
      "Điều: Điều 13. Tiêu chuẩn, điều kiện tham gia lực lượng tham gia bảo vệ an ninh, trật tự ở cơ sở\n",
      "Khoản: Khoản 5\n",
      "Score: 0.41940078139305115 \n",
      " -----------------------\n",
      "Page_Content:\n",
      " Điều 15. Việc thực hiện quyền của người bệnh bị mất năng lực hành vi dân sự, có khó khăn trong nhận thức, làm chủ hành vi, hạn chế năng lực hành vi dân sự, người bệnh là người chưa thành niên và người bệnh không có thân nhân\n",
      "1. Trường hợp người bệnh là người thành niên và rơi vào tình trạng mất năng lực hành vi dân sự, có khó khăn trong nhận thức, làm chủ hành vi, hạn chế năng lực hành vi dân sự nhưng trước đó đã có văn bản thể hiện nguyện vọng hợp pháp về khám bệnh, chữa bệnh của mình thì thực hiện theo nguyện vọng của người bệnh.\n",
      "Stt: 6\n",
      "Số hiệu: 15/2023/QH15\n",
      "Chủ đề: Khám bệnh, chữa bệnh\n",
      "Chương: Chương II: QUYỀN, NGHĨA VỤ CỦA NGƯỜI BỆNH\n",
      "Mục: Mục 1. QUYỀN CỦA NGƯỜI BỆNH\n",
      "Tiểu mục: None\n",
      "Điều: Điều 15. Việc thực hiện quyền của người bệnh bị mất năng lực hành vi dân sự, có khó khăn trong nhận thức, làm chủ hành vi, hạn chế năng lực hành vi dân sự, người bệnh là người chưa thành niên và người bệnh không có thân nhân\n",
      "Khoản: Khoản 1\n",
      "Score: 0.5284554958343506 \n",
      " -----------------------\n"
     ]
    },
    {
     "name": "stderr",
     "output_type": "stream",
     "text": [
      "C:\\Users\\ADMIN\\AppData\\Local\\Temp\\ipykernel_21308\\3142861224.py:12: LangChainBetaWarning: The function `loads` is in beta. It is actively being worked on, so the API may change.\n",
      "  (loads(doc), score)\n"
     ]
    }
   ],
   "source": [
    "\n",
    "# Ví dụ sử dụng\n",
    "user_query= \"Muốn trở thành người đại diện cho bệnh nhân thì người đó phải có năng lực hành vi dân sự đầy đủ. Vậy các năng lực hành vi dân sự đầy đủ là gì?\"\n",
    "\n",
    "results = combined_search_with_rerank(user_query, key_manager, metadata_fields, top_k=5)\n",
    "\n",
    "# In ra kết quả top 5 tài liệu\n",
    "print_Results_MoreKeywords(results)\n"
   ]
  },
  {
   "cell_type": "code",
   "execution_count": 26,
   "metadata": {},
   "outputs": [
    {
     "name": "stdout",
     "output_type": "stream",
     "text": [
      "Page_Content:\n",
      " Điều 4. Loại hình, các chế độ bảo hiểm xã hội\n",
      "3. Bảo hiểm xã hội tự nguyện có các chế độ sau đây:\n",
      "a) Trợ cấp thai sản;\n",
      "b) Hưu trí;\n",
      "c) Tử tuất;\n",
      "d) Bảo hiểm tai nạn lao động theo quy định của Luật An toàn, vệ sinh lao động.\n",
      "Stt: 29\n",
      "Số hiệu: 41/2024/QH15\n",
      "Chủ đề: Bảo hiểm xã hội\n",
      "Chương: Chương I: NHỮNG QUY ĐỊNH CHUNG\n",
      "Mục: None\n",
      "Tiểu mục: None\n",
      "Điều: Điều 4. Loại hình, các chế độ bảo hiểm xã hội\n",
      "Khoản: Khoản 3\n",
      "Score: 0.6678814888000488 \n",
      " -----------------------\n",
      "Page_Content:\n",
      " Điều 2. Đối tượng tham gia bảo hiểm xã hội bắt buộc và bảo hiểm xã hội tự nguyện\n",
      "6. Ủy ban Thường vụ Quốc hội quyết định việc tham gia bảo hiểm xã hội bắt buộc đối với đối tượng khác ngoài đối tượng quy định tại khoản 1 Điều này mà có việc làm, thu nhập ổn định, thường xuyên trên cơ sở đề xuất của Chính phủ phù hợp với điều kiện phát triển kinh tế - xã hội từng thời kỳ.\n",
      "Stt: 29\n",
      "Số hiệu: 41/2024/QH15\n",
      "Chủ đề: Bảo hiểm xã hội\n",
      "Chương: Chương I: NHỮNG QUY ĐỊNH CHUNG\n",
      "Mục: None\n",
      "Tiểu mục: None\n",
      "Điều: Điều 2. Đối tượng tham gia bảo hiểm xã hội bắt buộc và bảo hiểm xã hội tự nguyện\n",
      "Khoản: Khoản 6\n",
      "Score: 0.5647261142730713 \n",
      " -----------------------\n",
      "Page_Content:\n",
      " Điều 3. Giải thích từ ngữ\n",
      "4. Bảo hiểm xã hội tự nguyện là loại hình bảo hiểm xã hội do Nhà nước tổ chức mà công dân Việt Nam tự nguyện tham gia và được lựa chọn mức đóng, phương thức đóng phù hợp với thu nhập của mình.\n",
      "Stt: 29\n",
      "Số hiệu: 41/2024/QH15\n",
      "Chủ đề: Bảo hiểm xã hội\n",
      "Chương: Chương I: NHỮNG QUY ĐỊNH CHUNG\n",
      "Mục: None\n",
      "Tiểu mục: None\n",
      "Điều: Điều 3. Giải thích từ ngữ\n",
      "Khoản: Khoản 4\n",
      "Score: 0.6009343862533569 \n",
      " -----------------------\n",
      "Page_Content:\n",
      " Điều 3. Giải thích từ ngữ\n",
      "4. Bảo hiểm xã hội tự nguyện là loại hình bảo hiểm xã hội do Nhà nước tổ chức mà công dân Việt Nam tự nguyện tham gia và được lựa chọn mức đóng, phương thức đóng phù hợp với thu nhập của mình.\n",
      "Stt: 29\n",
      "Số hiệu: 41/2024/QH15\n",
      "Chủ đề: Bảo hiểm xã hội\n",
      "Chương: Chương I: NHỮNG QUY ĐỊNH CHUNG\n",
      "Mục: None\n",
      "Tiểu mục: None\n",
      "Điều: Điều 3. Giải thích từ ngữ\n",
      "Khoản: Khoản 4\n",
      "Score: 0.5602121353149414 \n",
      " -----------------------\n",
      "Page_Content:\n",
      " Điều 36. Mức đóng, phương thức và thời hạn đóng bảo hiểm xã hội của người tham gia bảo hiểm xã hội tự nguyện\n",
      "4. Chính phủ quy định chi tiết điểm đ và điểm e khoản 2 Điều này.\n",
      "Stt: 29\n",
      "Số hiệu: 41/2024/QH15\n",
      "Chủ đề: Bảo hiểm xã hội\n",
      "Chương: Chương IV: ĐĂNG KÝ THAM GIA VÀ QUẢN LÝ THU, ĐÓNG BẢO HIỂM XÃ HỘI BẮT BUỘC VÀ BẢO HIỂM XÃ HỘI TỰ NGUYỆN\n",
      "Mục: Mục 2. QUẢN LÝ THU, ĐÓNG BẢO HIỂM XÃ HỘI BẮT BUỘC VÀ BẢO HIỂM XÃ HỘI TỰ NGUYỆN\n",
      "Tiểu mục: None\n",
      "Điều: Điều 36. Mức đóng, phương thức và thời hạn đóng bảo hiểm xã hội của người tham gia bảo hiểm xã hội tự nguyện\n",
      "Khoản: Khoản 4\n",
      "Score: 0.634958028793335 \n",
      " -----------------------\n"
     ]
    }
   ],
   "source": [
    "\n",
    "# Ví dụ sử dụng\n",
    "user_query= \"Bảo hiểm xã hội tự nguyện có các chế độ nào?\"\n",
    "\n",
    "results = combined_search_with_rerank(user_query, key_manager, metadata_fields, top_k=5)\n",
    "\n",
    "# In ra kết quả top 5 tài liệu\n",
    "print_Results_MoreKeywords(results)\n"
   ]
  },
  {
   "cell_type": "markdown",
   "metadata": {},
   "source": [
    "#### **Nhận xét**\n",
    "- Nhìn chung, việc áp dụng đã thay đổi thứ tự xếp hạng, khiến một số tài liệu có điểm Cosin cao hơn lại ở vị trí thấp hơn.\n",
    "- Nhưng vẫn có thể áp dụng để đề phòng một số trường hợp kết quả truy vấn bị lệch quá xa, nằm ở top dưới."
   ]
  },
  {
   "cell_type": "code",
   "execution_count": null,
   "metadata": {},
   "outputs": [],
   "source": []
  }
 ],
 "metadata": {
  "kernelspec": {
   "display_name": "Python 3",
   "language": "python",
   "name": "python3"
  },
  "language_info": {
   "codemirror_mode": {
    "name": "ipython",
    "version": 3
   },
   "file_extension": ".py",
   "mimetype": "text/x-python",
   "name": "python",
   "nbconvert_exporter": "python",
   "pygments_lexer": "ipython3",
   "version": "3.9.8"
  }
 },
 "nbformat": 4,
 "nbformat_minor": 2
}
