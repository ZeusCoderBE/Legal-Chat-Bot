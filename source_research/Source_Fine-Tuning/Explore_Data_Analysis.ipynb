{
 "cells": [
  {
   "cell_type": "markdown",
   "metadata": {},
   "source": [
    "### 1.Import Library"
   ]
  },
  {
   "cell_type": "code",
   "execution_count": 4,
   "metadata": {},
   "outputs": [],
   "source": [
    "import pandas as pd"
   ]
  },
  {
   "cell_type": "markdown",
   "metadata": {},
   "source": [
    "### 2.Explore Data Analysis"
   ]
  },
  {
   "cell_type": "markdown",
   "metadata": {},
   "source": [
    "> data origin"
   ]
  },
  {
   "cell_type": "code",
   "execution_count": 5,
   "metadata": {},
   "outputs": [],
   "source": [
    "df_bh=pd.read_csv(\"./data/bhxh_bhyt_bhtn_data.csv\")\n",
    "df_chinhsach=pd.read_csv(\"./data/chinhsach_nguoicocong_data.csv\")\n",
    "df_gd_daotao_yte=pd.read_csv(\"./data/giaoduc_daotao_yte_data.csv\")\n",
    "df_gt_xd_tn_mt=pd.read_csv(\"./data/giaothong_xaydung_tainguyen_moitruong_data.csv\")\n",
    "df_laodong_tt=pd.read_csv(\"./data/laodong_tienthuong_data.csv\")\n",
    "df_tc_nh_dt_ct=pd.read_csv(\"./data/taichinh_nganhang_dautu_congthuong_data.csv\")\n",
    "df_linhvuckhac=pd.read_csv(\"./data/linhvuckhac_data.csv\")"
   ]
  },
  {
   "cell_type": "markdown",
   "metadata": {},
   "source": [
    "> merge data"
   ]
  },
  {
   "cell_type": "code",
   "execution_count": 6,
   "metadata": {},
   "outputs": [],
   "source": [
    "# Nối các DataFrame lại thành một DataFrame duy nhất\n",
    "df_tonghop = pd.concat([df_bh, df_chinhsach, df_gd_daotao_yte, df_gt_xd_tn_mt, df_laodong_tt, df_tc_nh_dt_ct, df_linhvuckhac], ignore_index=True)\n",
    "\n",
    "df_tonghop = df_tonghop.drop(columns='Index')\n",
    "\n",
    "# Lưu DataFrame đã nối với việc thêm cột 'index' làm tên cột\n",
    "df_tonghop.to_csv(\"./data/tonghop_data.csv\", index_label='Index')\n"
   ]
  },
  {
   "cell_type": "code",
   "execution_count": 7,
   "metadata": {},
   "outputs": [
    {
     "data": {
      "text/plain": [
       "(12818, 5)"
      ]
     },
     "execution_count": 7,
     "metadata": {},
     "output_type": "execute_result"
    }
   ],
   "source": [
    "df_tonghop.shape"
   ]
  },
  {
   "cell_type": "markdown",
   "metadata": {},
   "source": [
    "> Read CSV"
   ]
  },
  {
   "cell_type": "code",
   "execution_count": 8,
   "metadata": {},
   "outputs": [],
   "source": [
    "df_train = pd.read_csv('./data/tonghop_data.csv')\n",
    "df_alqac = pd.read_csv('./data/ALQAC.csv')"
   ]
  },
  {
   "cell_type": "markdown",
   "metadata": {},
   "source": [
    "> Rename"
   ]
  },
  {
   "cell_type": "code",
   "execution_count": 9,
   "metadata": {},
   "outputs": [],
   "source": [
    "df_train = df_train.rename(columns={'Question': 'question', 'Situation': 'situation', 'Answer': 'answer'})"
   ]
  },
  {
   "cell_type": "markdown",
   "metadata": {},
   "source": [
    "> Create Context"
   ]
  },
  {
   "cell_type": "code",
   "execution_count": 10,
   "metadata": {},
   "outputs": [],
   "source": [
    "df_train=df_train[['question', 'situation', 'answer']]\n",
    "df_train['context']=df_train['situation']+df_train['answer']"
   ]
  },
  {
   "cell_type": "markdown",
   "metadata": {},
   "source": [
    "> format"
   ]
  },
  {
   "cell_type": "code",
   "execution_count": 11,
   "metadata": {},
   "outputs": [],
   "source": [
    "df_train=df_train[['context', 'question', 'answer']]"
   ]
  },
  {
   "cell_type": "markdown",
   "metadata": {},
   "source": [
    "> To CSV"
   ]
  },
  {
   "cell_type": "code",
   "execution_count": 12,
   "metadata": {},
   "outputs": [],
   "source": [
    "df_merged = pd.concat([df_train, df_alqac], axis=0)\n",
    "# Lưu kết quả vào file CSV mới\n",
    "df_merged.to_csv('./data/final_train.csv', index=False)"
   ]
  },
  {
   "cell_type": "markdown",
   "metadata": {},
   "source": [
    "> To CSV"
   ]
  },
  {
   "cell_type": "code",
   "execution_count": 13,
   "metadata": {},
   "outputs": [
    {
     "name": "stdout",
     "output_type": "stream",
     "text": [
      "Chuyển đổi hoàn tất. Kiểm tra số dòng trong file CSV để đảm bảo có đủ 2824 dòng.\n"
     ]
    }
   ],
   "source": [
    "import json\n",
    "import csv\n",
    "def json_to_csv(json_file_path, csv_writer):\n",
    "    with open(json_file_path, 'r', encoding='utf-8') as json_file:\n",
    "        data = json.load(json_file)\n",
    "        for item in data:\n",
    "            for entry in item['data']:\n",
    "                for paragraph in entry['paragraphs']:\n",
    "                    context = paragraph['context']\n",
    "                    for qa in paragraph['qas']:\n",
    "                        question = qa['question']\n",
    "                        \n",
    "                        # Kiểm tra và trích xuất câu trả lời\n",
    "                        is_impossible = qa.get('is_impossible', False)\n",
    "                        if not is_impossible:\n",
    "                            answer = qa['answers'][0]['text'] if qa['answers'] else \"No answer available\"\n",
    "                        else:\n",
    "                            answer = \"No answer available\" \n",
    "                        csv_writer.writerow([context, question, answer])\n",
    "with open('./data/qa_combined_data.csv', 'w', encoding='utf-8', newline='') as csv_file:\n",
    "    writer = csv.writer(csv_file)\n",
    "    writer.writerow(['context', 'question', 'answer'])\n",
    "    json_to_csv('./data/qa_train.json', writer)\n",
    "    json_to_csv('./data/eval.json', writer)\n",
    "\n",
    "print(\"Chuyển đổi hoàn tất. Kiểm tra số dòng trong file CSV để đảm bảo có đủ 2824 dòng.\")\n"
   ]
  },
  {
   "cell_type": "code",
   "execution_count": 2,
   "metadata": {},
   "outputs": [],
   "source": [
    "import pandas as pd\n",
    "data_git=pd.read_csv(\"./data/qa_combined_data.csv\")"
   ]
  },
  {
   "cell_type": "code",
   "execution_count": 3,
   "metadata": {},
   "outputs": [
    {
     "data": {
      "text/plain": [
       "context     0\n",
       "question    0\n",
       "answer      0\n",
       "dtype: int64"
      ]
     },
     "execution_count": 3,
     "metadata": {},
     "output_type": "execute_result"
    }
   ],
   "source": [
    "data_git.isnull().sum()"
   ]
  },
  {
   "cell_type": "markdown",
   "metadata": {},
   "source": [
    ">Final train"
   ]
  },
  {
   "cell_type": "code",
   "execution_count": 15,
   "metadata": {},
   "outputs": [],
   "source": [
    "final_data= pd.concat([df_merged,data_git], axis=0)\n",
    "# Lưu kết quả vào file CSV mới\n",
    "final_data.to_csv('./data/final_train.csv', index=False)"
   ]
  },
  {
   "cell_type": "code",
   "execution_count": 16,
   "metadata": {},
   "outputs": [
    {
     "data": {
      "text/plain": [
       "(17325, 3)"
      ]
     },
     "execution_count": 16,
     "metadata": {},
     "output_type": "execute_result"
    }
   ],
   "source": [
    "final_data.shape"
   ]
  },
  {
   "cell_type": "code",
   "execution_count": 2,
   "metadata": {},
   "outputs": [],
   "source": [
    "import pandas as pd\n",
    "data_eda_qa=pd.read_csv(\"./data/final_train.csv\")"
   ]
  },
  {
   "cell_type": "code",
   "execution_count": 3,
   "metadata": {},
   "outputs": [
    {
     "data": {
      "text/plain": [
       "(17325, 3)"
      ]
     },
     "execution_count": 3,
     "metadata": {},
     "output_type": "execute_result"
    }
   ],
   "source": [
    "data_eda_qa.shape"
   ]
  },
  {
   "cell_type": "code",
   "execution_count": 4,
   "metadata": {},
   "outputs": [
    {
     "data": {
      "text/html": [
       "<div>\n",
       "<style scoped>\n",
       "    .dataframe tbody tr th:only-of-type {\n",
       "        vertical-align: middle;\n",
       "    }\n",
       "\n",
       "    .dataframe tbody tr th {\n",
       "        vertical-align: top;\n",
       "    }\n",
       "\n",
       "    .dataframe thead th {\n",
       "        text-align: right;\n",
       "    }\n",
       "</style>\n",
       "<table border=\"1\" class=\"dataframe\">\n",
       "  <thead>\n",
       "    <tr style=\"text-align: right;\">\n",
       "      <th></th>\n",
       "      <th>context</th>\n",
       "      <th>question</th>\n",
       "      <th>answer</th>\n",
       "    </tr>\n",
       "  </thead>\n",
       "  <tbody>\n",
       "    <tr>\n",
       "      <th>0</th>\n",
       "      <td>Tôi xin hỏi, một xã giai đoạn 2016-2020 là xã ...</td>\n",
       "      <td>Người dân tộc thiểu số xã nông thôn mới có đượ...</td>\n",
       "      <td>Bộ Y tế trả lời vấn đề này như sau:Ngày 19/10/...</td>\n",
       "    </tr>\n",
       "    <tr>\n",
       "      <th>1</th>\n",
       "      <td>Tôi đóng BHXH từ tháng 6/2011 đến tháng 12/201...</td>\n",
       "      <td>Có được truy lĩnh chế độ thai sản?</td>\n",
       "      <td>Bảo hiểm xã hội Việt Nam trả lời vấn đề này nh...</td>\n",
       "    </tr>\n",
       "    <tr>\n",
       "      <th>2</th>\n",
       "      <td>Tôi xin hỏi, trên giấy ra viện có ghi chú ngườ...</td>\n",
       "      <td>Khi nào cần xin thêm Giấy chứng nhận nghỉ việc...</td>\n",
       "      <td>Bảo hiểm xã hội Việt Nam trả lời vấn đề này nh...</td>\n",
       "    </tr>\n",
       "    <tr>\n",
       "      <th>3</th>\n",
       "      <td>Tôi năm nay 53 tuổi, đóng BHXH tự nguyện được ...</td>\n",
       "      <td>Đóng BHXH tự nguyện bao lâu thì được lương hưu?</td>\n",
       "      <td>Bảo hiểm xã hội Việt Nam trả lời vấn đề này nh...</td>\n",
       "    </tr>\n",
       "    <tr>\n",
       "      <th>4</th>\n",
       "      <td>Tôi đóng BHXH từ tháng 1/2020 đến tháng 12/202...</td>\n",
       "      <td>Đóng BHXH bao lâu trước khi sinh thì được hưởn...</td>\n",
       "      <td>Bảo hiểm xã hội Việt Nam trả lời vấn đề này nh...</td>\n",
       "    </tr>\n",
       "  </tbody>\n",
       "</table>\n",
       "</div>"
      ],
      "text/plain": [
       "                                             context  \\\n",
       "0  Tôi xin hỏi, một xã giai đoạn 2016-2020 là xã ...   \n",
       "1  Tôi đóng BHXH từ tháng 6/2011 đến tháng 12/201...   \n",
       "2  Tôi xin hỏi, trên giấy ra viện có ghi chú ngườ...   \n",
       "3  Tôi năm nay 53 tuổi, đóng BHXH tự nguyện được ...   \n",
       "4  Tôi đóng BHXH từ tháng 1/2020 đến tháng 12/202...   \n",
       "\n",
       "                                            question  \\\n",
       "0  Người dân tộc thiểu số xã nông thôn mới có đượ...   \n",
       "1                 Có được truy lĩnh chế độ thai sản?   \n",
       "2  Khi nào cần xin thêm Giấy chứng nhận nghỉ việc...   \n",
       "3    Đóng BHXH tự nguyện bao lâu thì được lương hưu?   \n",
       "4  Đóng BHXH bao lâu trước khi sinh thì được hưởn...   \n",
       "\n",
       "                                              answer  \n",
       "0  Bộ Y tế trả lời vấn đề này như sau:Ngày 19/10/...  \n",
       "1  Bảo hiểm xã hội Việt Nam trả lời vấn đề này nh...  \n",
       "2  Bảo hiểm xã hội Việt Nam trả lời vấn đề này nh...  \n",
       "3  Bảo hiểm xã hội Việt Nam trả lời vấn đề này nh...  \n",
       "4  Bảo hiểm xã hội Việt Nam trả lời vấn đề này nh...  "
      ]
     },
     "execution_count": 4,
     "metadata": {},
     "output_type": "execute_result"
    }
   ],
   "source": [
    "data_eda_qa.head(5)"
   ]
  },
  {
   "cell_type": "code",
   "execution_count": null,
   "metadata": {},
   "outputs": [],
   "source": [
    "SS"
   ]
  }
 ],
 "metadata": {
  "kernelspec": {
   "display_name": "machinelearning-lTTH8rYd",
   "language": "python",
   "name": "python3"
  },
  "language_info": {
   "codemirror_mode": {
    "name": "ipython",
    "version": 3
   },
   "file_extension": ".py",
   "mimetype": "text/x-python",
   "name": "python",
   "nbconvert_exporter": "python",
   "pygments_lexer": "ipython3",
   "version": "3.11.5"
  }
 },
 "nbformat": 4,
 "nbformat_minor": 2
}
