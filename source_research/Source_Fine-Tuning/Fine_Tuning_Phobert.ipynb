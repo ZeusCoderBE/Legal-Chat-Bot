{
 "cells": [
  {
   "cell_type": "markdown",
   "metadata": {},
   "source": [
    "## I.Import library"
   ]
  },
  {
   "cell_type": "code",
   "execution_count": 1,
   "metadata": {},
   "outputs": [
    {
     "name": "stderr",
     "output_type": "stream",
     "text": [
      "c:\\Users\\hdang\\.virtualenvs\\machinelearning-lTTH8rYd\\Lib\\site-packages\\tqdm\\auto.py:21: TqdmWarning: IProgress not found. Please update jupyter and ipywidgets. See https://ipywidgets.readthedocs.io/en/stable/user_install.html\n",
      "  from .autonotebook import tqdm as notebook_tqdm\n"
     ]
    },
    {
     "name": "stdout",
     "output_type": "stream",
     "text": [
      "WARNING:tensorflow:From c:\\Users\\hdang\\.virtualenvs\\machinelearning-lTTH8rYd\\Lib\\site-packages\\keras\\src\\losses.py:2976: The name tf.losses.sparse_softmax_cross_entropy is deprecated. Please use tf.compat.v1.losses.sparse_softmax_cross_entropy instead.\n",
      "\n"
     ]
    }
   ],
   "source": [
    "import pandas as pd\n",
    "import json\n",
    "pd.set_option('display.max_columns', None)  \n",
    "pd.set_option('display.max_rows', None)     \n",
    "pd.set_option('display.max_colwidth', None) \n",
    "import re\n",
    "from transformers import BertTokenizer, BertForPreTraining, BertForQuestionAnswering, BertModel, BertConfig\n",
    "from transformers import XLMRobertaForQuestionAnswering, XLMRobertaTokenizer\n",
    "import torch\n",
    "import torch.nn as nn\n",
    "from pyvi import ViTokenizer\n",
    "from transformers.data.metrics.squad_metrics import compute_predictions_log_probs, compute_predictions_logits, squad_evaluate\n",
    "from transformers.data.processors.squad import SquadResult, SquadV1Processor, SquadV2Processor, SquadProcessor, SquadExample\n",
    "from transformers import AutoModel, AutoTokenizer\n",
    "from transformers.data.processors.squad import squad_convert_examples_to_features\n",
    "from transformers import RobertaForQuestionAnswering, RobertaConfig, WEIGHTS_NAME"
   ]
  },
  {
   "cell_type": "code",
   "execution_count": 1,
   "metadata": {},
   "outputs": [],
   "source": [
    "!pip install -q ngrok\n"
   ]
  },
  {
   "cell_type": "markdown",
   "metadata": {},
   "source": [
    "### II. Data PreProcessing"
   ]
  },
  {
   "cell_type": "markdown",
   "metadata": {},
   "source": [
    "> Function Read data_origin"
   ]
  },
  {
   "cell_type": "code",
   "execution_count": 2,
   "metadata": {},
   "outputs": [],
   "source": [
    "def read_data(data_dir):\n",
    "    with open(data_dir, 'r', encoding = 'utf-8') as f:\n",
    "        data = json.load(f)\n",
    "    return data"
   ]
  },
  {
   "cell_type": "markdown",
   "metadata": {},
   "source": [
    "> Execute Function"
   ]
  },
  {
   "cell_type": "code",
   "execution_count": 3,
   "metadata": {},
   "outputs": [],
   "source": [
    "dataset = read_data(\"../data/data_origin/data_train/UIT-ViQuAD.json\")"
   ]
  },
  {
   "cell_type": "code",
   "execution_count": 4,
   "metadata": {},
   "outputs": [
    {
     "name": "stdout",
     "output_type": "stream",
     "text": [
      "{'title': 'Thực vật có hoa', 'paragraphs': [{'qas': [{'question': 'Thuật ngữ thực vật hạt kín Angioosperm được định nghĩa đầu tiên trên ngôn ngữ nào?', 'answers': [{'answer_start': 67, 'text': 'tiếng Hy Lạp'}], 'id': 'uit_000042', 'is_impossible': False}, {'question': 'Angiospermae được nhà bác nào định nghĩa vào năm 1690?', 'answers': [{'answer_start': 128, 'text': 'Paul Hermann'}], 'id': 'uit_000043', 'is_impossible': False}, {'question': 'Angiospermae được nhà bác Paul Hermann định nghĩa vào năm 1690 bao gồm những loai thực nào?', 'answers': [{'answer_start': 283, 'text': 'thực vật có hoa và tạo ra các hạt được bao phủ trong các bao vỏ'}], 'id': 'uit_000044', 'is_impossible': False}, {'question': 'Cây Tuế và cây Thông thuộc loại thực vật nào?', 'answers': [{'answer_start': 985, 'text': 'thực vật hạt trần'}], 'id': 'uit_000045', 'is_impossible': False}, {'question': 'Robert Brown phát hiện sự tồn tại của noãn trần trong cây Tuế và cây Thông vào thời gian nào?', 'answers': [{'answer_start': 855, 'text': 'năm 1827'}], 'id': 'uit_000046', 'is_impossible': False}, {'question': 'Robert Brown phát hiện sự tồn tại của lá mầm trong cây Tuế và cây Thông vào thời gian nào?', 'answers': [], 'plausible_answers': [{'answer_start': 855, 'text': 'năm 1827'}], 'id': 'uit_000047', 'is_impossible': True}, {'question': 'Ai là người sử dụng thuật ngữ Angiosperm và từ trái nghĩa của nó trong cùng ngữ cảnh?', 'answers': [{'answer_start': 581, 'text': 'Carolus Linnaeus'}], 'id': 'uit_000048', 'is_impossible': False}], 'context': 'Thuật ngữ để chỉ thực vật hạt kín là \"Angiosperm\", có nguồn gốc từ tiếng Hy Lạp cổ đại αγγειον (chỗ chứa) và σπερμα (hạt), được Paul Hermann tạo thành dưới dạng thuật ngữ Angiospermae vào năm 1690, như là tên gọi của một trong các ngành chính trong giới thực vật của ông, nó bao gồm thực vật có hoa và tạo ra các hạt được bao phủ trong các bao vỏ (quả nang), ngược lại với Gymnospermae của ông, hay thực vật có hoa với các quả thuộc loại quả bế hay quả nứt - toàn bộ quả hay mỗi miếng riêng rẽ của nó được coi như là hạt và trần trụi. Thuật ngữ này và từ trái nghĩa của nó đã được Carolus Linnaeus duy trì với cùng ngữ cảnh, nhưng với các ứng dụng hạn hẹp hơn, như trong tên gọi của các bộ trong lớp Didynamia của ông. Việc sử dụng nó trong bất kỳ cách tiếp cận nào đối với lĩnh vực hiện đại của nó chỉ trở thành có thể sau khi Robert Brown thiết lập vào năm 1827 sự tồn tại của các noãn trần thực sự trong Cycadeae (Tuế) và Coniferae (Thông), cho phép gọi chúng một cách chính xác là thực vật hạt trần. Từ thời điểm này trở đi, cũng giống như Gymnosperm được dùng để chỉ thực vật hạt trần thì thuật ngữ Angiosperm đã được nhiều nhà thực vật học dùng với ý nghĩa đối lập, nhưng với giới hạn thay đổi, như là tên nhóm cho các thực vật hai lá mầm khác.'}, {'qas': [{'question': 'Nhà sinh học Hofmeister đã tìm ra những thay đổi xãy ra trong túi phôi của thực vật có hoa vào thời gian nào?', 'answers': [{'answer_start': 28, 'text': 'năm 1851'}], 'id': 'uit_000049', 'is_impossible': False}, {'question': 'Ai là người đã tìm ra những thay đổi xãy ra trong túi phôi của thực vật có hoa vào thời gian nào?', 'answers': [{'answer_start': 17, 'text': 'Hofmeister'}], 'id': 'uit_000050', 'is_impossible': False}, {'question': 'Năm 1851 nhà sinh học Hofmeister đã tìm ra điều gì ở thực vật có hoa?', 'answers': [{'answer_start': 40, 'text': 'các thay đổi xảy ra trong túi phôi của thực vật có hoa'}], 'id': 'uit_000051', 'is_impossible': False}, {'question': 'Nhà sinh học Hofmeister đã tìm ra những thay đổi xảy ra trong bao phấn của thực vật có hoa vào thời gian nào?', 'answers': [], 'plausible_answers': [{'answer_start': 28, 'text': 'năm 1851'}], 'id': 'uit_000052', 'is_impossible': True}, {'question': 'Ai là người đã tìm ra những đặc điểm trong túi phôi của thực vật có hoa vào thời gian này?', 'answers': [], 'plausible_answers': [{'answer_start': 17, 'text': 'Hofmeister'}], 'id': 'uit_000053', 'is_impossible': True}, {'question': 'Trước khi thuật ngữ Angiosperm được chấp nhận thì thuật ngữ gì được xem là phù hợp hơn?', 'answers': [{'answer_start': 388, 'text': 'Gymnosperm'}], 'id': 'uit_000054', 'is_impossible': False}], 'context': 'Sự phát hiện của Hofmeister năm 1851 về các thay đổi xảy ra trong túi phôi của thực vật có hoa, cũng như sự xác định của ông về các quan hệ chính xác của các thay đổi này với thực vật có mạch, đã cố định vị trí của Gymnosperm như là một lớp phân biệt với thực vật hai lá mầm, và thuật ngữ Angiosperm sau đó dần dần được chấp nhận như là tên gọi phù hợp cho toàn bộ thực vật có hoa hơn là Gymnosperm, và nó bao gồm trong đó các lớp thực vật hai lá mầm và thực vật một lá mầm. Đây chính là ý nghĩa mà thuật ngữ này hiện nay có được và được sử dụng ở đây.'}, {'qas': [{'question': 'Nhóm thực vật nào tiến hoá cao nhất?', 'answers': [{'answer_start': 164, 'text': 'thực vật hạt kín'}], 'id': 'uit_000055', 'is_impossible': False}, {'question': 'Nhóm thực vật nào tạo thành thảm thực vật chủ yếu trên bề mặt của Trái Đất?', 'answers': [{'answer_start': 164, 'text': 'thực vật hạt kín'}], 'id': 'uit_000056', 'is_impossible': False}, {'question': 'Thực vật hạt kín phân bố phổ biến ở đâu trên thế giới?', 'answers': [{'answer_start': 347, 'text': 'từ hai địa cực tới xích đạo'}], 'id': 'uit_000057', 'is_impossible': False}, {'question': 'Nhóm thực vật nào sinh trưởng nhanh nhất?', 'answers': [], 'plausible_answers': [{'answer_start': 164, 'text': 'thực vật hạt kín'}], 'id': 'uit_000058', 'is_impossible': True}, {'question': 'Ở kỷ nguyên hiện tại, loài thực vật nào là chủ yếu tạo nên thảm thực vật cho bề mặt Trái Đất?', 'answers': [{'answer_start': 164, 'text': 'thực vật hạt kín'}], 'id': 'uit_000059', 'is_impossible': False}], 'context': 'Sự tiến hóa của giới thực vật đã theo xu hướng thiết lập các loài thực vật với kiểu cách phát triển cố định và phù hợp với sự thay đổi của sự sống trên mặt đất, và thực vật hạt kín là biểu hiện cao nhất của quá trình tiến hóa này. Chúng tạo thành thảm thực vật chủ yếu trên bề mặt Trái Đất trong kỷ nguyên hiện tại. Thực vật hạt kín được tìm thấy từ hai địa cực tới xích đạo, khi mà sự sống của thực vật là có thể duy trì được. Chúng cũng rất phổ biến trong các vùng nông của các con sông và các hồ nước ngọt, cũng như có ít hơn về mặt số lượng loài trong các hồ nước mặn hay trong lòng đại dương. Tuy nhiên, các loài thực vật hạt kín thủy sinh không phải là các dạng nguyên thủy mà được phát sinh ra từ các dạng tổ tiên trung gian trên đất liền. Gắn liền với sự đa dạng về nơi sinh sống là sự dao động lớn về hình thái chung và kiểu sinh trưởng. Chẳng hạn, các loại bèo tấm quen thuộc che phủ bề mặt các ao hồ gồm có các chồi nhỏ màu xanh lục dạng \"tản\", gần như không thể hiện sự phân biệt giữa các phần - thân và lá, chúng có một rễ đơn mọc theo chiều đứng xuống dưới nước. Trong khi đó, các cây thân gỗ lớn trong rừng có thân cây, có lẽ là sau hàng trăm năm, đã phát triển thành một hệ thống trải rộng bao gồm các cành và nhánh, mang theo nhiều cành con hay nhánh nhỏ với hằng hà sa số lá, trong khi dưới lòng đất thì hệ thống rễ trải rộng nhiều nhánh cũng chiếm một diện tích đất tương đương. Giữa hai thái cực này là mọi trạng thái có thể tưởng tượng được, bao gồm các loại cây thân thảo trên mặt đất và dưới nước, là các loại cây thân bò, mọc thẳng hay dây leo về cách thức phát triển, cây bụi hay cây thân gỗ nhỏ và vừa phải và chúng có sự đa dạng hơn nhiều so với các ngành khác của thực vật có hạt, chẳng hạn như ở thực vật hạt trần.'}, {'qas': [{'question': 'Người ta đã phát hiện được các mẫu hoá thạch của thực vật hạt kín vào thời gian nào?', 'answers': [{'answer_start': 109, 'text': 'khoảng 140 triệu năm trước'}], 'id': 'uit_000060', 'is_impossible': False}, {'question': 'Vào kỷ Trias thì thực vật hạt kín đã tách khỏi ngành thực vật nào?', 'answers': [{'answer_start': 277, 'text': 'Dây gắm'}], 'id': 'uit_000061', 'is_impossible': False}, {'question': 'Thuật ngữ chuyên ngành của ngành Dây gắm?', 'answers': [{'answer_start': 286, 'text': 'Gnetophyta'}], 'id': 'uit_000062', 'is_impossible': False}, {'question': 'Các hoá thạch phấn hoa được tìm thấy có niên đại bao nhiêu?', 'answers': [{'answer_start': 800, 'text': 'tới 130 triệu năm'}], 'id': 'uit_000063', 'is_impossible': False}, {'question': 'Nhóm thực vật nào chiếm tỉ lệ lớn trong số thực vật trên mặt đất vào cuối kỷ Phấn Trắng?', 'answers': [{'answer_start': 1253, 'text': 'thực vật hạt kín'}], 'id': 'uit_000064', 'is_impossible': False}, {'question': 'Người ta đã phát hiện được các đặc điểm của thực vật hạt kín vào thời gian nào?', 'answers': [], 'plausible_answers': [{'answer_start': 109, 'text': 'khoảng 140 triệu năm trước'}], 'id': 'uit_000065', 'is_impossible': True}, {'question': 'Vào kỷ Jura thì thực vật hạt kín đã tách khỏi ngành thực vật nào?', 'answers': [], 'plausible_answers': [{'answer_start': 277, 'text': 'Dây gắm'}], 'id': 'uit_000066', 'is_impossible': True}, {'question': 'Thuật ngữ chuyên ngành của ngành Thân leo là gì?', 'answers': [], 'plausible_answers': [{'answer_start': 286, 'text': 'Gnetophyta'}], 'id': 'uit_000067', 'is_impossible': True}, {'question': 'Archaefructus liaoningensis là hóa thạch được phát hiện vào kỷ nào?', 'answers': [{'answer_start': 481, 'text': 'kỷ Phấn trắng (kỷ Creta)'}], 'id': 'uit_000068', 'is_impossible': False}], 'context': 'Các chứng cứ đầu tiên về sự xuất hiện của thực vật hạt kín được tìm thấy trong các mẫu hóa thạch có niên đại khoảng 140 triệu năm trước, trong thời kỳ của kỷ Jura (203-135 triệu năm trước). Dựa trên các chứng cứ hiện tại, dường như là các tổ tiên của thực vật hạt kín và ngành Dây gắm (Gnetophyta) đã tách ra khỏi nhau vào cuối kỷ Trias (220-202 triệu năm trước). Các thực vật hóa thạch với một số đặc trưng có thể xác định thuộc về thực vật hạt kín xuất hiện trong kỷ Jura và đầu kỷ Phấn trắng (kỷ Creta) (135-65 triệu năm trước), nhưng chỉ có dưới một số rất ít hình thái thô sơ. Hóa thạch sớm nhất của thực vật hạt kín, Archaefructus liaoningensis, có niên đại khoảng 125 triệu năm trước. Phấn hoa, được coi là liên quan trực tiếp tới sự phát triển của hoa, được tìm thấy trong hóa thạch có lẽ cổ tới 130 triệu năm. Sự bùng nổ mạnh của thực vật hạt kín (khi có sự đa dạng lớn của thực vật hạt kín trong các mẫu hóa thạch) đã diễn ra vào giữa kỷ Phấn trắng (khoảng 100 triệu năm trước). Tuy nhiên, một nghiên cứu trong năm 2007 đã ước tính sự phân chia của 5 trong số 8 nhóm gần đây nhất (chi Ceratophyllum, họ Chloranthaceae, thực vật hai lá mầm thật sự, magnoliids, thực vật một lá mầm) đã xảy ra khoảng 140 triệu năm trước. Vào cuối kỷ Phấn trắng, thực vật hạt kín dường như đã trở thành nhóm thống trị trong số thực vật trên đất liền, và nhiều thực vật hóa thạch có thể nhận ra được là thuộc về các họ ngày nay (bao gồm dẻ gai, sồi, thích, mộc lan) đã xuất hiện.'}, {'qas': [{'question': 'Thuật ngữ mang tính mô tả phổ biến nhất của thực vật có hoa là gì?', 'answers': [{'answer_start': 136, 'text': 'Angiospermae'}], 'id': 'uit_000069', 'is_impossible': False}, {'question': 'Thuật ngữ mang tính mô tả phổ biến thứ hai của thực vật có hoa là gì?', 'answers': [{'answer_start': 169, 'text': 'Anthophyta'}], 'id': 'uit_000070', 'is_impossible': False}, {'question': 'Hệ thống Engler sử dụng thuật ngữ nào để chỉ thực vật có hoa?', 'answers': [{'answer_start': 343, 'text': 'Angiospermae'}], 'id': 'uit_000071', 'is_impossible': False}, {'question': 'Hệ thống nào đã phân chia thực vật có hoa thành ba nhóm khác nhau như Magnoliopsida, Liliopsida và Rosopsida?', 'answers': [{'answer_start': 401, 'text': 'Reveal'}], 'id': 'uit_000072', 'is_impossible': False}, {'question': 'Hệ thống nào xem thực vật có hoa ở cấp độ lớp?', 'answers': [{'answer_start': 665, 'text': 'Hệ thống Dahlgren và hệ thống Thorne'}], 'id': 'uit_000073', 'is_impossible': False}, {'question': 'Thuật ngữ mang tính mô tả phổ biến thứ hai của thực vật là gì?', 'answers': [], 'plausible_answers': [{'answer_start': 169, 'text': 'Anthophyta'}], 'id': 'uit_000074', 'is_impossible': True}, {'question': 'Hệ thống nào đã phân chia thực vật thành ba nhóm khác nhau như Magnoliopsida, Liliopsida và Rosopsida?', 'answers': [], 'plausible_answers': [{'answer_start': 401, 'text': 'Reveal'}], 'id': 'uit_000075', 'is_impossible': True}, {'question': 'Hệ thống nào xem thực vật có hoa ở cấp độ nhánh?', 'answers': [], 'plausible_answers': [{'answer_start': 665, 'text': 'Hệ thống Dahlgren và hệ thống Thorne'}], 'id': 'uit_000076', 'is_impossible': True}, {'question': 'Theo hệ thống nào thì nhóm thực vật có hoa được xếp ở cấp độ lớp?', 'answers': [{'answer_start': 665, 'text': 'Hệ thống Dahlgren và hệ thống Thorne'}], 'id': 'uit_000077', 'is_impossible': False}], 'context': 'Trong phần lớn các hệ thống phân loại, thực vật có hoa được coi là một nhóm cố kết mạch lạc. Tên gọi mang tính miêu tả phổ biến nhất là Angiospermae (Angiospermae), với Anthophyta (\"thực vật có hoa\") là lựa chọn thứ hai. Các tên gọi này không gắn kết cố định với bất kỳ cấp phân loại nào. Hệ thống Wettstein và hệ thống Engler sử dụng tên gọi Angiospermae với cấp bậc được gán là phân ngành. Hệ thống Reveal coi thực vật có hoa như là phân ngành Magnoliophytina, nhưng sau đó tách nó ra thành Magnoliopsida, Liliopsida và Rosopsida. Hệ thống Takhtadjan và hệ thống Cronquist coi nhóm này ở cấp ngành, dẫn tới tên gọi Magnoliophyta (từ tên gọi của họ Magnoliaceae). Hệ thống Dahlgren và hệ thống Thorne (1992) coi nhóm này ở cấp độ lớp, dẫn tới tên gọi Magnoliopsida. Tuy nhiên, hệ thống APG năm 1998 và hệ thống APG II năm 2003, không coi nó như là một đơn vị phân loại chính thức mà coi nó là một nhánh không có tên gọi thực vật học chính thức và sử dụng tên gọi angiosperms cho nhánh này.'}, {'qas': [{'question': 'Hệ thống phân loại nhóm thực vật Cronquist được nhà khoa học nào đề xuất?', 'answers': [{'answer_start': 154, 'text': 'Arthur Cronquist'}], 'id': 'uit_000078', 'is_impossible': False}, {'question': 'Hệ thống phân loại nhóm thực vật Cronquist được nhà khoa học Cronquist đề xuất vào thời điểm nào?', 'answers': [{'answer_start': 179, 'text': 'năm 1968'}], 'id': 'uit_000079', 'is_impossible': False}, {'question': 'Hệ thống phân loại nhóm thực vật Cronquist được nhà khoa học Cronquist công bố vào thời điểm nào?', 'answers': [{'answer_start': 213, 'text': 'năm 1981'}], 'id': 'uit_000080', 'is_impossible': False}, {'question': 'Hệ thống phân loại nhóm thực vật nào được nhà khoa học Cronquist công bố vào năm 1981?', 'answers': [{'answer_start': 138, 'text': 'Cronquist'}], 'id': 'uit_000081', 'is_impossible': False}, {'question': 'Tổ chức nào đã đề xuất sự phân loại thuyết phục hơn cho thực vật có hoa vào năm 1998?', 'answers': [{'answer_start': 437, 'text': 'Angiosperm Phylogeny Group'}], 'id': 'uit_000082', 'is_impossible': False}, {'question': 'Hệ thống phân loại nhóm thực vật Cronquist được nhà khoa học nào thay đổi?', 'answers': [], 'plausible_answers': [{'answer_start': 154, 'text': 'Arthur Cronquist'}], 'id': 'uit_000083', 'is_impossible': True}, {'question': 'Hệ thống phân loại nhóm thực vật Cronquist được nhà khoa học Cronquist thay đổi  vào thời điểm nào?', 'answers': [], 'plausible_answers': [{'answer_start': 179, 'text': 'năm 1968'}], 'id': 'uit_000084', 'is_impossible': True}, {'question': 'Tổ chức nào đã đề xuất sự phân loại chính xác nhất cho thực vật có hoa vào năm 1998?', 'answers': [], 'plausible_answers': [{'answer_start': 437, 'text': 'Angiosperm Phylogeny Group'}], 'id': 'uit_000085', 'is_impossible': True}], 'context': 'Phân loại nội bộ của nhóm này đã qua nhiều thay đổi đáng kể cũng giống như sự thay đổi của ý tưởng về các mối quan hệ của chúng. Hệ thống Cronquist, được Arthur Cronquist đề xuất năm 1968 và công bố ở dạng đầy đủ năm 1981, vẫn còn được sử dụng rộng rãi nhưng không còn được coi là phản ánh đúng cơ chế phát sinh loài. Sự nhất trí chung về việc thực vật có hoa cần sắp xếp như thế nào chỉ có thể nổi lên gần đây, thông qua công trình của Angiosperm Phylogeny Group, là tổ chức đã phát hành sự phân loại lại có sức thuyết phục hơn cho thực vật hạt kín vào năm 1998. Sự cập nhật các nghiên cứu gần đây đã được phát hành như là APG II (2003).'}, {'qas': [{'question': 'Trong hệ thống Cronquist chia thực vật có hoa thành mấy nhóm chính?', 'answers': [{'answer_start': 51, 'text': 'hai'}], 'id': 'uit_000086', 'is_impossible': False}, {'question': 'Trong hệ thống Cronquist chia thực vật có hoa thành những nhóm nào?', 'answers': [{'answer_start': 104, 'text': 'Magnoliopsida (ở cấp độ lớp, dựa trên tên gọi Magnolia) và Liliopsida (ở cấp độ lớp, dựa trên tên gọi Lilium'}], 'id': 'uit_000087', 'is_impossible': False}, {'question': 'Người ta chia thực vật có hoa thành thực vật một lá mầm và thực vật hai lá mầm dựa trên cơ sở nào?', 'answers': [{'answer_start': 574, 'text': 'số lượng lá mầm'}], 'id': 'uit_000088', 'is_impossible': False}, {'question': 'Trong hội nghị Cronquist chia thực vật có hoa thành mấy nhóm chính?', 'answers': [], 'plausible_answers': [{'answer_start': 51, 'text': 'hai'}], 'id': 'uit_000089', 'is_impossible': True}, {'question': 'Trong hệ thống Cronquist chia thực vật thành những nhóm nào?', 'answers': [], 'plausible_answers': [{'answer_start': 104, 'text': 'Magnoliopsida (ở cấp độ lớp, dựa trên tên gọi Magnolia) và Liliopsida (ở cấp độ lớp, dựa trên tên gọi Lilium'}], 'id': 'uit_000090', 'is_impossible': True}], 'context': 'Theo truyền thống, thực vật có hoa được chia thành hai nhóm chính, trong hệ thống Cronquist được gọi là Magnoliopsida (ở cấp độ lớp, dựa trên tên gọi Magnolia) và Liliopsida (ở cấp độ lớp, dựa trên tên gọi Lilium). Phổ biến hơn là các tên gọi miêu tả (theo điều 16 của ICBN): Dicotyledones (một số người ưa dùng Dicotyledoneae) và Monocotyledones (một số người ưa dùng Monocotyledoneae), là các tên gọi đã được sử dụng từ rất lâu. Trong tiếng Việt, thành viên nào đó của nhóm bất kỳ nào đều có thể được gọi chung là \"thực vật một lá mầm\" hay \"thực vật hai lá mầm\", tùy theo số lượng lá mầm của nó. Các tên gọi này xuất phát từ một thực tế là thực vật hai lá mầm thường (không phải luôn luôn) có hai lá mầm trong mỗi hạt, trong khi thực vật một lá mầm thông thường chỉ có một. Quan điểm về số lượng lá mầm không phải là thuận tiện mà cũng không phải là đặc điểm có độ tin cậy cao.'}, {'qas': [{'question': 'Thực vật một lá mầm được xếp vào nhóm đơn ngành hay đa ngành?', 'answers': [{'answer_start': 79, 'text': 'đơn ngành'}], 'id': 'uit_000091', 'is_impossible': False}, {'question': 'Thực vật hai lá mầm được xếp vào nhóm đơn ngành hay đa ngành?', 'answers': [{'answer_start': 164, 'text': 'đa ngành'}], 'id': 'uit_000092', 'is_impossible': False}, {'question': 'Nhóm \"thực vật hai lá mầm thật sự\" còn có tên gọi khác là gì?', 'answers': [{'answer_start': 381, 'text': '\"ba lỗ chân lông\"'}], 'id': 'uit_000093', 'is_impossible': False}, {'question': 'Thực vật hạt trần được xếp vào nhóm đơn ngành hay đa ngành?', 'answers': [], 'plausible_answers': [{'answer_start': 79, 'text': 'đơn ngành'}], 'id': 'uit_000094', 'is_impossible': True}, {'question': 'Thực vật có hoa được xếp vào nhóm đơn ngành hay đa ngành?', 'answers': [], 'plausible_answers': [{'answer_start': 164, 'text': 'đa ngành'}], 'id': 'uit_000095', 'is_impossible': True}, {'question': 'Nhóm \"thực vật một lá mầm\" còn có tên gọi khác là gì?', 'answers': [], 'plausible_answers': [{'answer_start': 381, 'text': '\"ba lỗ chân lông\"'}], 'id': 'uit_000096', 'is_impossible': True}], 'context': 'Các nghiên cứu gần đây chỉ ra rằng thực vật một lá mầm là một nhóm \"tốt\" (nhóm đơn ngành hay toàn phần), trong khi thực vật hai lá mầm lại không phải như vậy (nhóm đa ngành). Tuy nhiên, trong phạm vi của thực vật hai lá mầm vẫn tồn tại nhóm \"tốt\", nó bao gồm phần lớn thực vật hai lá mầm. Nhóm mới này về mặt bán chính thức được gọi là \"thực vật hai lá mầm thật sự\" (eudicots) hay \"ba lỗ chân lông\" (tricolpate). Tên gọi \"tricolpate\" có nguồn gốc từ loại hình phấn hoa tìm thấy trong cả nhóm. Tên gọi eudicots được tạo ra bằng cách gắn \"dicots\" với tiền tố \"eu-\" (tiếng Hy Lạp \\'eu\\'= \"thật sự\"), do mọi thực vật hai lá mầm thật sự đều chia sẻ các đặc trưng thông thường được gán cho thực vật hai lá mầm. Tên gọi hình thức cho nhóm này đôi khi được dùng là Rosopsida (ở cấp độ lớp, dựa trên chi Rosa). Tách nhóm này ra khỏi thực vật hai lá mầm (cũ) người ta thu được phần còn lại, nó đôi khi được gọi là \"thực vật hai lá mầm cổ\" (palaeodicot với tiền tố \"palaeo-\" trong tiếng Hy Lạp cổ điển có nghĩa là cổ). Do nhóm còn lại này không phải là một nhóm \"tốt\" nên thuật ngữ này chỉ có mục đích làm thuận lợi trong phân loại mà thôi.'}, {'qas': [{'question': 'Các bó mạch của trong các thân cây non hai lá mầm chia tách hai thành phần nào?', 'answers': [{'answer_start': 131, 'text': 'phần lõi xốp trung tâm với phần vỏ ngoài'}], 'id': 'uit_000097', 'is_impossible': False}, {'question': 'Tầng phát sinh gỗ là gì?', 'answers': [{'answer_start': 173, 'text': 'Trong mỗi bó, chia tách bởi phần chất gỗ và phần li be, là một lớp mô phân sinh hay mô hình thành đang hoạt động'}], 'id': 'uit_000098', 'is_impossible': False}, {'question': 'Nhận biết tuổi của cây dựa vào cơ sở nào?', 'answers': [{'answer_start': 893, 'text': 'vòng gỗ hàng năm'}], 'id': 'uit_000099', 'is_impossible': False}, {'question': 'Các vòng gỗ của trong các thân cây non hai lá mầm chia tách hai thành phần nào?', 'answers': [], 'plausible_answers': [{'answer_start': 131, 'text': 'phần lõi xốp trung tâm với phần vỏ ngoài'}], 'id': 'uit_000100', 'is_impossible': True}, {'question': 'Tầng phát sinh bó mạch là gì?', 'answers': [], 'plausible_answers': [{'answer_start': 173, 'text': 'Trong mỗi bó, chia tách bởi phần chất gỗ và phần li be, là một lớp mô phân sinh hay mô hình thành đang hoạt động'}], 'id': 'uit_000101', 'is_impossible': True}], 'context': 'Trong nhóm lớn hơn là thực vật hai lá mầm thì chúng có các bó mạch trong các thân cây non được sắp xếp trong vòng gỗ mở, chia tách phần lõi xốp trung tâm với phần vỏ ngoài. Trong mỗi bó, chia tách bởi phần chất gỗ và phần li be, là một lớp mô phân sinh hay mô hình thành đang hoạt động, được biết dưới tên gọi tầng phát sinh gỗ; bằng sự hình thành của lớp phát sinh gỗ giữa các bó (tầng phát sinh gỗ trong bó) thì vòng gỗ hoàn hảo được tạo ra, và đều đặn tăng độ dày hàng năm do sự phát triển của chất gỗ ở bên trong và lớp li be ở bên ngoài. Li be mềm nhanh chóng bị tiêu tan, nhưng chất gỗ cứng thì vẫn còn và tạo thành kích thước lớn của thân cây và các cành đối với các cây thân gỗ lâu năm. Do các khác biệt trong đặc trưng của các thành phần được tạo ra vào đầu và cuối mùa nên nó được giới hạn theo mặt cắt ngang thành các vòng gỗ đồng tâm, mỗi vòng cho một mùa tăng trưởng - còn gọi là vòng gỗ hàng năm.'}, {'qas': [{'question': 'Cây hoa nào có thân chính không sinh cành và kết thúc của nó là hoa?', 'answers': [{'answer_start': 122, 'text': 'tulip'}], 'id': 'uit_000102', 'is_impossible': False}, {'question': 'Hoa thường được tạo ra trên cành nào của cây?', 'answers': [{'answer_start': 369, 'text': 'các cành cao nhất trong hệ thống nhánh cây'}], 'id': 'uit_000103', 'is_impossible': False}, {'question': 'Chồi mọc ở bộ phận nào trên cây?', 'answers': [{'answer_start': 489, 'text': 'nách lá'}], 'id': 'uit_000104', 'is_impossible': False}, {'question': 'Cách nào có thể kích thích sự phát triển của chồi ngủ trong nhiều năm?', 'answers': [{'answer_start': 758, 'text': 'việc chặt hay xén tỉa cành'}], 'id': 'uit_000105', 'is_impossible': False}, {'question': 'Loại rễ nào sẽ được thay thế khi rễ nguyên thuỷ tàn lụi ở thực vật một lá mầm?', 'answers': [{'answer_start': 1459, 'text': 'các rễ ngẫu nhiên mọc từ thân cây'}], 'id': 'uit_000106', 'is_impossible': False}, {'question': 'Cây hoa nào có thân chính ít lá và kết thúc của nó là hoa?', 'answers': [], 'plausible_answers': [{'answer_start': 122, 'text': 'tulip'}], 'id': 'uit_000107', 'is_impossible': True}, {'question': 'Lá thường được tạo ra trên cành nào của cây?', 'answers': [], 'plausible_answers': [{'answer_start': 369, 'text': 'các cành cao nhất trong hệ thống nhánh cây'}], 'id': 'uit_000108', 'is_impossible': True}, {'question': 'Loại rễ nào sẽ được thay thế khi rễ nguyên thuỷ phát triển ở thực vật một lá mầm?', 'answers': [], 'plausible_answers': [{'answer_start': 1459, 'text': 'các rễ ngẫu nhiên mọc từ thân cây'}], 'id': 'uit_000109', 'is_impossible': True}], 'context': 'Trong một số rất hạn chế các trường hợp thì thân cây chính không tạo cành và kết thúc của nó là hoa, giống như ở loài hoa tulip (uất kim hương), trong đó các lá bắc hình thành lên thân hành dưới đất, các lá xanh lục và các lá dạng hoa màu mè được sinh ra trên cùng một trục. Nói chung, các hoa chỉ được tạo thành trên các cành, nhánh có cấp cao hơn, thông thường chỉ ở các cành cao nhất trong hệ thống nhánh cây. Nhánh tiềm năng (chồi), hoặc là chồi lá hoặc là chồi hoa, được hình thành ở nách lá; đôi khi nhiều hơn một chồi mọc ra, giống như ở cây óc chó, trong đó 2-3 chồi mọc thành chuỗi theo chiều dọc phía trên mỗi lá. Nhiều chồi chỉ ở dạng ngủ hay chỉ được đánh thức trong những hoàn cảnh khác thường, chẳng hạn sau khi cành hiện tại bị phá hủy. Ví dụ việc chặt hay xén tỉa cành sẽ giúp cho các chồi ngủ nhiều năm có thể thức dậy. Các chồi lá đôi khi có thể mọc ra từ rễ, khi chúng bị đánh thức ngẫu nhiên; điều này xảy ra ở nhiều loại cây ăn quả, như cây dương, đu và nhiều loài khác. Ví dụ, các chồi non trổ ra từ lòng đất xung quanh cây đu không phải là cây non mà là các chồi rễ. Ở nhiều loài thực vật hai lá mầm thì rễ nguyên thủy của cây non tồn tại suốt cuộc đời của cây, tạo thành (thường thấy ở các cây hai năm) một rễ cái to, giống như ở cà rốt, hay ở cây lâu năm là một hệ thống rễ nhiều nhánh.Tuy nhiên, ở nhiều loài thực vật hai lá mầm và phần lớn thực vật một lá mầm khác thì rễ nguyên thủy sẽ tàn lụi đi nhanh chóng và thay thế vào đó là các rễ ngẫu nhiên mọc từ thân cây.'}, {'qas': [{'question': 'Đặc trưng của thực vật hạt kín là gì?', 'answers': [{'answer_start': 44, 'text': 'hoa'}], 'id': 'uit_000110', 'is_impossible': False}, {'question': 'Chức năng của hoa là gì?', 'answers': [{'answer_start': 228, 'text': 'đảm bảo cho sự thụ phấn của noãn và phát triển của quả chứa các hạt'}], 'id': 'uit_000111', 'is_impossible': False}, {'question': 'Chức năng của bộ nào trên cây làm nhiệm vụ đảm bảo sự thụ phấn và phát triển của trái chứa các hạt?', 'answers': [{'answer_start': 221, 'text': 'hoa'}], 'id': 'uit_000112', 'is_impossible': False}, {'question': 'Hoa được tạo ra vị trí nào trên cây?', 'answers': [{'answer_start': 316, 'text': 'ở đầu ngọn hay ở nách lá'}], 'id': 'uit_000113', 'is_impossible': False}, {'question': 'Bộ phận nào là đặc trưng đáng tin cậy nhất để thiết lập quan hệ giữa các loài thực vật hạt kín?', 'answers': [{'answer_start': 44, 'text': 'hoa'}], 'id': 'uit_000114', 'is_impossible': False}, {'question': 'Đặc trưng của thực vật có hoa là gì?', 'answers': [], 'plausible_answers': [{'answer_start': 44, 'text': 'hoa'}], 'id': 'uit_000115', 'is_impossible': True}, {'question': 'Chức năng của hạt là gì?', 'answers': [], 'plausible_answers': [{'answer_start': 228, 'text': 'đảm bảo cho sự thụ phấn của noãn và phát triển của quả chứa các hạt'}], 'id': 'uit_000116', 'is_impossible': True}, {'question': 'Chức năng của bộ phận nào trên cây làm nhiệm vụ đảm bảo sự vận chuyển và cung cấp dinh dưỡng cho trái chứa hạt?', 'answers': [], 'plausible_answers': [{'answer_start': 221, 'text': 'hoa'}], 'id': 'uit_000117', 'is_impossible': True}], 'context': 'Tính chất đặc trưng của thực vật hạt kín là hoa, trong đó có sự dao động đáng kể về hình dáng và sự hình thành. Nó đưa ra các đặc trưng đáng tin cậy nhất để thiết lập quan hệ giữa các loài thực vật hạt kín. Chức năng của hoa là đảm bảo cho sự thụ phấn của noãn và phát triển của quả chứa các hạt. Hoa có thể sinh ra ở đầu ngọn hay ở nách lá. Thỉnh thoảng, chẳng hạn như ở hoa vi ô let, hoa mọc ra ở nách của lá. Tuy nhiên, thông dụng hơn thì các phần mang hoa của thực vật về hình dạng là phân biệt rõ nét với các phần sinh dưỡng hay phần mang lá, cũng như tạo ra hệ thống nhánh phức tạp nhiều hay ít, được gọi là cụm hoa.'}, {'qas': [{'question': 'Tên gọi khác của tiểu bào tử trong hai loại bào tử được hoa tạo ra?', 'answers': [{'answer_start': 87, 'text': 'phấn hoa'}], 'id': 'uit_000118', 'is_impossible': False}, {'question': 'Cây nào có hoa với một vài nhị hoa hay hai lá noãn?', 'answers': [{'answer_start': 303, 'text': 'liễu'}], 'id': 'uit_000119', 'is_impossible': False}, {'question': 'Hoa có thể quyết rũ được côn trùng và chim nhờ vào gì?', 'answers': [{'answer_start': 1041, 'text': 'màu sắc và mùi, cũng như rất phổ biến là mật hoa được tiết ra từ một số bộ phận của hoa'}], 'id': 'uit_000120', 'is_impossible': False}, {'question': 'Những loài động vật nào giúp quá trình thụ phấn diễn ra hiệu quả hơn?', 'answers': [{'answer_start': 906, 'text': 'một số loài côn trùng hoặc chim chóc'}], 'id': 'uit_000121', 'is_impossible': False}, {'question': 'Chức năng của côn trùng trong quá trình thụ phấn của cây?', 'answers': [{'answer_start': 980, 'text': 'giúp cho sự thụ phấn đạt hiệu quả hơn'}], 'id': 'uit_000122', 'is_impossible': False}, {'question': 'Tên gọi khác của đại bào tử trong hai loại bào tử được hoa tạo ra?', 'answers': [], 'plausible_answers': [{'answer_start': 87, 'text': 'phấn hoa'}], 'id': 'uit_000123', 'is_impossible': True}, {'question': 'Cây nào có hoa với một nhị hoa hay hai đại bào tử?', 'answers': [], 'plausible_answers': [{'answer_start': 303, 'text': 'liễu'}], 'id': 'uit_000124', 'is_impossible': True}, {'question': 'Lá có thể quyết rũ được côn trùng và chim nhờ vào gì?', 'answers': [], 'plausible_answers': [{'answer_start': 1041, 'text': 'màu sắc và mùi, cũng như rất phổ biến là mật hoa được tiết ra từ một số bộ phận của hoa'}], 'id': 'uit_000125', 'is_impossible': True}, {'question': 'Chức năng của côn trùng trong quá trình đâm chồi non của cây là gì?', 'answers': [], 'plausible_answers': [{'answer_start': 980, 'text': 'giúp cho sự thụ phấn đạt hiệu quả hơn'}], 'id': 'uit_000126', 'is_impossible': True}], 'context': 'Giống như ở thực vật hạt trần, các bào tử được hoa tạo ra có hai loại: tiểu bào tử hay phấn hoa, sinh sản trong các nhị hoa và đại bào tử, trong đó các tế bào trứng phát triển, chứa trong noãn và được bao phủ trong lá noãn. Hoa có thể chỉ bao gồm một trong các phần mang bào tử như thế, chẳng hạn ở cây liễu, trong đó mỗi hoa chỉ có một vài nhị hoa hay hai lá noãn. Tuy nhiên, thông thường thì các cấu trúc khác cũng có nhằm hai mục đích là bảo vệ các bào tử và hình thành một vỏ bao hấp dẫn. Các thành phần cụ thể của các cấu trúc xung quanh này được gọi là đài hoa và cánh hoa (hay bao hoa trong hoa của một vài chi như Michelia). Phần bên ngoài (đài của các đài hoa) thông thường có màu xanh lục giống như lá, có chức năng bảo vệ phần còn lại của hoa, đặc biệt là trong nụ. Phần bên trong (tràng của các cánh hoa) nói chung có màu trắng hay các màu sáng và tinh tế hơn về cấu trúc, có chức năng hấp dẫn một số loài côn trùng hoặc chim chóc cụ thể nào đó mà sự có mặt của chúng giúp cho sự thụ phấn đạt hiệu quả hơn. Sự hấp dẫn bao gồm cả màu sắc và mùi, cũng như rất phổ biến là mật hoa được tiết ra từ một số bộ phận của hoa. Các đặc trưng lôi cuốn những kẻ thụ phấn này giải thích cho sự phổ biến của hoa và thực vật có hoa đối với con người.'}, {'qas': [{'question': 'Cơ quan sinh sản của thực vật có hoa là gì?', 'answers': [{'answer_start': 0, 'text': 'Hoa'}], 'id': 'uit_000127', 'is_impossible': False}, {'question': 'Nếu như nhị hoa được xem là bộ phận \"đực\" của thực vật có hoa thì bộ phận \"cái\" là bộ phận nào?', 'answers': [{'answer_start': 162, 'text': 'noãn hay bộ nhụy'}], 'id': 'uit_000128', 'is_impossible': False}, {'question': 'Nơi diễn ra sự thụ phấn của thực vật có hoa là chỗ nào?', 'answers': [{'answer_start': 159, 'text': 'lá noãn hay bộ nhụy'}], 'id': 'uit_000129', 'is_impossible': False}, {'question': 'Cơ quan dinh dưỡng của thực vật có hoa là gì?', 'answers': [], 'plausible_answers': [{'answer_start': 0, 'text': 'Hoa'}], 'id': 'uit_000130', 'is_impossible': True}, {'question': 'Nếu như noãn hoa được xem là bộ phận \"đực\" của thực vật có hoa thì bộ phận \"cái\" là bộ phận nào?', 'answers': [], 'plausible_answers': [{'answer_start': 162, 'text': 'noãn hay bộ nhụy'}], 'id': 'uit_000131', 'is_impossible': True}], 'context': 'Hoa là cơ quan sinh sản của thực vật có hoa. Bộ phận \"đực\" là các nhị hoa hay bộ nhị, nó tạo ra phấn hoa (các bào tử đực) trong các bao phấn. Bộ phận \"cái\" là lá noãn hay bộ nhụy, nó chứa các giao tử cái và là nơi để sự thụ phấn diễn ra. Trong khi phần lớn các hoa là hoàn hảo hay lưỡng tính (có cả phần đực và cái trong cùng một hoa) thì thực vật có hoa đã phát triển nhiều cơ chế hình thái và sinh lý để ngăn chặn hay làm giảm sự tự thụ phấn. Các hoa khác hình có các lá noãn ngắn và các nhị dài, hoặc ngược lại, vì thế các động vật thụ phấn không thể dễ dàng chuyển phấn hoa tới nhụy hoa (phần tiếp nhận của lá noãn). Các hoa đồng hình có thể có các cơ chế hóa sinh (sinh lý) gọi là tự không tương thích để phân biệt các hạt phấn hoa của nó hay không phải của nó. Ở các loài khác, các bộ phận đực và cái là tách biệt về hình thái, phát triển trên các hoa khác nhau.'}, {'qas': [{'question': 'Trong thời gian thụ phấn, vị trí túi phôi như thế nào?', 'answers': [{'answer_start': 34, 'text': 'nằm gần với lớp màng bao phủ noãn, sao cho ống phấn hoa có thể thâm nhập vào, lớp tế bào thành ngăn trở thành có thể hấp thụ và các tế bào đực (phấn hoa) được bơm vào trong túi phôi'}], 'id': 'uit_000132', 'is_impossible': False}, {'question': 'Hiện tượng tăng gấp đôi khả năng thụ phấn là gì?', 'answers': [{'answer_start': 433, 'text': 'nhân nội nhũ'}], 'id': 'uit_000133', 'is_impossible': False}, {'question': 'Có mấy hoạt động được thực hiện trong quá trình thụ phấn của túi phôi?', 'answers': [{'answer_start': 830, 'text': 'hai'}], 'id': 'uit_000134', 'is_impossible': False}, {'question': 'Hiện tượng tăng gấp đôi khả năng hấp thụ là gì?', 'answers': [], 'plausible_answers': [{'answer_start': 433, 'text': 'nhân nội nhũ'}], 'id': 'uit_000135', 'is_impossible': True}], 'context': 'Vào thời kỳ thụ phấn thì túi phôi nằm gần với lớp màng bao phủ noãn, sao cho ống phấn hoa có thể thâm nhập vào, lớp tế bào thành ngăn trở thành có thể hấp thụ và các tế bào đực (phấn hoa) được bơm vào trong túi phôi. Được dẫn dắt bởi tế bào trứng không phát triển đầy đủ, một tế bào đực sẽ chui được vào noãn cầu và hợp nhất với nó, hai nhân kết hợp lại, trong khi một tế bào khác sẽ hợp nhất với nhân cuối cùng, hay còn được gọi là nhân nội nhũ. Điều đáng chú ý thú vị này sẽ tăng gấp đôi khả năng thụ phấn, mặc dù chỉ được phát hiện ra gần đây, đã được chứng minh là xảy ra ở nhiều họ có sự phân tách rộng, và nó xảy ra trong cả thực vật một lá mầm cũng như nguyên tản sau khoảng lặng tiếp theo sau quá trình tái tiếp sinh lực hợp nhất của các nhân có cực. Quan điểm này vẫn được duy trì bởi những người giữ quan điểm phân biệt hai hành vi của sự thụ phấn trong túi phôi, và gọi hành vi tác động của tế bào đực thứ nhất đối với tế bào trứng là thụ phấn sinh sản hay thụ phấn thực thụ, và hành vi của giao tử đực thứ hai đối với các nhân có cực là thụ phấn thực vật, nó tạo ra sự kích thích đối với sự phát triển trong tương quan với hành vi kia. Mặt khác, nếu nội nhũ là sản phẩm của hành vi thụ phấn giống như hành vi đã tạo ra phôi thì người ta phải thừa nhận rằng các thực vật sinh đôi được tạo ra trong túi phôi - một là phôi, nó sẽ trở thành thực vật hạt kín và hai là nội nhũ, có chu kỳ sống ngắn ngủi, nơi nuôi dưỡng không được phân hóa để hỗ trợ cho quá trình dinh dưỡng của phôi, thậm chí giống như là các phôi phụ trợ trong thực vật hạt trần nhiều phôi để có thể làm thuận lợi cho sự dinh dưỡng của phôi trội. Nếu đúng như vậy và nội nhũ cũng giống như phôi, là sản phẩm thông thường của hành vi sinh sản, thì sự lai giống sẽ tạo ra nội nhũ lai giống như nó tạo ra phôi lai, và ở đây (được giả thiết) chúng ta có thể có được sự giải thích cho hiện tượng giao phấn quan sát thấy ở các nội nhũ hỗn hợp của các giống ngô lai và các thực vật khác và nó là khả năng duy nhất có thể cho đến hiện nay để xác nhận rằng chúng là biểu hiện của sự mở rộng ảnh hưởng của phấn hoa đối với noãn và các sản phẩm của nó. Tuy nhiên, điều này không giải thích được sự hình thành của các quả có kích cỡ và màu sắc trung gian giữa các cây cha mẹ lai ghép chéo. Ý nghĩa của sự hợp nhất của các nhân có cực không giải thích được bởi các sự kiện mới này, nhưng nó là đáng chú ý khi cho rằng tế bào đực thứ hai đôi khi hợp nhất với nhân có cực ở đỉnh, chị em của tế bào trứng, trước khi có sự hợp nhất của nó với nhân có cực ở gốc.'}, {'qas': [{'question': 'Sự thụ phấn là một quá trình như thế nào?', 'answers': [{'answer_start': 327, 'text': 'sự hợp nhất của nhân đực thứ hai với nhân cuối cùng'}], 'id': 'uit_000136', 'is_impossible': False}, {'question': 'Số lượng nhiễm sắc thể của hạt phấn và túi phôi như thế nào so với với số lượng nhiễm sắc thể của nhân thực vật thông thường?', 'answers': [{'answer_start': 849, 'text': 'một nửa'}], 'id': 'uit_000137', 'is_impossible': False}, {'question': 'Số lượng nhiễm sắc thể hình thành đầy đủ trong quá trình nào của thụ phấn?', 'answers': [{'answer_start': 1033, 'text': 'sự hợp nhất của các nhân đực và cái trong quá trình thụ phấn'}], 'id': 'uit_000138', 'is_impossible': False}, {'question': 'Sự hợp nhất là một quá trình như thế nào?', 'answers': [], 'plausible_answers': [{'answer_start': 327, 'text': 'sự hợp nhất của nhân đực thứ hai với nhân cuối cùng'}], 'id': 'uit_000139', 'is_impossible': True}, {'question': 'Số lượng tế bào của hạt phấn và túi phôi như thế nào so với với số lượng tế bào của nhân thực vật thông thường?', 'answers': [], 'plausible_answers': [{'answer_start': 849, 'text': 'một nửa'}], 'id': 'uit_000140', 'is_impossible': True}, {'question': 'Số lượng nhiễm sắc thể bắt đầu hình thành trong quá trình nào của thụ phấn?', 'answers': [], 'plausible_answers': [{'answer_start': 1033, 'text': 'sự hợp nhất của các nhân đực và cái trong quá trình thụ phấn'}], 'id': 'uit_000141', 'is_impossible': True}], 'context': 'Ý tưởng về nội nhũ như là thực vật phụ trợ thứ cấp không phải là điều mới mẻ; nó đã được đưa ra từ rất sớm để giải thích sự hợp nhất của các nhân có cực, nhưng khi đó nó đã dựa trên giả thiết rằng chúng là các tế bào đực và cái, một giả thiết mà không có chứng cứ xác nhận và nó vốn đã không chắc chắn là có thực. Nền tảng của sự hợp nhất của nhân đực thứ hai với nhân cuối cùng tạo ra cho sự thụ phấn một cơ sở ổn định hơn. Các tế bào đối cực hỗ trợ nhiều hay ít trong quá trình nuôi dưỡng phôi đang phát triển, và có thể trải qua quá trình nhân bản, mặc dù cuối cùng chúng bị phân hủy, cũng giống như tế bào trứng không phát triển đầy đủ. Giống như ở thực vật hạt trần và các nhóm khác, sự thay đổi định tính gắn liền với quá trình thụ phấn. Số lượng nhiễm sắc thể (xem Tế bào học thực vật) trong nhân của hai bào tử, hạt phấn và túi phôi, chỉ là một nửa số lượng nhiễm sắc thể tìm thấy trong nhân thực vật thông thường; và điều này đã giảm số lượng tồn tại trong các tế bào xuất phát từ chúng. Số lượng đầy đủ được phục hồi trong sự hợp nhất của các nhân đực và cái trong quá trình thụ phấn và nó duy trì cho đến khi hình thành các tế bào mà từ đó các bào tử lại được sinh ra trong các thế hệ mới.'}, {'qas': [{'question': 'Trong bộ Corylaceae, ống phấn không thâm nhập theo màng bao noãn mà vượt qua thành bầu nhuỵ và thông qua thực giá noãn để thâm nhập vào phần cuối điểm hợp của noãn, đây là phương pháp thâm nhập gì?', 'answers': [{'answer_start': 592, 'text': 'điểm hợp'}], 'id': 'uit_000142', 'is_impossible': False}, {'question': 'Những chi và bộ nào của thực vật có hoa có phương pháp thâm nhập điểm hợp?', 'answers': [{'answer_start': 342, 'text': 'các chi Casuarina, Juglans và bộ Corylaceae'}], 'id': 'uit_000143', 'is_impossible': False}, {'question': 'Phương pháp thâm nhập gồm thâm nhập điểm hợp và phương pháp nào?', 'answers': [{'answer_start': 616, 'text': 'thâm nhập màng bao'}], 'id': 'uit_000144', 'is_impossible': False}, {'question': 'Những chi và bộ nào của thực vật có hoa có phương pháp thâm nhập màng bao?', 'answers': [], 'plausible_answers': [{'answer_start': 342, 'text': 'các chi Casuarina, Juglans và bộ Corylaceae'}], 'id': 'uit_000145', 'is_impossible': True}, {'question': 'Phương pháp thụ phấn gồm thâm nhập điểm hợp và phương pháp nào?', 'answers': [], 'plausible_answers': [{'answer_start': 616, 'text': 'thâm nhập màng bao'}], 'id': 'uit_000146', 'is_impossible': True}], 'context': 'Ở một vài bộ và chi thực vật, sự trệch hướng ra khỏi tiến trình thụ phấn thông thường cũng đã được miêu tả gần đây. Trong bộ Rosaceae, loạt Querciflorae, chi Casuarina rất bất thường và những chi khác, thay vì một đại bào tử thì một số mô dạng bào tử được tạo ra, nhưng chỉ có một tế bào tiến đến sự hình thành của tế bào cái sinh sản. Trong các chi Casuarina, Juglans và bộ Corylaceae, ống phấn hoa không thâm nhập theo màng bao noãn, mà vượt qua thành bao bầu nhụy và thông qua thực giá noãn để thâm nhập vào phần cuối điểm hợp của noãn. Phương pháp thâm nhập như thế được gọi là thâm nhập điểm hợp, ngược lại với thâm nhập màng bao hay phương pháp tiếp cận thông thường theo đường màng bao noãn.'}, {'qas': [{'question': 'Kết quả cuối cùng của sự thụ phấn là gì?', 'answers': [{'answer_start': 56, 'text': 'hạt'}], 'id': 'uit_000147', 'is_impossible': False}, {'question': 'Sss?', 'answers': [{'answer_start': 702, 'text': 'ạo ra một phần lá mầm đơn độc của thân phôi, phần trục và rễ của'}], 'id': 'uit_000148', 'is_impossible': False}, {'question': 'Dd?', 'answers': [{'answer_start': 944, 'text': 'ố thự'}], 'id': 'uit_000149', 'is_impossible': False}, {'question': 'Kết quả cuối cùng của sự nảy mầm là gì?', 'answers': [], 'plausible_answers': [{'answer_start': 56, 'text': 'hạt'}], 'id': 'uit_000150', 'is_impossible': True}], 'context': 'Kết quả của sự thụ phấn là sự phát triển của noãn thành hạt. Bằng cách phân chia tế bào trứng đã thụ phấn, hiện được bao phủ trong màng tế bào, thì thực vật-phôi được sinh ra. Một lượng thay đổi của các \"bức thành\" phân chia theo chiều ngang biến đổi chúng thành mầm phôi - một dãy tế bào trong đó tế bào gần nhất với màng bao noãn sẽ gắn liền với đỉnh của túi phôi, và như thế nó cố định vị trí của phôi đang phát triển, trong khi tế bào cuối cùng được chứa trong khoang của nó. Ở thực vật hai lá mầm, toàn bộ thân của phôi phát sinh từ tế bào cuối cùng của mầm phôi, từ tế bào tiếp theo sẽ sinh ra rễ, và tất cả các tế bào còn lại tạo ra cuống noãn. Ở nhiều thực vật một lá mầm thì tế bào cuối cùng tạo ra một phần lá mầm đơn độc của thân phôi, phần trục và rễ của nó xuất phát từ tế bào cận kề; như vậy lá mầm là cấu trúc cuối cùng và là đỉnh của thân nguyên thủy - một điều đánh dấu sự tương phản với thực vật hai lá mầm. Tuy nhiên, ở một số thực vật một lá mầm thì lá mầm không thực sự là cuối cùng. Rễ nguyên thủy của phôi trong tất cả thực vật hạt kín đều hướng về phía màng bao noãn. Phôi đang phát triển ở cuối của cuống noãn phát triển theo các mức độ khác nhau vào trong nội nhũ đang hình thành, từ trong đó nhờ hấp thụ bề mặt nó thu được các chất dinh dưỡng tốt cho sự tăng trưởng. Cùng thời gian đó, cuống noãn đóng vai trò của người vận chuyển chất dinh dưỡng và thậm chí có thể phát triển, khi mà không có phôi nhũ được tạo ra, các \"rễ cuống noãn\" hấp thụ đặc biệt bao lấy phôi đang phát triển hay chui vào trong thân và vỏ bao noãn, hoặc thậm chí vào trong thực giá noãn. Trong một số trường hợp phôi hay túi phôi gửi các vòi hút vào trong phôi tâm và vỏ bọc noãn. Khi phôi phát triển nó có thể hấp thụ mọi chất nuôi dưỡng có sẵn để lưu trữ hoặc là trong các lá mầm hay trong trụ dưới lá mầm của nó, là nơi không cần dùng ngay để tăng trưởng, như là nguồn thức ăn dự trữ để sử dụng khi nảy mầm và nhờ vậy nó tăng trưởng về kích thước cho đến khi nó chiếm toàn bộ túi phôi; hoặc sức hấp thụ của nó ở giai đoạn này có thể bị giới hạn chỉ ở mức cần thiết cho sự phát triển và nó duy trì ở kích thước tương đối nhỏ, chiếm một thể tích nhỏ của túi phôi, mà nếu khác đi thì được điền đầy bởi nội nhũ trong đó các thực phẩm dự trữ được lưu giữ. Ở đây còn có các trạng thái trung gian. Vị trí của phôi so với nội nhũ là không cố định, đôi khi nó ở bên trong nhưng đôi khi lại ở bên ngoài và ý nghĩa của điều này vẫn chưa được làm rõ.'}, {'qas': [{'question': 'Sự phân chia của bộ phận nào trên hoa được diễn ra trước phân chia tế nào trứng?', 'answers': [{'answer_start': 18, 'text': 'nội nhũ'}], 'id': 'uit_000151', 'is_impossible': False}, {'question': 'Tác dụng chính của nội nhũ là gì?', 'answers': [{'answer_start': 531, 'text': 'nuôi dưỡng phôi'}], 'id': 'uit_000152', 'is_impossible': False}, {'question': 'Để thực hiện chức năng cung cấp chất dinh dưỡng, nội nhũ tích luỹ trong các tế bào của nó những chất dinh dưỡng nào?', 'answers': [{'answer_start': 1099, 'text': 'tinh bột, dầu hay xenluloza, chất nhầy và protein'}], 'id': 'uit_000153', 'is_impossible': False}, {'question': 'Sự phân chia của bộ phận nào trên phôi non được diễn ra trước phân chia tế nào trứng?', 'answers': [], 'plausible_answers': [{'answer_start': 18, 'text': 'nội nhũ'}], 'id': 'uit_000154', 'is_impossible': True}, {'question': 'Tác dụng chính của tế bào trứng là gì?', 'answers': [], 'plausible_answers': [{'answer_start': 531, 'text': 'nuôi dưỡng phôi'}], 'id': 'uit_000155', 'is_impossible': True}], 'context': 'Sự hình thành của nội nhũ bắt đầu từ nhân nội nhũ. Sự phân chia của nó luôn luôn bắt đầu trước sự phân chia của tế bào trứng, và vì thế có sự chuẩn bị đúng lúc cho sự nuôi dưỡng phôi non. Nếu túi phôi hẹp thì sự hình thành của nội nhũ tiến hành trong khoảng các đường phân chia tế bào, nhưng trong các túi phôi rộng thì nội nhũ được hình thành trước mọi thứ như là một lớp tế bào trần trụi xung quanh tường bao của túi, và chỉ dần dần thu được đặc trưng của đa tế bào, tạo ra mô điền đầy túi phôi. Chức năng của nội nhũ chủ yếu là nuôi dưỡng phôi, và vị trí gốc của nó trong túi phôi được sắp xếp sao cho nó thích hợp nhất cho sự hấp thụ các chất dinh dưỡng của noãn. Thời gian tồn tại của nó thay đổi theo khả năng sớm phát triển của phôi. Nó có thể bị hấp thụ hoàn toàn bởi sự phát triển nhanh của phôi ngay từ trong túi phôi, hoặc có thể tồn tại như là một thành phần còn lại dễ nhận thấy của hạt. Khi nó tồn tại như là thành phần cơ bản của hạt thì chức năng cung cấp nguồn nuôi dưỡng là rõ ràng, nó tích lũy trong các tế bào của mình các thức ăn dự trữ và theo các chất cơ bản thì nó có thể là tinh bột, dầu hay xenluloza, chất nhầy và protein. Trong trường hợp phôi đã tích trữ nguồn năng lượng dự trữ trong chính nó để tự dưỡng thì nội nhũ như là phần còn lại trong hạt có thể có chức năng khác, ví dụ để hấp thụ nước.'}, {'qas': [{'question': 'Các loài của các chi nào có hình thức sinh sản đơn tính?', 'answers': [{'answer_start': 212, 'text': 'Thalictrum, Antennaria và Alchemilla'}], 'id': 'uit_000156', 'is_impossible': False}, {'question': 'Những chi nào, đa phôi được hình thành từ việc sản xuất ngẫu nhiên các phôi có nguồn gốc từ các tế bào của phôi tâm xung quanh đỉnh của túi phôi?', 'answers': [{'answer_start': 718, 'text': 'chi Coelebogyne (họ Euphorbiaceae) và Funkia (họ Liliaceae)'}], 'id': 'uit_000157', 'is_impossible': False}, {'question': 'Các loài thuộc chi nào mà các phôi phát triển cùng một cá thể tế bào trứng, trong đó tế bào trứng không phát triển đầy đủ?', 'answers': [{'answer_start': 909, 'text': 'chi Allium'}], 'id': 'uit_000158', 'is_impossible': False}, {'question': 'Những chi nào, đa phôi được hình thành từ việc lựa chọn ngẫu nhiên các phôi có nguồn gốc từ các tế bào của phôi tâm xung quanh đỉnh của túi phôi?', 'answers': [], 'plausible_answers': [{'answer_start': 718, 'text': 'chi Coelebogyne (họ Euphorbiaceae) và Funkia (họ Liliaceae)'}], 'id': 'uit_000159', 'is_impossible': True}, {'question': 'Các loài thuộc chi nào mà các phôi phát triển thành cùng nhiều cá thể từ tế bào trứng, trong đó tế bào trứng không phát triển đầy đủ?', 'answers': [], 'plausible_answers': [{'answer_start': 909, 'text': 'chi Allium'}], 'id': 'uit_000160', 'is_impossible': True}], 'context': 'Một số sai biệt khi so sánh với sự phát triển thông thường cũng được ghi nhận. Sinh sản đơn tính, hay sự phát triển của phôi từ tế bào trứng mà không cần sự thụ phấn, đã được miêu tả đối với các loài của các chi Thalictrum, Antennaria và Alchemilla. Đa phôi nói chung gắn liền với sự phát triển của các tế bào hơn là từ tế bào trứng. Vì thế trong các chi Erythronium và Limnocharis thì tế bào trứng có thể tạo ra một lượng mô mà một vài phôi được tạo ra từ đó. Các trường hợp cá biệt chỉ ra rằng bất kỳ tế bào nào trong túi phôi có thể cũng tạo ra phôi, ví dụ tế bào trứng phát triển không đầy đủ trong các loài thuộc chi Mimosa, Iris và Allium, và trong chi cuối cùng đã nêu thì các tế bào đối cực cũng có thể. Trong chi Coelebogyne (họ Euphorbiaceae) và Funkia (họ Liliaceae) đa phôi được tạo ra từ việc sản xuất ngẫu nhiên các phôi từ các tế bào của phôi tâm xung quanh đỉnh của túi phôi. Ở các loài thuộc chi Allium, các phôi cũng đã được phát hiện là phát triển thành cùng một cá thể từ tế bào trứng, tế bào trứng không phát triển đầy đủ, tế bào đối cực và các tế bào của phôi tâm. Ở hai loài thuộc chi Balanophora sinh trưởng ở khu vực Malaya, phôi được phát triển từ tế bào của nội nhũ, nó chỉ được hình thành từ nhân có cực phía trên và bộ phận trứng bị phá hủy. Trường hợp vừa đề cập này có thể coi như là biểu hiện của sự phát triển sinh sản vô giao của thể bào tử từ thể giao tử khi so sánh với trường hợp sinh sản vô giao được miêu tả đối với các loài dương xỉ. Sự đa dạng của các trường hợp dị thường này, như đã chỉ ra trong các ví dụ trên đây, là lý do để người ta cần cân nhắc kỹ hơn trong việc thiết lập các nguyên lý hình thái cụ thể đối với thực vật có hoa.'}, {'qas': [{'question': 'Đặc trưng của vỏ hạt ảnh hưởng đến đặc điểm của bộ phận nào trên cây?', 'answers': [{'answer_start': 1762, 'text': 'đặc trưng của quả'}], 'id': 'uit_000161', 'is_impossible': False}, {'question': 'Nơi nào là nơi mà phôi và nội nhũ hình thành và phát triển?', 'answers': [{'answer_start': 45, 'text': 'trong túi phôi'}], 'id': 'uit_000162', 'is_impossible': False}, {'question': 'Tên gọi nào gắn liền với hạt có phôi nhũ hay ngoại nhũ hoặc cả phôi nhũ và ngoại nhũ cùng tồn tại?', 'answers': [{'answer_start': 805, 'text': 'có phôi nhũ hay có nội nhũ'}], 'id': 'uit_000163', 'is_impossible': False}, {'question': 'Cơ quan nào của hoa có thể được phát triển thành quả hay vỏ quả?', 'answers': [{'answer_start': 1455, 'text': 'thành của bầu nhụy'}], 'id': 'uit_000164', 'is_impossible': False}, {'question': 'Quả được chia thành 2 loại, một là quả nứt và hai là loại quả nào?', 'answers': [{'answer_start': 2075, 'text': 'quả loại không nứt'}], 'id': 'uit_000165', 'is_impossible': False}, {'question': 'Đặc trưng của phôi ảnh hưởng đến đặc điểm của bộ phận nào trên cây?', 'answers': [], 'plausible_answers': [{'answer_start': 1762, 'text': 'đặc trưng của quả'}], 'id': 'uit_000166', 'is_impossible': True}, {'question': 'Nơi nào là nơi mà noãn và nội nhũ hình thành và phát triển?', 'answers': [], 'plausible_answers': [{'answer_start': 45, 'text': 'trong túi phôi'}], 'id': 'uit_000167', 'is_impossible': True}, {'question': 'Tên gọi nào gắn liền với hạt chỉ có nội nhũ hoặc ngoại nhũ hoặc cả nội nhũ và ngoại nhũ không cùng tồn tại?', 'answers': [], 'plausible_answers': [{'answer_start': 805, 'text': 'có phôi nhũ hay có nội nhũ'}], 'id': 'uit_000168', 'is_impossible': True}, {'question': 'Cơ quan nào của hoa có thể được phát triển thành hạt?', 'answers': [], 'plausible_answers': [{'answer_start': 1455, 'text': 'thành của bầu nhụy'}], 'id': 'uit_000169', 'is_impossible': True}, {'question': 'Quả được chia thành 2 loại, một là quả dâu và hai là loại quả nào?', 'answers': [], 'plausible_answers': [{'answer_start': 2075, 'text': 'quả loại không nứt'}], 'id': 'uit_000170', 'is_impossible': True}], 'context': 'Do sự phát triển của phôi và nội nhũ diễn ra trong túi phôi, thành của chúng phình to lên và thông thường chúng hấp thụ các chất của phôi tâm để đạt tới gần như giới hạn ngoài của nó, đồng thời kết hợp với nó và vỏ bọc để tạo ra vỏ hạt; hoặc là toàn bộ phôi tâm và thậm chí cả vỏ bọc cũng có thể bị hấp thụ. Ở một số thực vật thì phôi tâm không bị hấp thụ như vậy, nhưng tự nó trở thành nơi tích lũy thức ăn dự trữ tạo ra ngoại nhũ và nó có thể cùng tồn tại với nội nhũ, chẳng hạn như ở bộ hoa Súng, hoặc có thể một mình tạo ra thức ăn dự trữ cho phôi, như ở chi Canna. Nguồn thức ăn dự trữ nội nhũ có ưu thế hơn so với ngoại nhũ, và cái cuối cùng này là tương đối khó thấy, chỉ ở vài loạt không thực sự tiến hóa mạnh. Các hạt trong đó nội nhũ hay ngoại nhũ hoặc cả hai cùng tồn tại nói chung được gọi là có phôi nhũ hay có nội nhũ, còn các hạt mà không có cả nội nhũ và ngoại nhũ được gọi là không có phôi nhũ hay không có nội nhũ. Tuy nhiên, các thuật ngữ này (được các nhà hệ thống hóa sử dụng rộng rãi) chỉ nói đến các đặc trưng thô thiển của hạt, và chỉ ra chứng cứ về nguồn dự trữ thức ăn; nhiều loại hạt được gọi là không có phôi nhũ nhưng khi quan sát dưới kính hiển vi lại rõ ràng là nội nhũ và có thể có chức năng khác không phải là chức năng cấp nguồn dinh dưỡng. Sự có hay không có mặt của nội nhũ, khối lượng tương đối của nó khi có mặt và vị trí của phôi trong nó là các đặc trưng có giá trị để phân biệt các bộ và các nhóm bộ. Trong khi ấy thành của bầu nhụy đã phát triển để tạo thành quả hay vỏ quả, cấu trúc của nó gắn liền với kiểu phát tán của hạt. Nói chung ảnh hưởng của sự thụ phấn rơi vào bầu nhụy và các phần khác của hoa cũng tham gia vào việc tạo quả, chẳng hạn đế hoa ở táo, dâu tây v.v. Đặc trưng của vỏ hạt có liên quan rõ ràng với đặc trưng của quả. Chức năng của chúng là tăng cường gấp đôi sự bảo vệ phôi và hỗ trợ trong sự phát tán; chúng cũng có thể trực tiếp xúc tiến sự nảy mầm. Nếu quả là loại quả nứt và hạt vì thế nhanh chóng được phô ra thì vỏ hạt cần cung ứng cho sự bảo vệ phôi và cũng có thể để an toàn cho sự phát tán. Ngược lại, quả loại không nứt không có chức năng như thế đối với phôi và vỏ hạt chỉ phát triển không đáng kể.'}, {'qas': [{'question': 'Họ thực vật có hoa nào quan trọng nhất trong việc cung cấp lương thực?', 'answers': [{'answer_start': 181, 'text': 'Hòa thảo'}], 'id': 'uit_000171', 'is_impossible': False}, {'question': 'Hãy kể tên các loại lương thực?', 'answers': [{'answer_start': 262, 'text': 'lúa, ngô, lúa mì, lúa mạch, kê, yến mạch, lúa mạch đen, mía, lúa miến'}], 'id': 'uit_000172', 'is_impossible': False}, {'question': 'Họ thực vật có hoa nào có vai trò quan trọng đứng sau họ Hoà?', 'answers': [{'answer_start': 346, 'text': 'Đậu'}], 'id': 'uit_000173', 'is_impossible': False}, {'question': 'Táo, đào và mơ thuộc họ thực vật có hoa nào?', 'answers': [{'answer_start': 641, 'text': 'Hoa hồng'}], 'id': 'uit_000174', 'is_impossible': False}, {'question': 'Hạt tiêu thuộc họ thực vật có hoa nào?', 'answers': [{'answer_start': 409, 'text': 'Cà'}], 'id': 'uit_000175', 'is_impossible': False}, {'question': 'Họ thực vật có hoa nào quan trọng nhất trong việc cung cấp dược liệu?', 'answers': [], 'plausible_answers': [{'answer_start': 181, 'text': 'Hòa thảo'}], 'id': 'uit_000176', 'is_impossible': True}, {'question': 'Hãy kể tên các loại dược phẩm?', 'answers': [], 'plausible_answers': [{'answer_start': 262, 'text': 'lúa, ngô, lúa mì, lúa mạch, kê, yến mạch, lúa mạch đen, mía, lúa miến'}], 'id': 'uit_000177', 'is_impossible': True}, {'question': 'Họ thực vật có hoa nào có vai trò quan trọng đứng sau họ Cà?', 'answers': [], 'plausible_answers': [{'answer_start': 346, 'text': 'Đậu'}], 'id': 'uit_000178', 'is_impossible': True}, {'question': 'Hạt hồng thuộc họ  thực vật có hoa nào?', 'answers': [], 'plausible_answers': [{'answer_start': 409, 'text': 'Cà'}], 'id': 'uit_000179', 'is_impossible': True}], 'context': 'Thực vật có hoa cung cấp một tỷ lệ lớn các nguồn thực phẩm cho con người, có thể là trực tiếp hay gián tiếp qua thức ăn cho gia súc, gia cầm. Trong số các họ thực vật có hoa thì họ Hòa thảo (Poaceae) là quan trọng nhất, cung cấp phần lớn các loại lương thực như lúa, ngô, lúa mì, lúa mạch, kê, yến mạch, lúa mạch đen, mía, lúa miến, trong khi họ Đậu (Fabaceae) đứng hàng thứ hai. Các họ quan trọng khác là họ Cà (Solanaceae) với khoai tây, cà chua và hạt tiêu, hay họ Bầu bí (Cucurbitaceae) với bầu, bí, dưa hấu, dưa chuột, hay họ Cải (Brassicaceae), với mù tạc, cải bắp, và họ Hoa tán (Apiaceae). Nhiều loại quả có từ họ Cam (Rutaceae), họ Hoa hồng (Rosaceae) như táo, đào, mơ, mận v.v.'}]}\n"
     ]
    }
   ],
   "source": [
    "print(dataset['data'][1])"
   ]
  },
  {
   "cell_type": "markdown",
   "metadata": {},
   "source": [
    "> Tokenize and remove spaces before punctuation"
   ]
  },
  {
   "cell_type": "code",
   "execution_count": 7,
   "metadata": {},
   "outputs": [],
   "source": [
    "def VnCoreNLP(text):\n",
    "    # Phân tách từ\n",
    "    tokens = ViTokenizer.tokenize(text).split()\n",
    "    # Kết nối các từ với nhau thành chuỗi\n",
    "    p = ' '.join(tokens)\n",
    "    # Loại bỏ khoảng trắng không cần thiết trước các dấu câu\n",
    "    p = re.sub(r'\\s([.,!?;{}()*/])', r'\\1', p)\n",
    "    return p"
   ]
  },
  {
   "cell_type": "markdown",
   "metadata": {},
   "source": [
    "> Execute Function"
   ]
  },
  {
   "cell_type": "code",
   "execution_count": 6,
   "metadata": {},
   "outputs": [
    {
     "name": "stdout",
     "output_type": "stream",
     "text": [
      "Tôi đến từ Việt_Nam, và tôi rất yêu đất_nước này. Chúng_tôi sẽ tổ_chức hội_thảo vào tháng sau tại TP. HCM\n"
     ]
    }
   ],
   "source": [
    "X_train_example = \"Tôi đến từ Việt Nam, và tôi rất yêu đất nước này.Chúng tôi sẽ tổ chức hội thảo vào tháng sau tại TP.HCM\"\n",
    "x_tokenize=VnCoreNLP(X_train_example)\n",
    "print(x_tokenize)"
   ]
  },
  {
   "cell_type": "markdown",
   "metadata": {},
   "source": [
    "> Check Answer"
   ]
  },
  {
   "cell_type": "code",
   "execution_count": 7,
   "metadata": {},
   "outputs": [],
   "source": [
    "def checkAns(answer, context_text):\n",
    "  ans=context_text[answer[\"answer_start\"] : answer[\"answer_start\"]+ len(answer[\"text\"])]\n",
    "  l=ans.replace(\"_\",\" \")\n",
    "  if(l == answer[\"text\"]):\n",
    "    return ans, answer[\"answer_start\"]\n",
    "  else:\n",
    "    firstWord=answer[\"text\"].split(' ')[0]\n",
    "    lenWord=len(firstWord)\n",
    "    for i in range(1,8):\n",
    "      try:\n",
    "        position_1=answer[\"answer_start\"]-i\n",
    "        word=context_text[position_1: position_1+ lenWord]\n",
    "        if(firstWord == word):\n",
    "          return context_text[position_1: position_1+ len(answer[\"text\"])],position_1\n",
    "        position_2=answer[\"answer_start\"]+i\n",
    "        word=context_text[position_2: position_2+ lenWord]\n",
    "        if(firstWord == word):\n",
    "          return context_text[position_2: position_2+ len(answer[\"text\"])],position_2\n",
    "      except:\n",
    "        return ans, answer[\"answer_start\"]\n",
    "    return ans, answer[\"answer_start\"]"
   ]
  },
  {
   "cell_type": "markdown",
   "metadata": {},
   "source": [
    "> Check First_Word and Last_Word"
   ]
  },
  {
   "cell_type": "code",
   "execution_count": 8,
   "metadata": {},
   "outputs": [],
   "source": [
    "def checkTempAns(answer, context_text):\n",
    "  firstWord=answer[\"text\"].split(' ')[0]\n",
    "  lenWord=len(firstWord)\n",
    "  for i in range(1,8):\n",
    "    try:\n",
    "      position_1=answer[\"answer_start\"]-i\n",
    "      word=context_text[position_1: position_1+ lenWord]\n",
    "      if(firstWord == word):\n",
    "        return context_text[position_1: position_1+ len(answer[\"text\"])],position_1\n",
    "      position_2=answer[\"answer_start\"]+i\n",
    "      word=context_text[position_2: position_2+ lenWord]\n",
    "      if(firstWord == word):\n",
    "        return context_text[position_2: position_2+ len(answer[\"text\"])],position_2\n",
    "    except:\n",
    "      return context_text[answer[\"answer_start\"] : answer[\"answer_start\"]+ len(answer[\"text\"])], answer[\"answer_start\"]\n",
    "  return context_text[answer[\"answer_start\"] : answer[\"answer_start\"]+ len(answer[\"text\"])], answer[\"answer_start\"]"
   ]
  },
  {
   "cell_type": "code",
   "execution_count": 9,
   "metadata": {},
   "outputs": [],
   "source": [
    "from tqdm import tqdm\n",
    "class VnCoreSquad(SquadV1Processor):\n",
    "  def _create_examples(self, input_data, set_type):\n",
    "        is_training = set_type == \"train\"\n",
    "        examples = []\n",
    "        demso=0\n",
    "        for entry in tqdm(input_data):\n",
    "            title = entry[\"title\"] \n",
    "            for paragraph in entry[\"paragraphs\"]:\n",
    "                context_text = VnCoreNLP(paragraph[\"context\"])\n",
    "                for qa in paragraph[\"qas\"]:\n",
    "                    qas_id = qa[\"id\"]\n",
    "                    question_text = VnCoreNLP(qa[\"question\"])\n",
    "                    start_position_character = None\n",
    "                    answer_text = None\n",
    "                    answers = []\n",
    "\n",
    "                    is_impossible = qa.get(\"is_impossible\", False)\n",
    "                    if not is_impossible:\n",
    "                        if is_training:\n",
    "                            answer = qa[\"answers\"][0]\n",
    "                            answer_text, start_position_character=checkAns(answer, context_text)\n",
    "                            qa[\"answers\"][0].update({\"text\": answer_text})\n",
    "                            qa[\"answers\"][0].update({\"answer_start\": start_position_character})\n",
    "                        else:\n",
    "                            for k in range(0, len(qa[\"answers\"])):\n",
    "                              ans, start_position=checkTempAns(qa[\"answers\"][k],context_text)\n",
    "                              qa[\"answers\"][k].update({\"text\": ans})\n",
    "                              qa[\"answers\"][k].update({\"answer_start\": start_position})\n",
    "                              \n",
    "                            answers = qa[\"answers\"]\n",
    "                    example = SquadExample(\n",
    "                        qas_id=qas_id,\n",
    "                        question_text=question_text,\n",
    "                        context_text=context_text,\n",
    "                        answer_text=answer_text,\n",
    "                        start_position_character=start_position_character,\n",
    "                        title=title,\n",
    "                        is_impossible=is_impossible,\n",
    "                        answers=answers,\n",
    "                    )\n",
    "                    examples.append(example)\n",
    "        return examples\n",
    "processor = VnCoreSquad()"
   ]
  },
  {
   "cell_type": "markdown",
   "metadata": {},
   "source": [
    "> Excute Function"
   ]
  },
  {
   "cell_type": "code",
   "execution_count": 10,
   "metadata": {},
   "outputs": [
    {
     "name": "stderr",
     "output_type": "stream",
     "text": [
      "100%|██████████| 110/110 [00:54<00:00,  2.01it/s]\n",
      "100%|██████████| 13/13 [00:07<00:00,  1.84it/s]\n"
     ]
    }
   ],
   "source": [
    "train_examples = processor.get_train_examples('','../data/data_origin/data_train/train_vi.json')\n",
    "dev_examples = processor.get_dev_examples('','../data/data_origin/data_train/val_vi.json')"
   ]
  },
  {
   "cell_type": "code",
   "execution_count": 11,
   "metadata": {},
   "outputs": [
    {
     "name": "stdout",
     "output_type": "stream",
     "text": [
      "Training Examples:\n",
      "Question ID: uit_000001\n",
      "Question Text: Tên gọi nào được Phạm Văn Đồng sử_dụng khi làm Phó_chủ_nhiệm cơ_quan Biện sự xứ tại Quế_Lâm?\n",
      "Context Text: Phạm Văn_Đồng( 1 tháng 3 năm 1906 – 29 tháng 4 năm 2000) là Thủ_tướng đầu_tiên của nước Cộng_hòa Xã_ ...\n",
      "Answer Text: Lâm_Bá_Kiệt\n",
      "Start Position: 95\n",
      "Is Impossible: False\n",
      "--------------------------------------------------------------------------------\n",
      "Question ID: uit_000002\n",
      "Question Text: Phạm Văn Đồng giữ chức_vụ gì trong bộ_máy Nhà_nước Cộng_hòa Xã_hội chủ_nghĩa Việt_Nam?\n",
      "Context Text: Phạm Văn_Đồng( 1 tháng 3 năm 1906 – 29 tháng 4 năm 2000) là Thủ_tướng đầu_tiên của nước Cộng_hòa Xã_ ...\n",
      "Answer Text: Thủ_tướng\n",
      "Start Position: 14\n",
      "Is Impossible: False\n",
      "--------------------------------------------------------------------------------\n",
      "Question ID: uit_000003\n",
      "Question Text: Giai_đoạn năm 1955 - 1976, Phạm Văn Đồng nắm giữ chức_vụ gì?\n",
      "Context Text: Phạm Văn_Đồng( 1 tháng 3 năm 1906 – 29 tháng 4 năm 2000) là Thủ_tướng đầu_tiên của nước Cộng_hòa Xã_ ...\n",
      "Answer Text: Thủ_tướng Chính_phủ Việt_Nam Dân_chủ Cộng_hòa\n",
      "Start Position: 46\n",
      "Is Impossible: False\n",
      "--------------------------------------------------------------------------------\n",
      "Question ID: uit_000004\n",
      "Question Text: Tên gọi nào được Phạm Văn Đồng sử_dụng trước khi làm Phó_chủ_nhiệm cơ_quan Biện sự xứ tại Quế_Lâm?\n",
      "Context Text: Phạm Văn_Đồng( 1 tháng 3 năm 1906 – 29 tháng 4 năm 2000) là Thủ_tướng đầu_tiên của nước Cộng_hòa Xã_ ...\n",
      "Answer Text: None\n",
      "Start Position: 0\n",
      "Is Impossible: True\n",
      "--------------------------------------------------------------------------------\n",
      "Question ID: uit_000005\n",
      "Question Text: Hồ Học Lãm giữ chức_vụ gì trong bộ_máy Nhà_nước Cộng_hòa Xã_hội chủ_nghĩa Việt_Nam?\n",
      "Context Text: Phạm Văn_Đồng( 1 tháng 3 năm 1906 – 29 tháng 4 năm 2000) là Thủ_tướng đầu_tiên của nước Cộng_hòa Xã_ ...\n",
      "Answer Text: None\n",
      "Start Position: 0\n",
      "Is Impossible: True\n",
      "--------------------------------------------------------------------------------\n"
     ]
    }
   ],
   "source": [
    "# In ra 5 ví dụ huấn luyện đầu tiên\n",
    "print(\"Training Examples:\")\n",
    "for example in train_examples[:5]:  # In ra 5 ví dụ đầu tiên\n",
    "    print(\"Question ID:\", example.qas_id)\n",
    "    print(\"Question Text:\", example.question_text)\n",
    "    print(\"Context Text:\", example.context_text[:100], \"...\")  # In ra 100 ký tự đầu tiên của context\n",
    "    print(\"Answer Text:\", example.answer_text)\n",
    "    print(\"Start Position:\", example.start_position)\n",
    "    print(\"Is Impossible:\", example.is_impossible)\n",
    "    print(\"-\" * 80)"
   ]
  },
  {
   "cell_type": "markdown",
   "metadata": {},
   "source": [
    "## III. Built Model"
   ]
  },
  {
   "cell_type": "markdown",
   "metadata": {},
   "source": [
    "### 1.Import Model"
   ]
  },
  {
   "cell_type": "code",
   "execution_count": 2,
   "metadata": {},
   "outputs": [
    {
     "name": "stderr",
     "output_type": "stream",
     "text": [
      "Some weights of RobertaForQuestionAnswering were not initialized from the model checkpoint at vinai/phobert-large and are newly initialized: ['qa_outputs.bias', 'qa_outputs.weight']\n",
      "You should probably TRAIN this model on a down-stream task to be able to use it for predictions and inference.\n"
     ]
    }
   ],
   "source": [
    "phobert = AutoModel.from_pretrained(\"vinai/phobert-large\")\n",
    "tokenizer = AutoTokenizer.from_pretrained(\"vinai/phobert-large\")\n",
    "model = RobertaForQuestionAnswering(phobert.config).from_pretrained(\"vinai/phobert-large\")"
   ]
  },
  {
   "cell_type": "markdown",
   "metadata": {},
   "source": [
    "> Embedding tập train"
   ]
  },
  {
   "cell_type": "code",
   "execution_count": 16,
   "metadata": {},
   "outputs": [],
   "source": [
    "train_features, train_dataset = squad_convert_examples_to_features(train_examples, \n",
    "                                                       tokenizer, \n",
    "                                                       max_seq_length = 256, \n",
    "                                                       doc_stride = 81,\n",
    "                                                       max_query_length = 81,\n",
    "                                                       is_training = True,\n",
    "                                                       return_dataset = 'pt',\n",
    "                                                       threads = 10\n",
    "                                                       )"
   ]
  },
  {
   "cell_type": "markdown",
   "metadata": {},
   "source": [
    "> Embedding tập validation"
   ]
  },
  {
   "cell_type": "code",
   "execution_count": null,
   "metadata": {},
   "outputs": [],
   "source": [
    "dev_features, dev_dataset = squad_convert_examples_to_features(dev_examples, \n",
    "                                                       tokenizer, \n",
    "                                                       max_seq_length = 256, \n",
    "                                                       doc_stride = 81,\n",
    "                                                       max_query_length = 81,\n",
    "                                                       is_training = False,\n",
    "                                                       return_dataset = 'pt',\n",
    "                                                       threads = 10\n",
    "                                                       )"
   ]
  },
  {
   "cell_type": "code",
   "execution_count": 9,
   "metadata": {},
   "outputs": [],
   "source": [
    "from torch.utils.tensorboard import SummaryWriter\n",
    "from torch.utils.data import DataLoader, RandomSampler, SequentialSampler\n",
    "from transformers import AdamW, get_linear_schedule_with_warmup\n",
    "from tqdm import trange, tqdm"
   ]
  },
  {
   "cell_type": "code",
   "execution_count": null,
   "metadata": {},
   "outputs": [],
   "source": [
    "import torch\n",
    "\n",
    "def to_list(tensor):\n",
    "    return tensor.detach().cpu().tolist()\n"
   ]
  },
  {
   "cell_type": "markdown",
   "metadata": {},
   "source": [
    "> Evaluation"
   ]
  },
  {
   "cell_type": "code",
   "execution_count": null,
   "metadata": {},
   "outputs": [],
   "source": [
    "device = torch.device('cuda')"
   ]
  },
  {
   "cell_type": "code",
   "execution_count": null,
   "metadata": {},
   "outputs": [],
   "source": [
    "\n",
    "import os\n",
    "def evaluate(model, tokenizer, dev_dataset, dev_examples, dev_features):\n",
    "    eval_sampler = SequentialSampler(dev_dataset)\n",
    "    eval_dataloader = DataLoader(dev_dataset, sampler=eval_sampler, batch_size=40)\n",
    "    all_results = []\n",
    "#     start_time = timeit.default_timer()\n",
    "    for batch in tqdm(eval_dataloader, desc=\"Evaluating\"):\n",
    "        model.eval()\n",
    "        batch = tuple(t.to(device) for t in batch)\n",
    "        with torch.no_grad():\n",
    "            inputs = {\n",
    "                \"input_ids\": batch[0],\n",
    "                \"attention_mask\": batch[1],\n",
    "#                \"token_type_ids\": batch[2],\n",
    "            }\n",
    "            example_indices = batch[3]\n",
    "            outputs = model(**inputs)\n",
    "            output_model = torch.cat((outputs.start_logits, outputs.end_logits), dim=1) # concatenate start_logits and end_logits along batch dimension\n",
    "        for i, example_index in enumerate(example_indices):\n",
    "            eval_feature = dev_features[example_index.item()]\n",
    "            unique_id = int(eval_feature.unique_id)\n",
    "            output = outputs.start_logits[i], outputs.end_logits[i]\n",
    "            if isinstance(output, tuple):  # regular logits\n",
    "                start_logits, end_logits = output\n",
    "            else:  # top k logits\n",
    "                start_logits, end_logits, _, _ = output.chunk(4)\n",
    "            result = SquadResult(unique_id, start_logits.detach().cpu().numpy(), end_logits.detach().cpu().numpy())\n",
    "            all_results.append(result)\n",
    "            # all_results.append(RawResult(unique_id=feature.unique_id, start_logits=start_logits.astype(np.float64), end_logits=end_logits.astype(np.float64)))\n",
    "\n",
    "    \n",
    "    # output_prediction_file = os.path.join(\"./\", \"predictions_{}.json\".format(\"\"))\n",
    "    # output_nbest_file = os.path.join(\"./\", \"nbest_predictions_{}.json\".format(\"\"))\n",
    "    # output_null_log_odds_file = os.path.join(\"./\", \"null_odds_{}.json\".format(\"\"))\n",
    "    predictions = compute_predictions_logits(\n",
    "            dev_examples,\n",
    "            dev_features,\n",
    "            all_results,\n",
    "            20,\n",
    "            128,\n",
    "            False,\n",
    "          None,\n",
    "          None,\n",
    "          None,\n",
    "            True,\n",
    "            False,\n",
    "            0.0,\n",
    "            tokenizer,\n",
    "        )\n",
    "    results = squad_evaluate(dev_examples, predictions)\n",
    "    return results"
   ]
  },
  {
   "cell_type": "markdown",
   "metadata": {},
   "source": [
    "> Fine-tuning"
   ]
  },
  {
   "cell_type": "code",
   "execution_count": null,
   "metadata": {},
   "outputs": [],
   "source": [
    "num_epochs = 4\n",
    "tb_writer = SummaryWriter()\n",
    "train_sampler = RandomSampler(train_dataset)\n",
    "train_dataloader = DataLoader(train_dataset, sampler=train_sampler, batch_size=16)\n",
    "t_total = len(train_dataloader) // 1 * num_epochs\n",
    "\n",
    "output_dir = os.path.join('/content/drive/MyDrive/pho-bert/', 'final_model')\n",
    "no_decay = [\"bias\", \"LayerNorm.weight\"]\n",
    "\n",
    "optimizer_grouped_parameters = [\n",
    "    {\n",
    "        \"params\": [p for n, p in model.named_parameters() if not any(nd in n for nd in no_decay)],\n",
    "        \"weight_decay\": 0,\n",
    "    },\n",
    "    {\"params\": [p for n, p in model.named_parameters() if any(nd in n for nd in no_decay)], \"weight_decay\": 0.0},\n",
    "]\n",
    "optimizer = AdamW(optimizer_grouped_parameters, lr=3e-5, eps = 1e-8)\n",
    "scheduler = get_linear_schedule_with_warmup(\n",
    "    optimizer, num_warmup_steps=814, num_training_steps=t_total\n",
    ")\n",
    "\n",
    "device = torch.device('cuda')\n",
    "\n",
    "model.to(device)\n",
    "\n",
    "global_step = 1\n",
    "epochs_trained = 0\n",
    "steps_trained_in_current_epoch = 0\n",
    "tr_loss, logging_loss = 0.0, 0.0\n",
    "\n",
    "model.zero_grad()\n",
    "train_iterator = trange(\n",
    "    epochs_trained, int(num_epochs), desc=\"Epoch\", disable=-1 not in [-1, 0]\n",
    ")\n",
    "\n",
    "from functools import partial\n",
    "tqdm = partial(tqdm, position=0, leave=True)\n",
    "max_f1 = 0\n",
    "patient = 0\n",
    "for _ in train_iterator:\n",
    "    epoch_iterator = tqdm(train_dataloader, desc=\"Iteration\", disable=False)\n",
    "    for step, batch in enumerate(epoch_iterator):\n",
    "        model.train()\n",
    "        batch = tuple(t.to(device) for t in batch)\n",
    "        \n",
    "        inputs = {\n",
    "            \"input_ids\": batch[0],\n",
    "            \"attention_mask\": batch[1],\n",
    "            \"start_positions\": batch[3],\n",
    "            \"end_positions\": batch[4],\n",
    "        }\n",
    "        \n",
    "        outputs = model(**inputs)\n",
    "        loss = outputs[0]\n",
    "        loss.backward()\n",
    "        tr_loss += loss.item()\n",
    "        torch.nn.utils.clip_grad_norm_(model.parameters(), 1)\n",
    "        optimizer.step()\n",
    "        scheduler.step()\n",
    "        model.zero_grad()\n",
    "        global_step += 1\n",
    "\n",
    "        if global_step % 5000 == 0:\n",
    "            print(\" global_step = %s, average loss = %s\", global_step, tr_loss/global_step)\n",
    "    model.eval()\n",
    "    model_2 = model\n",
    "    tokenizer_2 = tokenizer\n",
    "    results = evaluate(model, tokenizer, dev_dataset, dev_examples, dev_features)\n",
    "    print(\"exact: \" + str(results['exact']))\n",
    "    print(results['f1'])\n",
    "    if results['f1'] >= max_f1:\n",
    "        model_to_save = model.module if hasattr(model, \"module\") else model\n",
    "        model_to_save.save_pretrained(output_dir)\n",
    "        max_f1 = results['f1']\n",
    "        patient = 0\n",
    "    else:\n",
    "        patient = patient+1\n",
    "    if patient == 3:\n",
    "        break\n",
    "\n",
    "del model"
   ]
  },
  {
   "cell_type": "code",
   "execution_count": 10,
   "metadata": {},
   "outputs": [],
   "source": [
    "device = torch.device('cpu')"
   ]
  },
  {
   "cell_type": "code",
   "execution_count": 11,
   "metadata": {},
   "outputs": [],
   "source": [
    "model_2 = RobertaForQuestionAnswering(phobert.config).from_pretrained(\"../final_model\").to(device)\n",
    "tokenizer_2 = AutoTokenizer.from_pretrained(\"vinai/phobert-large\")"
   ]
  },
  {
   "cell_type": "markdown",
   "metadata": {},
   "source": [
    "> PreProcessing Data"
   ]
  },
  {
   "cell_type": "code",
   "execution_count": 19,
   "metadata": {},
   "outputs": [],
   "source": [
    "import string\n",
    "def preprocess_text(text):\n",
    "    # Tách từ\n",
    "    text= VnCoreNLP( text)\n",
    "    # Tạo bảng dịch loại bỏ tất cả dấu câu ngoại trừ \"-\" và \"/\"\n",
    "    exclude_chars = string.punctuation.replace('-', '').replace('/', '').replace('_','').replace('.','')\n",
    "    translator = str.maketrans('', '', exclude_chars)\n",
    "    text_processed = text.translate(translator)\n",
    "    return text_processed\n"
   ]
  },
  {
   "cell_type": "code",
   "execution_count": 25,
   "metadata": {},
   "outputs": [],
   "source": [
    "def split_text(text, max_length=300):\n",
    "    text=VnCoreNLP(text)\n",
    "    words = text.split()  # Tách các từ trong đoạn văn thành danh sách\n",
    "    segments = []\n",
    "    current_segment = \"\"\n",
    "    for word in words:\n",
    "        temp=len(current_segment) + len(word)+1\n",
    "        if temp<= max_length:  # Kiểm tra độ dài của đoạn văn bản\n",
    "            current_segment += word + ' '  # Thêm từ vào đoạn văn bản hiện tại\n",
    "        else:\n",
    "            # Thêm đoạn văn bản vào danh sách các đoạn\n",
    "            segments.append(current_segment.strip())\n",
    "            print(len(current_segment))\n",
    "            current_segment = word + ' '  # Bắt đầu một đoạn mới\n",
    "    if current_segment:\n",
    "        # Thêm đoạn văn bản cuối cùng vào danh sách các đoạn\n",
    "        segments.append(current_segment.strip())\n",
    "    return segments\n",
    "def answer_question(contexts, question):\n",
    "    answers=[]\n",
    "    for context in contexts:\n",
    "        # Tokenize inputs\n",
    "        inputs = tokenizer_2.encode_plus(question, context, add_special_tokens=True, return_tensors=\"pt\")\n",
    "        \n",
    "        # Move inputs tensor to device\n",
    "        inputs = {key: value.to(torch.device('cpu')) for key, value in inputs.items()}\n",
    "        \n",
    "        # Get start and end logits for the answer\n",
    "        with torch.no_grad():\n",
    "            start_logits, end_logits = model_2(**inputs, return_dict=False)\n",
    "        \n",
    "        # Find the answer\n",
    "        start_idx = torch.argmax(start_logits, dim=-1)  \n",
    "        end_idx = torch.argmax(end_logits, dim=-1) + 1\n",
    "  \n",
    "        \n",
    "        # Convert tokens to string\n",
    "        answer_tokens = tokenizer_2.convert_ids_to_tokens(inputs[\"input_ids\"][0][start_idx:end_idx])\n",
    "        answer = tokenizer_2.convert_tokens_to_string(answer_tokens).strip()\n",
    "        answers.append(answer)\n",
    "    return answers"
   ]
  },
  {
   "cell_type": "code",
   "execution_count": 5,
   "metadata": {},
   "outputs": [],
   "source": [
    "from sklearn.feature_extraction.text import TfidfVectorizer\n",
    "import numpy as np\n",
    "\n",
    "def select_best_answer(answers):\n",
    "    answers = [ans for ans in answers if ans.strip()]\n",
    "    if not answers:\n",
    "        return \"\"\n",
    "    vectorizer = TfidfVectorizer()\n",
    "    tfidf_matrix = vectorizer.fit_transform(answers)\n",
    "    tfidf_scores_per_answer = np.sum(tfidf_matrix, axis=1)\n",
    "    best_answer_index = np.argmax(tfidf_scores_per_answer)\n",
    "    best_answer = answers[best_answer_index]\n",
    "    return best_answer\n"
   ]
  },
  {
   "cell_type": "code",
   "execution_count": 28,
   "metadata": {},
   "outputs": [
    {
     "name": "stdout",
     "output_type": "stream",
     "text": [
      "297\n",
      "299\n",
      "294\n",
      "295\n",
      "298\n",
      "300\n",
      "298\n",
      "295\n",
      "294\n",
      "299\n",
      "298\n",
      "296\n",
      "300\n",
      "294\n",
      "294\n",
      "292\n",
      "298\n",
      "299\n",
      "['Bộ Thông_tin và Truyền_thông trả_lời vấn_đề này như sau : Tại Điều 7 Thông_tư số 24/ 2014/ TT - BTTTT ngày 29/ 12/ 2014 của Bộ Thông_tin và Truyền_thông quy_định chi_tiết về hoạt_động quản_lý, cung_cấp và sử_dụng dịch_vụ trò_chơi điện_tử trên mạng quy_định về vật_phẩm ảo, đơn_vị ảo, điểm thưởng,', 'như sau : - Doanh_nghiệp cung_cấp dịch_vụ trò_chơi điện_tử chỉ được khởi tạo các vật_phẩm ảo, đơn_vị ảo, điểm thưởng trong trò_chơi điện_tử theo đúng nội_dung, kịch_bản mà doanh_nghiệp đã báo_cáo trong hồ_sơ được cấp quyết_định phê_duyệt nội_dung, kịch_bản trò_chơi điện_tử và trong báo_cáo định_kỳ', 'của doanh_nghiệp. - Người chơi được dùng điểm thưởng hoặc đơn_vị ảo có trong tài_khoản trò_chơi điện_tử của mình để đổi lấy vật_phẩm ảo do doanh_nghiệp cung_cấp dịch_vụ trò_chơi điện_tử khởi tạo. - Doanh_nghiệp cung_cấp dịch_vụ trò_chơi điện_tử có nghĩa_vụ quản_lý vật_phẩm ảo, đơn_vị ảo, điểm', 'thưởng trong trò_chơi điện_tử theo đúng quy_tắc trò_chơi đã công_bố và phù_hợp với nội_dung, kịch_bản trò_chơi đã được phê_duyệt. - Vật_phẩm ảo, đơn_vị ảo, điểm thưởng chỉ được sử_dụng trong phạm_vi trò_chơi điện_tử và theo đúng mục_đích mà doanh_nghiệp đã báo_cáo. Vật_phẩm ảo, đơn_vị ảo, điểm', 'thưởng không phải là tài_sản, không có giá_trị quy_đổi ngược_lại thành tiền, thẻ thanh_toán, phiếu thưởng hoặc các hiện_vật có giá_trị giao_dịch bên ngoài trò_chơi điện_tử. - Không mua, bán vật_phẩm ảo, đơn_vị ảo, điểm thưởng giữa những người chơi với nhau. Như_vậy, việc các doanh_nghiệp cung_cấp', 'dịch_vụ trò_chơi điện_tử trên mạng khởi tạo các vật_phẩm ảo, đơn_vị ảo, điểm thưởng trong các trò_chơi đã được cấp phép phát_hành để cung_cấp cho người chơi theo đúng nội_dung, kịch_bản mà doanh_nghiệp đã báo_cáo trong hồ_sơ được cấp quyết_định phê_duyệt nội_dung, kịch_bản trò_chơi điện_tử và trong', 'báo_cáo định_kỳ của doanh_nghiệp là phù_hợp quy_định của pháp_luật hiện_hành. Tuy_nhiên, khi cung_cấp dịch_vụ trò_chơi điện_tử trên mạng, các doanh_nghiệp cung_cấp dịch_vụ trò_chơi điện_tử trên mạng và người chơi( người sử_dụng dịch_vụ) phải tuân_thủ đầy_đủ các quy_định tại Điều 7 Thông_tư số 24/', '2014/ TT - BTTTT, các quy_định tại Nghị_định số 72/ 2013/ NĐ - CP, Nghị_định số 27/ 2018/ NĐ - CP và các quy_định của pháp_luật hiện_hành có liên_quan. Trường_hợp nếu vi_phạm sẽ bị xử_lý theo quy_định tại Điểm a, Khoản 6, Điều 104 Nghị_định số 15/ 2020/ NĐ - CP ngày 3/ 2/ 2020 của Chính_phủ về', 'xử_phạt vi_phạm hành_chính trong lĩnh_vực bưu_chính, viễn_thông, tần_số vô_tuyến_điện, công_nghệ thông_tin và giao_dịch điện_tử( sử_dụng vật_phẩm ảo, đơn_vị ảo, điểm thưởng ngoài phạm_vi trò_chơi điện_tử và không theo đúng mục_đích mà doanh_nghiệp đã báo_cáo; quy_đổi ngược_lại thành tiền, thẻ', 'thanh_toán, phiếu thưởng hoặc các hiện_vật có giá_trị giao_dịch bên ngoài trò_chơi điện_tử; mua, bán vật_phẩm ảo, đơn_vị ảo, điểm thưởng giữa những người chơi với nhau). \" 11, Nguyễn_Đình Phúc_Lộc, 12 : 28 01/ 10/ 2022, Quy_định về ghi quê_quán trên giấy khai_sinh, \" Ngày 20/ 9/ 2022, tôi đến UBND', 'phường Tân_Thới_Hoà, quận Tân_Phú, TPHCM làm thủ_tục đăng_ký khai_sinh cho con. Tôi quê_quán ở Bình_Định nhưng nơi sinh ở tại TPHCM, nên theo tôi, trong phần quê_quán của con tôi tại bản khai giấy khai_sinh phải được ghi là TPHCM. Tuy_nhiên cán_bộ hộ_tịch hướng_dẫn tôi phải ghi phần quê_quán trên', 'giấy khai_sinh của con à Bình_Định( theo như phần quê_quán trên giấy căn_cước của tôi) mới tiếp_nhận hồ_sơ. Xin hỏi, việc ghi quê_quán trên bản khai giấy đăng_ký khai_sinh của con tôi thể_hiện thế_nào là đúng? Việc từ_chối tiếp_nhận hồ_sơ đăng_ký khai_sinh với lý_do phần quê_quán không ghi theo', 'hướng_dẫn là đúng quy_định không? \", \" UBND phường Tân_Thới_Hòa, quận Tân_Phú, TPHCM trả_lời vấn_đề này như sau : Ngày 20/ 9/ 2022, bộ_phận tiếp_nhận và hoàn_trả hồ_sơ của UBND phường Tân_Thới_Hòa, quận Tân_Phú, TPHCM tiếp_nhận hồ_sơ yêu_cầu đăng_ký khai_sinh của con ông Nguyễn_Đình Phúc_Lộc là trẻ', 'Nguyễn_Phúc Uyên_Hòa( sinh ngày 10/ 9/ 2022). Trên tờ khai đăng_ký khai_sinh đề_nghị nội_dung quê_quán của Nguyễn_Phúc Uyên_Hòa theo quê_quán của cha là TPHCM. Qua kiểm_tra giấy_tờ, hồ_sơ do ông Lộc cung_cấp thì cha của trẻ Nguyễn_Phúc Uyên_Hòa là ông Nguyễn_Đình Phúc_Lộc có quê_quán Nhơn_Mỹ,', 'thị_xã An_Nhơn, Bình_Định và mẹ Nguyễn_Thị_Hoàn, có quê_quán Trường_Thọ, thành_phố Thủ_Đức, TPHCM. Qua trình_bày của ông Lộc thì quê_quán của trẻ là theo nơi sinh của cha là TPHCM. Cán_bộ tiếp_nhận hồ_sơ đã giải_thích căn_cứ theo quy_định tại Khoản 8 Điều 4Luật Hộ_tịch( có hiệu_lực ngày 1/ 1/', '2016), tại điểm d khoản 1 Điều 4 Nghị định123/ 2015/ NĐ - CPngày 15/ 11/ 2015 của Chính_phủ quy_định chi_tiết một_số điều và biện_pháp thi_hành Luật Hộ_tịch thì : \" \" Quê_quán của người được đăng_ký khai_sinh được xác_định theo quê_quán của cha hoặc mẹ, theo thỏa_thuận của cha, mẹ hoặc theo', 'tập_quán được ghi trong tờ khai khi đăng_ký khai_sinh \" \". Nên trẻ Nguyễn_Phúc Uyên_Hòa_chọn quê_quán theo cha là quê_quán Nhơn_Mỹ, thị_xã An_Nhơn, Bình_Định. Cán_bộ tiếp_nhận hồ_sơ hướng_dẫn phần ghi quê_quán căn_cứ theo quy_định tại khoản 8 Điều 4 Luật Hộ_tịch( có hiệu_lực ngày 1/ 1/ 2016). Tại', 'điểm đ khoản 1 Điều 4 Nghị_định 123/ 2015/ NĐ - CP quy_định, tiếp_nhận hồ_sơ và thực_hiện việc đăng_ký khai_sinh của trẻ theo quy_định. Ngày 23/ 9/ 2022, UBND phường Tân_Thới_Hòa đã liên_hệ ông Lộc để trao_đổi, ghi_nhận lại sự_việc phản_ánh kiến_nghị trên. Qua trao_đổi, ông Lộc thống_nhất việc ghi', 'vào khai_sinh của trẻ Nguyễn_Phúc Uyên_Hòa, phần quê_quán Nhơn_Mỹ, thị_xã An_Nhơn, Bình_Định. Sau buổi trao_đổi, UBND phường Tân_Thới_Hòa đã trả kết_quả khai_sinh gồm bản_chính và bản trích lục khai_sinh cho ông Lộc.']\n",
      "Câu trả lời: ['<s>', '<s>', '<s>', '<s>', '<s>', '<s>', '<s>', '<s>', '<s>', '<s>', '<s>', '<s>', '<s>', '<s>', '<s>', '<s>', '<s>', '<s>', '<s>']\n"
     ]
    }
   ],
   "source": [
    "# Define context and question\n",
    "context = \"\"\"Bộ Thông tin và Truyền thông trả lời vấn đề này như sau:Tại Điều 7 Thông tư số 24/2014/TT-BTTTT ngày 29/12/2014 của Bộ Thông tin và Truyền thông quy định chi tiết về hoạt động quản lý, cung cấp và sử dụng dịch vụ trò chơi điện tử trên mạng quy định về vật phẩm ảo, đơn vị ảo, điểm thưởng, như sau:- Doanh nghiệp cung cấp dịch vụ trò chơi điện tử chỉ được khởi tạo các vật phẩm ảo, đơn vị ảo, điểm thưởng trong trò chơi điện tử theo đúng nội dung, kịch bản mà doanh nghiệp đã báo cáo trong hồ sơ được cấp quyết định phê duyệt nội dung, kịch bản trò chơi điện tử và trong báo cáo định kỳ của doanh nghiệp.- Người chơi được dùng điểm thưởng hoặc đơn vị ảo có trong tài khoản trò chơi điện tử của mình để đổi lấy vật phẩm ảo do doanh nghiệp cung cấp dịch vụ trò chơi điện tử khởi tạo.- Doanh nghiệp cung cấp dịch vụ trò chơi điện tử có nghĩa vụ quản lý vật phẩm ảo, đơn vị ảo, điểm thưởng trong trò chơi điện tử theo đúng quy tắc trò chơi đã công bố và phù hợp với nội dung, kịch bản trò chơi đã được phê duyệt.- Vật phẩm ảo, đơn vị ảo, điểm thưởng chỉ được sử dụng trong phạm vi trò chơi điện tử và theo đúng mục đích mà doanh nghiệp đã báo cáo. Vật phẩm ảo, đơn vị ảo, điểm thưởng không phải là tài sản, không có giá trị quy đổi ngược lại thành tiền, thẻ thanh toán, phiếu thưởng hoặc các hiện vật có giá trị giao dịch bên ngoài trò chơi điện tử.- Không mua, bán vật phẩm ảo, đơn vị ảo, điểm thưởng giữa những người chơi với nhau.Như vậy, việc các doanh nghiệp cung cấp dịch vụ trò chơi điện tử trên mạng khởi tạo các vật phẩm ảo, đơn vị ảo, điểm thưởng trong các trò chơi đã được cấp phép phát hành để cung cấp cho người chơi theo đúng nội dung, kịch bản mà doanh nghiệp đã báo cáo trong hồ sơ được cấp quyết định phê duyệt nội dung, kịch bản trò chơi điện tử và trong báo cáo định kỳ của doanh nghiệp là phù hợp quy định của pháp luật hiện hành.Tuy nhiên, khi cung cấp dịch vụ trò chơi điện tử trên mạng, các doanh nghiệp cung cấp dịch vụ trò chơi điện tử trên mạng và người chơi (người sử dụng dịch vụ) phải tuân thủ đầy đủ các quy định tại Điều 7 Thông tư số 24/2014/TT-BTTTT, các quy định tại Nghị định số 72/2013/NĐ-CP, Nghị định số 27/2018/NĐ-CP và các quy định của pháp luật hiện hành có liên quan. Trường hợp nếu vi phạm sẽ bị xử lý theo quy định tại Điểm a, Khoản 6, Điều 104 Nghị định số 15/2020/NĐ-CP ngày 3/2/2020 của Chính phủ về xử phạt vi phạm hành chính trong lĩnh vực bưu chính, viễn thông, tần số vô tuyến điện, công nghệ thông tin và giao dịch điện tử (sử dụng vật phẩm ảo, đơn vị ảo, điểm thưởng ngoài phạm vi trò chơi điện tử và không theo đúng mục đích mà doanh nghiệp đã báo cáo; quy đổi ngược lại thành tiền, thẻ thanh toán, phiếu thưởng hoặc các hiện vật có giá trị giao dịch bên ngoài trò chơi điện tử; mua, bán vật phẩm ảo, đơn vị ảo, điểm thưởng giữa những người chơi với nhau).\"\n",
    "11,Nguyễn Đình Phúc Lộc,12:28 01/10/2022,Quy định về ghi quê quán trên giấy khai sinh,\"Ngày 20/9/2022, tôi đến UBND phường Tân Thới Hoà, quận Tân Phú, TPHCM làm thủ tục đăng ký khai sinh cho con. Tôi quê quán ở Bình Định nhưng nơi sinh ở tại TPHCM, nên theo tôi, trong phần quê quán của con tôi tại bản khai giấy khai sinh phải được ghi là TPHCM. Tuy nhiên cán bộ hộ tịch hướng dẫn tôi phải ghi phần quê quán trên giấy khai sinh của con à Bình Định (theo như phần quê quán trên giấy căn cước của tôi) mới tiếp nhận hồ sơ.  Xin hỏi, việc ghi quê quán trên bản khai giấy đăng ký khai sinh của con tôi thể hiện thế nào là đúng? Việc từ chối tiếp nhận hồ sơ đăng ký khai sinh với lý do phần quê quán không ghi theo hướng dẫn là đúng quy định không?\",\"UBND phường Tân Thới Hòa, quận Tân Phú, TPHCM trả lời vấn đề này như sau:Ngày  20/9/2022, bộ phận tiếp nhận và hoàn trả hồ sơ của UBND phường Tân Thới  Hòa, quận Tân Phú, TPHCM tiếp nhận hồ sơ yêu cầu đăng ký khai sinh của  con ông Nguyễn Đình Phúc Lộc là trẻ Nguyễn Phúc Uyên Hòa (sinh ngày  10/9/2022).Trên tờ khai đăng ký khai sinh đề nghị nội dung quê  quán của Nguyễn Phúc Uyên Hòa theo quê quán của cha là TPHCM. Qua kiểm  tra giấy tờ, hồ sơ do ông Lộc cung cấp thì cha của trẻ Nguyễn Phúc Uyên  Hòa là ông Nguyễn Đình Phúc Lộc có quê quán Nhơn Mỹ, thị xã An Nhơn,  Bình Định và mẹ Nguyễn Thị Hoàn, có quê quán Trường Thọ, thành phố Thủ  Đức, TPHCM.Qua trình bày của ông Lộc thì quê quán của trẻ là theo  nơi sinh của cha là TPHCM. Cán bộ tiếp nhận hồ sơ đã giải thích căn cứ  theo quy định tại Khoản 8 Điều 4Luật Hộ tịch(có hiệu lực ngày 1/1/2016), tại điểm d khoản 1 Điều 4 Nghị định123/2015/NĐ-CPngày 15/11/2015 của Chính phủ quy định chi tiết một số điều và biện  pháp thi hành Luật Hộ tịch thì: \"\"Quê quán của người được đăng ký khai  sinh được xác định theo quê quán của cha hoặc mẹ, theo thỏa thuận của  cha, mẹ hoặc theo tập quán được ghi trong tờ khai khi đăng ký khai  sinh\"\". Nên trẻ Nguyễn Phúc Uyên Hòa chọn quê quán theo cha là quê quán  Nhơn Mỹ, thị xã An Nhơn, Bình Định.Cán bộ tiếp nhận hồ sơ hướng  dẫn phần ghi quê quán căn cứ theo quy định tại khoản 8 Điều 4 Luật Hộ  tịch (có hiệu lực ngày 1/1/2016). Tại điểm đ khoản 1 Điều 4 Nghị định  123/2015/NĐ-CP quy định, tiếp nhận hồ sơ và thực hiện việc đăng ký khai  sinh của trẻ theo quy định.Ngày 23/9/2022, UBND phường Tân Thới  Hòa đã liên hệ ông Lộc để trao đổi, ghi nhận lại sự việc phản ánh kiến  nghị trên. Qua trao đổi, ông Lộc thống nhất việc ghi vào khai sinh của  trẻ Nguyễn Phúc Uyên Hòa, phần quê quán Nhơn Mỹ, thị xã An Nhơn, Bình  Định. Sau buổi trao đổi, UBND phường Tân Thới Hòa đã trả kết quả khai  sinh gồm bản chính và bản trích lục khai sinh cho ông Lộc.\"\"\"\n",
    "\n",
    "\n",
    "question = \"Ngày 20/9/2022, tôi đến UBND phường Tân Thới Hoà, quận Tân Phú, TPHCM làm thủ tục đăng ký khai sinh cho con. Tôi quê quán ở Bình Định nhưng nơi sinh ở tại TPHCM, nên theo tôi, trong phần quê quán của con tôi tại bản khai giấy khai sinh phải được ghi là TPHCM. Tuy nhiên cán bộ hộ tịch hướng dẫn tôi phải ghi phần quê quán trên giấy khai sinh của con à Bình Định (theo như phần quê quán trên giấy căn cước của tôi) mới tiếp nhận hồ sơ.  Xin hỏi, việc ghi quê quán trên bản khai giấy đăng ký khai sinh của con tôi thể hiện thế nào là đúng? Việc từ chối tiếp nhận hồ sơ đăng ký khai sinh với lý do phần quê quán không ghi theo hướng dẫn là đúng quy định không?\"\n",
    "\n",
    "\n",
    "# Chia văn bản thành các đoạn nhỏ\n",
    "segments = split_text(context)\n",
    "\n",
    "print(segments)\n",
    "# Lấy các câu trả lời từ các đoạn\n",
    "answers = answer_question(segments,question)\n",
    "\n",
    "print(\"Câu trả lời:\",answers)"
   ]
  },
  {
   "cell_type": "markdown",
   "metadata": {},
   "source": [
    "> split the dataset into file train/val/test"
   ]
  },
  {
   "cell_type": "code",
   "execution_count": 8,
   "metadata": {},
   "outputs": [],
   "source": [
    "split_ratio = 0.8  \n",
    "with open('../data/data_origin/data_train/UIT-ViQuAD.json', 'r', encoding='utf-8') as f:\n",
    "    dataset = json.load(f)['data']\n",
    "\n",
    "# Split the dataset into training and validation sets\n",
    "split_index = int(len(dataset) * split_ratio)\n",
    "split_10 = int(len(dataset) * 0.1)\n",
    "train_data = dataset[:split_index]\n",
    "remain = dataset[split_index:]\n",
    "val = remain[:split_10]\n",
    "test = remain[split_10:]\n",
    "# Save the training set to a new file\n",
    "with open('../data/data_origin/data_train/train_vi.json', 'w', encoding='utf-8') as f:\n",
    "    json.dump({'data': train_data}, f, ensure_ascii=False)\n",
    "\n",
    "# Save the validation set to a new file\n",
    "with open('../data/data_origin/data_train/val_vi.json', 'w', encoding='utf-8') as f:\n",
    "    json.dump({'data': val}, f, ensure_ascii=False)\n",
    "\n",
    "    # Save the validation set to a new file\n",
    "with open('../data/data_origin/data_train/test_vi.json', 'w', encoding='utf-8') as f:\n",
    "    json.dump({'data': test}, f, ensure_ascii=False)"
   ]
  }
 ],
 "metadata": {
  "kernelspec": {
   "display_name": "machinelearning-lTTH8rYd",
   "language": "python",
   "name": "python3"
  },
  "language_info": {
   "codemirror_mode": {
    "name": "ipython",
    "version": 3
   },
   "file_extension": ".py",
   "mimetype": "text/x-python",
   "name": "python",
   "nbconvert_exporter": "python",
   "pygments_lexer": "ipython3",
   "version": "3.11.5"
  }
 },
 "nbformat": 4,
 "nbformat_minor": 2
}
